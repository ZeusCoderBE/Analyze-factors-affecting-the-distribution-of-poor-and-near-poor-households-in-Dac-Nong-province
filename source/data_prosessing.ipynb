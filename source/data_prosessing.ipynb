{
 "cells": [
  {
   "cell_type": "markdown",
   "metadata": {},
   "source": [
    "# Mục lục\n",
    "\n",
    "##  1.Import library\n",
    "##  2.Data Processing\n",
    "- [2.1. Import dữ liệu](#21-import-dữ-liệu)\n",
    "  - [2.1.1. HUYỆN CƯ JUT](#211-huyện-cư-jut)\n",
    "  - [2.1.2. HUYỆN DAK GLONG](#212-huyện-dak-glong)\n",
    "  - [2.1.3. HUYỆN DAK MIL](#213-huyện-dak-mil)\n",
    "  - [2.1.4. HUYỆN DAK RLAP](#214-huyện-dak-rlap)\n",
    "  - [2.1.5. HUYỆN DAK SONG](#215-huyện-dak-song)\n",
    "  - [2.1.6. HUYỆN KRONG NO](#216-huyện-krong-no)\n",
    "  - [2.1.7. HUYỆN TUY ĐỨC](#217-huyện-tuy-đức)\n",
    "  - [2.1.8. TP GIA NGHĨA](#218-tp-gia-nghĩa)\n",
    "- [2.2. Tiền xử lý dữ liệu](#22-tiền-xử-lý-dữ-liệu)\n",
    "  - [2.2.1. HUYỆN CƯ JUT](#221-huyện-cư-jut)\n",
    "  - [2.2.2. HUYỆN DAK GLONG](#222-huyện-dak-glong)\n",
    "  - [2.2.3. HUYỆN DAK MIL](#223-huyện-dak-mil)\n",
    "  - [2.2.4. HUYỆN DAK RLAP](#224-huyện-dak-rlap)\n",
    "  - [2.2.5. HUYỆN DAK SONG](#225-huyện-dak-song)\n",
    "  - [2.2.6. HUYỆN KRONG NO](#226-huyện-krong-no)\n",
    "  - [2.2.7. HUYỆN TUY ĐỨC](#227-huyện-tuy-đức)\n",
    "  - [2.2.8. TP GIA NGHĨA](#228-tp-gia-nghĩa)\n"
   ]
  },
  {
   "cell_type": "markdown",
   "metadata": {},
   "source": [
    "## 1.Import library"
   ]
  },
  {
   "cell_type": "code",
   "execution_count": 245,
   "metadata": {},
   "outputs": [],
   "source": [
    "import pandas as pd\n",
    "pd.set_option('display.max_rows', None)\n",
    "from datetime import datetime\n",
    "pd.set_option('display.max_columns', None)"
   ]
  },
  {
   "cell_type": "markdown",
   "metadata": {},
   "source": [
    "## 2.Data Processing\n"
   ]
  },
  {
   "cell_type": "markdown",
   "metadata": {},
   "source": [
    "### 2.1 Import DataSet"
   ]
  },
  {
   "cell_type": "markdown",
   "metadata": {},
   "source": [
    "####  2.1.1 HUYỆN CU JUT"
   ]
  },
  {
   "cell_type": "code",
   "execution_count": 246,
   "metadata": {},
   "outputs": [],
   "source": [
    "df_huyen_cu_jut=pd.read_excel('../data_origin/HUYỆN CƯ JUT.xlsx')"
   ]
  },
  {
   "cell_type": "markdown",
   "metadata": {},
   "source": [
    "> năm dòng đầu tiên"
   ]
  },
  {
   "cell_type": "code",
   "execution_count": 247,
   "metadata": {},
   "outputs": [
    {
     "data": {
      "text/html": [
       "<div>\n",
       "<style scoped>\n",
       "    .dataframe tbody tr th:only-of-type {\n",
       "        vertical-align: middle;\n",
       "    }\n",
       "\n",
       "    .dataframe tbody tr th {\n",
       "        vertical-align: top;\n",
       "    }\n",
       "\n",
       "    .dataframe thead th {\n",
       "        text-align: right;\n",
       "    }\n",
       "</style>\n",
       "<table border=\"1\" class=\"dataframe\">\n",
       "  <thead>\n",
       "    <tr style=\"text-align: right;\">\n",
       "      <th></th>\n",
       "      <th>Unnamed: 0</th>\n",
       "      <th>STT_HO</th>\n",
       "      <th>STT</th>\n",
       "      <th>HO_TEN_CHU_HO</th>\n",
       "      <th>HO_TEN_THANH_VIEN</th>\n",
       "      <th>QUANHE\\n_CHUHO</th>\n",
       "      <th>NGAY_SINH</th>\n",
       "      <th>NGAY_SINH.1</th>\n",
       "      <th>Unnamed: 8</th>\n",
       "      <th>Unnamed: 9</th>\n",
       "      <th>Unnamed: 10</th>\n",
       "      <th>Unnamed: 11</th>\n",
       "      <th>GIOI_TINH</th>\n",
       "      <th>SO_CCCD</th>\n",
       "      <th>TINH</th>\n",
       "      <th>HUYEN</th>\n",
       "      <th>XA</th>\n",
       "      <th>THÔN TỔ ẤP</th>\n",
       "      <th>DAN \\nTOC</th>\n",
       "      <th>PHAN_\\nLOAI_HO</th>\n",
       "      <th>KET_QUA</th>\n",
       "      <th>GHI_CHU</th>\n",
       "      <th>DC_DINHDANH</th>\n",
       "      <th>DC_CMND</th>\n",
       "      <th>Unnamed: 24</th>\n",
       "      <th>Unnamed: 25</th>\n",
       "    </tr>\n",
       "  </thead>\n",
       "  <tbody>\n",
       "    <tr>\n",
       "      <th>0</th>\n",
       "      <td>1</td>\n",
       "      <td>1.0</td>\n",
       "      <td>1</td>\n",
       "      <td>TRƯƠNG THỊ LÙN</td>\n",
       "      <td>TRƯƠNG THỊ LÙN</td>\n",
       "      <td>1.0</td>\n",
       "      <td>22/04/1905</td>\n",
       "      <td>22</td>\n",
       "      <td>4.0</td>\n",
       "      <td>/</td>\n",
       "      <td>1905.0</td>\n",
       "      <td>NaN</td>\n",
       "      <td>2.0</td>\n",
       "      <td>054139002355</td>\n",
       "      <td>ĐẮK NÔNG</td>\n",
       "      <td>CƯ JUT</td>\n",
       "      <td>TÂM THẮNG</td>\n",
       "      <td>NaN</td>\n",
       "      <td>1</td>\n",
       "      <td>1</td>\n",
       "      <td>TIM THAY THEO CCCD</td>\n",
       "      <td>NaN</td>\n",
       "      <td>054139002355</td>\n",
       "      <td>245119301</td>\n",
       "      <td>NaN</td>\n",
       "      <td>NaN</td>\n",
       "    </tr>\n",
       "    <tr>\n",
       "      <th>1</th>\n",
       "      <td>2</td>\n",
       "      <td>2.0</td>\n",
       "      <td>2</td>\n",
       "      <td>HOÀNG VĂN TRƯỜNG</td>\n",
       "      <td>HOÀNG VĂN TRƯỜNG</td>\n",
       "      <td>1.0</td>\n",
       "      <td>02/06/1905</td>\n",
       "      <td>02</td>\n",
       "      <td>6.0</td>\n",
       "      <td>/</td>\n",
       "      <td>1905.0</td>\n",
       "      <td>NaN</td>\n",
       "      <td>1.0</td>\n",
       "      <td>036080016941</td>\n",
       "      <td>ĐẮK NÔNG</td>\n",
       "      <td>CƯ JUT</td>\n",
       "      <td>TÂM THẮNG</td>\n",
       "      <td>NaN</td>\n",
       "      <td>1</td>\n",
       "      <td>1</td>\n",
       "      <td>TIM THAY THEO CCCD</td>\n",
       "      <td>NaN</td>\n",
       "      <td>036080016941</td>\n",
       "      <td>245119293</td>\n",
       "      <td>NaN</td>\n",
       "      <td>NaN</td>\n",
       "    </tr>\n",
       "    <tr>\n",
       "      <th>2</th>\n",
       "      <td>3</td>\n",
       "      <td>NaN</td>\n",
       "      <td>3</td>\n",
       "      <td>HOÀNG VĂN TRƯỜNG</td>\n",
       "      <td>PHẠM THỊ SOI</td>\n",
       "      <td>2.0</td>\n",
       "      <td>03/06/1905</td>\n",
       "      <td>03</td>\n",
       "      <td>6.0</td>\n",
       "      <td>/</td>\n",
       "      <td>1905.0</td>\n",
       "      <td>NaN</td>\n",
       "      <td>2.0</td>\n",
       "      <td>036181021986</td>\n",
       "      <td>ĐẮK NÔNG</td>\n",
       "      <td>CƯ JUT</td>\n",
       "      <td>TÂM THẮNG</td>\n",
       "      <td>NaN</td>\n",
       "      <td>1</td>\n",
       "      <td>1</td>\n",
       "      <td>TIM THAY THEO CMND</td>\n",
       "      <td>NaN</td>\n",
       "      <td>036181021986</td>\n",
       "      <td>245434228</td>\n",
       "      <td>NaN</td>\n",
       "      <td>NaN</td>\n",
       "    </tr>\n",
       "    <tr>\n",
       "      <th>3</th>\n",
       "      <td>4</td>\n",
       "      <td>NaN</td>\n",
       "      <td>4</td>\n",
       "      <td>HOÀNG VĂN TRƯỜNG</td>\n",
       "      <td>HOÀNG THỊ BẢO THI</td>\n",
       "      <td>3.0</td>\n",
       "      <td>03/07/1905</td>\n",
       "      <td>03</td>\n",
       "      <td>7.0</td>\n",
       "      <td>/</td>\n",
       "      <td>1905.0</td>\n",
       "      <td>NaN</td>\n",
       "      <td>2.0</td>\n",
       "      <td>067311001529</td>\n",
       "      <td>ĐẮK NÔNG</td>\n",
       "      <td>CƯ JUT</td>\n",
       "      <td>TÂM THẮNG</td>\n",
       "      <td>NaN</td>\n",
       "      <td>1</td>\n",
       "      <td>1</td>\n",
       "      <td>TIM THAY THEO HO TEN, NAMSINH, TINH, HUYEN, XA</td>\n",
       "      <td>NaN</td>\n",
       "      <td>067311001529</td>\n",
       "      <td>NaN</td>\n",
       "      <td>NaN</td>\n",
       "      <td>NaN</td>\n",
       "    </tr>\n",
       "    <tr>\n",
       "      <th>4</th>\n",
       "      <td>5</td>\n",
       "      <td>NaN</td>\n",
       "      <td>5</td>\n",
       "      <td>HOÀNG VĂN TRƯỜNG</td>\n",
       "      <td>HOÀNG KỲ ANH</td>\n",
       "      <td>3.0</td>\n",
       "      <td>05/07/1905</td>\n",
       "      <td>05</td>\n",
       "      <td>7.0</td>\n",
       "      <td>/</td>\n",
       "      <td>1905.0</td>\n",
       "      <td>NaN</td>\n",
       "      <td>1.0</td>\n",
       "      <td>067213007898</td>\n",
       "      <td>ĐẮK NÔNG</td>\n",
       "      <td>CƯ JUT</td>\n",
       "      <td>TÂM THẮNG</td>\n",
       "      <td>NaN</td>\n",
       "      <td>1</td>\n",
       "      <td>1</td>\n",
       "      <td>TIM THAY THEO HO TEN, NAMSINH, TINH, HUYEN, XA</td>\n",
       "      <td>NaN</td>\n",
       "      <td>067213007898</td>\n",
       "      <td>NaN</td>\n",
       "      <td>NaN</td>\n",
       "      <td>NaN</td>\n",
       "    </tr>\n",
       "  </tbody>\n",
       "</table>\n",
       "</div>"
      ],
      "text/plain": [
       "   Unnamed: 0  STT_HO  STT     HO_TEN_CHU_HO  HO_TEN_THANH_VIEN  \\\n",
       "0           1     1.0    1    TRƯƠNG THỊ LÙN     TRƯƠNG THỊ LÙN   \n",
       "1           2     2.0    2  HOÀNG VĂN TRƯỜNG   HOÀNG VĂN TRƯỜNG   \n",
       "2           3     NaN    3  HOÀNG VĂN TRƯỜNG       PHẠM THỊ SOI   \n",
       "3           4     NaN    4  HOÀNG VĂN TRƯỜNG  HOÀNG THỊ BẢO THI   \n",
       "4           5     NaN    5  HOÀNG VĂN TRƯỜNG       HOÀNG KỲ ANH   \n",
       "\n",
       "   QUANHE\\n_CHUHO   NGAY_SINH NGAY_SINH.1  Unnamed: 8 Unnamed: 9  Unnamed: 10  \\\n",
       "0             1.0  22/04/1905          22         4.0          /       1905.0   \n",
       "1             1.0  02/06/1905          02         6.0          /       1905.0   \n",
       "2             2.0  03/06/1905          03         6.0          /       1905.0   \n",
       "3             3.0  03/07/1905          03         7.0          /       1905.0   \n",
       "4             3.0  05/07/1905          05         7.0          /       1905.0   \n",
       "\n",
       "   Unnamed: 11  GIOI_TINH       SO_CCCD      TINH   HUYEN         XA  \\\n",
       "0          NaN        2.0  054139002355  ĐẮK NÔNG  CƯ JUT  TÂM THẮNG   \n",
       "1          NaN        1.0  036080016941  ĐẮK NÔNG  CƯ JUT  TÂM THẮNG   \n",
       "2          NaN        2.0  036181021986  ĐẮK NÔNG  CƯ JUT  TÂM THẮNG   \n",
       "3          NaN        2.0  067311001529  ĐẮK NÔNG  CƯ JUT  TÂM THẮNG   \n",
       "4          NaN        1.0  067213007898  ĐẮK NÔNG  CƯ JUT  TÂM THẮNG   \n",
       "\n",
       "   THÔN TỔ ẤP DAN \\nTOC  PHAN_\\nLOAI_HO  \\\n",
       "0         NaN         1               1   \n",
       "1         NaN         1               1   \n",
       "2         NaN         1               1   \n",
       "3         NaN         1               1   \n",
       "4         NaN         1               1   \n",
       "\n",
       "                                          KET_QUA GHI_CHU   DC_DINHDANH  \\\n",
       "0                              TIM THAY THEO CCCD     NaN  054139002355   \n",
       "1                              TIM THAY THEO CCCD     NaN  036080016941   \n",
       "2                              TIM THAY THEO CMND     NaN  036181021986   \n",
       "3  TIM THAY THEO HO TEN, NAMSINH, TINH, HUYEN, XA     NaN  067311001529   \n",
       "4  TIM THAY THEO HO TEN, NAMSINH, TINH, HUYEN, XA     NaN  067213007898   \n",
       "\n",
       "     DC_CMND  Unnamed: 24 Unnamed: 25  \n",
       "0  245119301          NaN         NaN  \n",
       "1  245119293          NaN         NaN  \n",
       "2  245434228          NaN         NaN  \n",
       "3        NaN          NaN         NaN  \n",
       "4        NaN          NaN         NaN  "
      ]
     },
     "execution_count": 247,
     "metadata": {},
     "output_type": "execute_result"
    }
   ],
   "source": [
    "df_huyen_cu_jut.head(5)"
   ]
  },
  {
   "cell_type": "code",
   "execution_count": 248,
   "metadata": {},
   "outputs": [
    {
     "data": {
      "text/plain": [
       "Index(['Unnamed: 0', 'STT_HO', 'STT', 'HO_TEN_CHU_HO', 'HO_TEN_THANH_VIEN',\n",
       "       'QUANHE\\n_CHUHO', 'NGAY_SINH', 'NGAY_SINH.1', 'Unnamed: 8',\n",
       "       'Unnamed: 9', 'Unnamed: 10', 'Unnamed: 11', 'GIOI_TINH', 'SO_CCCD',\n",
       "       'TINH', 'HUYEN', 'XA', 'THÔN TỔ ẤP', 'DAN \\nTOC', 'PHAN_\\nLOAI_HO',\n",
       "       'KET_QUA', 'GHI_CHU', 'DC_DINHDANH', 'DC_CMND', 'Unnamed: 24',\n",
       "       'Unnamed: 25'],\n",
       "      dtype='object')"
      ]
     },
     "execution_count": 248,
     "metadata": {},
     "output_type": "execute_result"
    }
   ],
   "source": [
    "df_huyen_cu_jut.columns"
   ]
  },
  {
   "cell_type": "code",
   "execution_count": 249,
   "metadata": {},
   "outputs": [
    {
     "data": {
      "text/plain": [
       "(11841, 26)"
      ]
     },
     "execution_count": 249,
     "metadata": {},
     "output_type": "execute_result"
    }
   ],
   "source": [
    "df_huyen_cu_jut.shape"
   ]
  },
  {
   "cell_type": "markdown",
   "metadata": {},
   "source": [
    "- ##### Bộ dữ liệu về huyện cư jut có tổng cộng 11 841 dòng và 26 thuộc tính"
   ]
  },
  {
   "cell_type": "markdown",
   "metadata": {},
   "source": [
    "####  2.1.2 HUYỆN DAK GLONG"
   ]
  },
  {
   "cell_type": "code",
   "execution_count": 250,
   "metadata": {},
   "outputs": [],
   "source": [
    "df_huyen_dak_glong=pd.read_excel(\"../data_origin/Huyện Đắk Glong.xlsx\")"
   ]
  },
  {
   "cell_type": "markdown",
   "metadata": {},
   "source": [
    "> 5 dòng đầu tiên"
   ]
  },
  {
   "cell_type": "code",
   "execution_count": 251,
   "metadata": {},
   "outputs": [
    {
     "data": {
      "text/html": [
       "<div>\n",
       "<style scoped>\n",
       "    .dataframe tbody tr th:only-of-type {\n",
       "        vertical-align: middle;\n",
       "    }\n",
       "\n",
       "    .dataframe tbody tr th {\n",
       "        vertical-align: top;\n",
       "    }\n",
       "\n",
       "    .dataframe thead th {\n",
       "        text-align: right;\n",
       "    }\n",
       "</style>\n",
       "<table border=\"1\" class=\"dataframe\">\n",
       "  <thead>\n",
       "    <tr style=\"text-align: right;\">\n",
       "      <th></th>\n",
       "      <th>Unnamed: 0</th>\n",
       "      <th>STT_HO</th>\n",
       "      <th>STT</th>\n",
       "      <th>HO_TEN_CHU_HO</th>\n",
       "      <th>HO_TEN_THANH_VIEN</th>\n",
       "      <th>QUANHE_CHUHO</th>\n",
       "      <th>NGAY_SINH</th>\n",
       "      <th>Unnamed: 7</th>\n",
       "      <th>Unnamed: 8</th>\n",
       "      <th>Unnamed: 9</th>\n",
       "      <th>Unnamed: 10</th>\n",
       "      <th>Unnamed: 11</th>\n",
       "      <th>GIOI_TINH</th>\n",
       "      <th>SO_CCCD</th>\n",
       "      <th>TINH</th>\n",
       "      <th>HUYEN</th>\n",
       "      <th>XA</th>\n",
       "      <th>DANTOC</th>\n",
       "      <th>PHAN_LOAI_HO</th>\n",
       "      <th>KET_QUA</th>\n",
       "      <th>DC_DINHDANH</th>\n",
       "      <th>DC_CMND</th>\n",
       "      <th>GHI_CHU</th>\n",
       "    </tr>\n",
       "  </thead>\n",
       "  <tbody>\n",
       "    <tr>\n",
       "      <th>0</th>\n",
       "      <td>1</td>\n",
       "      <td>1</td>\n",
       "      <td>1</td>\n",
       "      <td>H' MĂNG (B)</td>\n",
       "      <td>H' MĂNG (B)</td>\n",
       "      <td>1.0</td>\n",
       "      <td>1962-10-09</td>\n",
       "      <td>NaN</td>\n",
       "      <td>NaN</td>\n",
       "      <td>NaN</td>\n",
       "      <td>NaN</td>\n",
       "      <td>NaN</td>\n",
       "      <td>2.0</td>\n",
       "      <td>067162002471</td>\n",
       "      <td>ĐẮK NÔNG</td>\n",
       "      <td>ĐẮK GLONG</td>\n",
       "      <td>ĐẮK PLAO</td>\n",
       "      <td>28.0</td>\n",
       "      <td>1</td>\n",
       "      <td>TIM THAY THEO CCCD</td>\n",
       "      <td>6.716200e+10</td>\n",
       "      <td>245076818.0</td>\n",
       "      <td>LECH THONG TIN HO TEN, NGAY SINH</td>\n",
       "    </tr>\n",
       "    <tr>\n",
       "      <th>1</th>\n",
       "      <td>2</td>\n",
       "      <td>NaN</td>\n",
       "      <td>2</td>\n",
       "      <td>H' MĂNG (B)</td>\n",
       "      <td>H' VÂN</td>\n",
       "      <td>3.0</td>\n",
       "      <td>18/03/1993</td>\n",
       "      <td>NaN</td>\n",
       "      <td>NaN</td>\n",
       "      <td>NaN</td>\n",
       "      <td>NaN</td>\n",
       "      <td>NaN</td>\n",
       "      <td>2.0</td>\n",
       "      <td>067193004039</td>\n",
       "      <td>ĐẮK NÔNG</td>\n",
       "      <td>ĐẮK GLONG</td>\n",
       "      <td>ĐẮK PLAO</td>\n",
       "      <td>28.0</td>\n",
       "      <td>1</td>\n",
       "      <td>TIM THAY THEO CCCD</td>\n",
       "      <td>6.719300e+10</td>\n",
       "      <td>245286801.0</td>\n",
       "      <td>NaN</td>\n",
       "    </tr>\n",
       "    <tr>\n",
       "      <th>2</th>\n",
       "      <td>3</td>\n",
       "      <td>NaN</td>\n",
       "      <td>3</td>\n",
       "      <td>H' MĂNG (B)</td>\n",
       "      <td>K' LINH</td>\n",
       "      <td>3.0</td>\n",
       "      <td>15/07/1995</td>\n",
       "      <td>NaN</td>\n",
       "      <td>NaN</td>\n",
       "      <td>NaN</td>\n",
       "      <td>NaN</td>\n",
       "      <td>NaN</td>\n",
       "      <td>1.0</td>\n",
       "      <td>067095003896</td>\n",
       "      <td>ĐẮK NÔNG</td>\n",
       "      <td>ĐẮK GLONG</td>\n",
       "      <td>ĐẮK PLAO</td>\n",
       "      <td>28.0</td>\n",
       "      <td>1</td>\n",
       "      <td>TIM THAY THEO CCCD</td>\n",
       "      <td>6.709500e+10</td>\n",
       "      <td>245316352.0</td>\n",
       "      <td>NaN</td>\n",
       "    </tr>\n",
       "    <tr>\n",
       "      <th>3</th>\n",
       "      <td>4</td>\n",
       "      <td>NaN</td>\n",
       "      <td>4</td>\n",
       "      <td>H' MĂNG (B)</td>\n",
       "      <td>H' LUẪN</td>\n",
       "      <td>3.0</td>\n",
       "      <td>1998-10-04</td>\n",
       "      <td>NaN</td>\n",
       "      <td>NaN</td>\n",
       "      <td>NaN</td>\n",
       "      <td>NaN</td>\n",
       "      <td>NaN</td>\n",
       "      <td>2.0</td>\n",
       "      <td>067198003486</td>\n",
       "      <td>ĐẮK NÔNG</td>\n",
       "      <td>ĐẮK GLONG</td>\n",
       "      <td>ĐẮK PLAO</td>\n",
       "      <td>28.0</td>\n",
       "      <td>1</td>\n",
       "      <td>TIM THAY THEO CCCD</td>\n",
       "      <td>6.719800e+10</td>\n",
       "      <td>245317786.0</td>\n",
       "      <td>NaN</td>\n",
       "    </tr>\n",
       "    <tr>\n",
       "      <th>4</th>\n",
       "      <td>5</td>\n",
       "      <td>NaN</td>\n",
       "      <td>5</td>\n",
       "      <td>H' MĂNG (B)</td>\n",
       "      <td>ĐỖ K' TUẤN ANH</td>\n",
       "      <td>5.0</td>\n",
       "      <td>2014-05-03</td>\n",
       "      <td>NaN</td>\n",
       "      <td>NaN</td>\n",
       "      <td>NaN</td>\n",
       "      <td>NaN</td>\n",
       "      <td>NaN</td>\n",
       "      <td>1.0</td>\n",
       "      <td>067214003650</td>\n",
       "      <td>ĐẮK NÔNG</td>\n",
       "      <td>ĐẮK GLONG</td>\n",
       "      <td>ĐẮK PLAO</td>\n",
       "      <td>28.0</td>\n",
       "      <td>1</td>\n",
       "      <td>TIM THAY THEO CCCD</td>\n",
       "      <td>6.721400e+10</td>\n",
       "      <td>NaN</td>\n",
       "      <td>NaN</td>\n",
       "    </tr>\n",
       "  </tbody>\n",
       "</table>\n",
       "</div>"
      ],
      "text/plain": [
       "   Unnamed: 0 STT_HO  STT HO_TEN_CHU_HO HO_TEN_THANH_VIEN  QUANHE_CHUHO  \\\n",
       "0           1      1    1   H' MĂNG (B)       H' MĂNG (B)           1.0   \n",
       "1           2    NaN    2   H' MĂNG (B)            H' VÂN           3.0   \n",
       "2           3    NaN    3   H' MĂNG (B)           K' LINH           3.0   \n",
       "3           4    NaN    4   H' MĂNG (B)           H' LUẪN           3.0   \n",
       "4           5    NaN    5   H' MĂNG (B)    ĐỖ K' TUẤN ANH           5.0   \n",
       "\n",
       "    NGAY_SINH  Unnamed: 7  Unnamed: 8  Unnamed: 9  Unnamed: 10  Unnamed: 11  \\\n",
       "0  1962-10-09         NaN         NaN         NaN          NaN          NaN   \n",
       "1  18/03/1993         NaN         NaN         NaN          NaN          NaN   \n",
       "2  15/07/1995         NaN         NaN         NaN          NaN          NaN   \n",
       "3  1998-10-04         NaN         NaN         NaN          NaN          NaN   \n",
       "4  2014-05-03         NaN         NaN         NaN          NaN          NaN   \n",
       "\n",
       "   GIOI_TINH       SO_CCCD      TINH      HUYEN        XA  DANTOC  \\\n",
       "0        2.0  067162002471  ĐẮK NÔNG  ĐẮK GLONG  ĐẮK PLAO    28.0   \n",
       "1        2.0  067193004039  ĐẮK NÔNG  ĐẮK GLONG  ĐẮK PLAO    28.0   \n",
       "2        1.0  067095003896  ĐẮK NÔNG  ĐẮK GLONG  ĐẮK PLAO    28.0   \n",
       "3        2.0  067198003486  ĐẮK NÔNG  ĐẮK GLONG  ĐẮK PLAO    28.0   \n",
       "4        1.0  067214003650  ĐẮK NÔNG  ĐẮK GLONG  ĐẮK PLAO    28.0   \n",
       "\n",
       "   PHAN_LOAI_HO             KET_QUA   DC_DINHDANH      DC_CMND  \\\n",
       "0             1  TIM THAY THEO CCCD  6.716200e+10  245076818.0   \n",
       "1             1  TIM THAY THEO CCCD  6.719300e+10  245286801.0   \n",
       "2             1  TIM THAY THEO CCCD  6.709500e+10  245316352.0   \n",
       "3             1  TIM THAY THEO CCCD  6.719800e+10  245317786.0   \n",
       "4             1  TIM THAY THEO CCCD  6.721400e+10          NaN   \n",
       "\n",
       "                            GHI_CHU  \n",
       "0  LECH THONG TIN HO TEN, NGAY SINH  \n",
       "1                               NaN  \n",
       "2                               NaN  \n",
       "3                               NaN  \n",
       "4                               NaN  "
      ]
     },
     "execution_count": 251,
     "metadata": {},
     "output_type": "execute_result"
    }
   ],
   "source": [
    "df_huyen_dak_glong.head(5)"
   ]
  },
  {
   "cell_type": "code",
   "execution_count": 252,
   "metadata": {},
   "outputs": [
    {
     "data": {
      "text/plain": [
       "Index(['Unnamed: 0', 'STT_HO', 'STT', 'HO_TEN_CHU_HO', 'HO_TEN_THANH_VIEN',\n",
       "       'QUANHE_CHUHO', 'NGAY_SINH', 'Unnamed: 7', 'Unnamed: 8', 'Unnamed: 9',\n",
       "       'Unnamed: 10', 'Unnamed: 11', 'GIOI_TINH', 'SO_CCCD', 'TINH', 'HUYEN',\n",
       "       'XA', 'DANTOC', 'PHAN_LOAI_HO', 'KET_QUA', 'DC_DINHDANH', 'DC_CMND',\n",
       "       'GHI_CHU'],\n",
       "      dtype='object')"
      ]
     },
     "execution_count": 252,
     "metadata": {},
     "output_type": "execute_result"
    }
   ],
   "source": [
    "df_huyen_dak_glong.columns"
   ]
  },
  {
   "cell_type": "code",
   "execution_count": 253,
   "metadata": {},
   "outputs": [
    {
     "data": {
      "text/plain": [
       "(37427, 23)"
      ]
     },
     "execution_count": 253,
     "metadata": {},
     "output_type": "execute_result"
    }
   ],
   "source": [
    "df_huyen_dak_glong.shape"
   ]
  },
  {
   "cell_type": "markdown",
   "metadata": {},
   "source": [
    "- ##### Bộ dữ liệu về huyện Dắk Glong có tổng cộng 37 427 và 23 thuộc tính\n"
   ]
  },
  {
   "cell_type": "markdown",
   "metadata": {},
   "source": [
    "#### 2.1.3 HUYỆN DAK MIL "
   ]
  },
  {
   "cell_type": "code",
   "execution_count": 254,
   "metadata": {},
   "outputs": [],
   "source": [
    "df_huyen_dak_mil = pd.read_excel(\"../data_origin/HUYỆN DAK MIL.xlsx\",sheet_name='Tổng hợp')"
   ]
  },
  {
   "cell_type": "markdown",
   "metadata": {},
   "source": [
    "> 5 dòng đầu tiên"
   ]
  },
  {
   "cell_type": "code",
   "execution_count": 255,
   "metadata": {},
   "outputs": [
    {
     "data": {
      "text/html": [
       "<div>\n",
       "<style scoped>\n",
       "    .dataframe tbody tr th:only-of-type {\n",
       "        vertical-align: middle;\n",
       "    }\n",
       "\n",
       "    .dataframe tbody tr th {\n",
       "        vertical-align: top;\n",
       "    }\n",
       "\n",
       "    .dataframe thead th {\n",
       "        text-align: right;\n",
       "    }\n",
       "</style>\n",
       "<table border=\"1\" class=\"dataframe\">\n",
       "  <thead>\n",
       "    <tr style=\"text-align: right;\">\n",
       "      <th></th>\n",
       "      <th>NAM RA SOAT</th>\n",
       "      <th>STT_HO</th>\n",
       "      <th>STT</th>\n",
       "      <th>LOẠI HỘ</th>\n",
       "      <th>Khu vực</th>\n",
       "      <th>MÃ THÔN</th>\n",
       "      <th>THÔN</th>\n",
       "      <th>HO_TEN_CHU_HO</th>\n",
       "      <th>HO_TEN_THANH_VIEN</th>\n",
       "      <th>SO_CCCD</th>\n",
       "      <th>QUANHE_CHUHO</th>\n",
       "      <th>NGAY_SINH</th>\n",
       "      <th>Tháng</th>\n",
       "      <th>Ngày</th>\n",
       "      <th>DANTOC</th>\n",
       "      <th>GIOI_TINH</th>\n",
       "      <th>TINH</th>\n",
       "      <th>PHAN_LOAI_HO</th>\n",
       "      <th>HUYEN</th>\n",
       "      <th>XA</th>\n",
       "    </tr>\n",
       "  </thead>\n",
       "  <tbody>\n",
       "    <tr>\n",
       "      <th>0</th>\n",
       "      <td>2022</td>\n",
       "      <td>1.0</td>\n",
       "      <td>1</td>\n",
       "      <td>NEW</td>\n",
       "      <td>COUNTRYSIDE</td>\n",
       "      <td>tdp1-dakmil</td>\n",
       "      <td>TỔ DÂN PHỐ 01</td>\n",
       "      <td>LÊ THỊ LINH</td>\n",
       "      <td>LÊ THỊ LINH</td>\n",
       "      <td>40173037183</td>\n",
       "      <td>HEAD</td>\n",
       "      <td>1973.0</td>\n",
       "      <td>10</td>\n",
       "      <td>9.0</td>\n",
       "      <td>KIN</td>\n",
       "      <td>FEMALE</td>\n",
       "      <td>ĐẮK NÔNG</td>\n",
       "      <td>POOR</td>\n",
       "      <td>Đắk Mil</td>\n",
       "      <td>Thị trấn Đắk Mil</td>\n",
       "    </tr>\n",
       "    <tr>\n",
       "      <th>1</th>\n",
       "      <td>2022</td>\n",
       "      <td>NaN</td>\n",
       "      <td>2</td>\n",
       "      <td>NEW</td>\n",
       "      <td>COUNTRYSIDE</td>\n",
       "      <td>tdp1-dakmil</td>\n",
       "      <td>TỔ DÂN PHỐ 01</td>\n",
       "      <td>LÊ THỊ LINH</td>\n",
       "      <td>ĐOÀN THỊ ANH THƯ</td>\n",
       "      <td>67309000070</td>\n",
       "      <td>CHILD</td>\n",
       "      <td>2009.0</td>\n",
       "      <td>10</td>\n",
       "      <td>10.0</td>\n",
       "      <td>KIN</td>\n",
       "      <td>FEMALE</td>\n",
       "      <td>ĐẮK NÔNG</td>\n",
       "      <td>POOR</td>\n",
       "      <td>Đắk Mil</td>\n",
       "      <td>Thị trấn Đắk Mil</td>\n",
       "    </tr>\n",
       "    <tr>\n",
       "      <th>2</th>\n",
       "      <td>2022</td>\n",
       "      <td>1.0</td>\n",
       "      <td>3</td>\n",
       "      <td>NEW</td>\n",
       "      <td>COUNTRYSIDE</td>\n",
       "      <td>tdp3-dakmil</td>\n",
       "      <td>TỔ DÂN PHỐ 03</td>\n",
       "      <td>NGUYỄN THỊ KHOA</td>\n",
       "      <td>NGUYỄN THỊ KHOA</td>\n",
       "      <td>67159003545</td>\n",
       "      <td>HEAD</td>\n",
       "      <td>1959.0</td>\n",
       "      <td>1</td>\n",
       "      <td>1.0</td>\n",
       "      <td>KIN</td>\n",
       "      <td>FEMALE</td>\n",
       "      <td>ĐẮK NÔNG</td>\n",
       "      <td>POOR</td>\n",
       "      <td>Đắk Mil</td>\n",
       "      <td>Thị trấn Đắk Mil</td>\n",
       "    </tr>\n",
       "    <tr>\n",
       "      <th>3</th>\n",
       "      <td>2022</td>\n",
       "      <td>NaN</td>\n",
       "      <td>4</td>\n",
       "      <td>NEW</td>\n",
       "      <td>COUNTRYSIDE</td>\n",
       "      <td>tdp3-dakmil</td>\n",
       "      <td>TỔ DÂN PHỐ 03</td>\n",
       "      <td>NGUYỄN THỊ KHOA</td>\n",
       "      <td>ĐỖ THỊ MINH LIÊN</td>\n",
       "      <td>67188003929</td>\n",
       "      <td>CHILD</td>\n",
       "      <td>1988.0</td>\n",
       "      <td>6</td>\n",
       "      <td>22.0</td>\n",
       "      <td>KIN</td>\n",
       "      <td>FEMALE</td>\n",
       "      <td>ĐẮK NÔNG</td>\n",
       "      <td>POOR</td>\n",
       "      <td>Đắk Mil</td>\n",
       "      <td>Thị trấn Đắk Mil</td>\n",
       "    </tr>\n",
       "    <tr>\n",
       "      <th>4</th>\n",
       "      <td>2022</td>\n",
       "      <td>NaN</td>\n",
       "      <td>5</td>\n",
       "      <td>NEW</td>\n",
       "      <td>COUNTRYSIDE</td>\n",
       "      <td>tdp3-dakmil</td>\n",
       "      <td>TỔ DÂN PHỐ 03</td>\n",
       "      <td>NGUYỄN THỊ KHOA</td>\n",
       "      <td>ĐỖ THỊ MINH NHI</td>\n",
       "      <td>67191002534</td>\n",
       "      <td>OTHER</td>\n",
       "      <td>2005.0</td>\n",
       "      <td>9</td>\n",
       "      <td>20.0</td>\n",
       "      <td>KIN</td>\n",
       "      <td>FEMALE</td>\n",
       "      <td>ĐẮK NÔNG</td>\n",
       "      <td>POOR</td>\n",
       "      <td>Đắk Mil</td>\n",
       "      <td>Thị trấn Đắk Mil</td>\n",
       "    </tr>\n",
       "  </tbody>\n",
       "</table>\n",
       "</div>"
      ],
      "text/plain": [
       "   NAM RA SOAT  STT_HO  STT LOẠI HỘ       Khu vực      MÃ THÔN           THÔN  \\\n",
       "0         2022     1.0    1      NEW  COUNTRYSIDE  tdp1-dakmil  TỔ DÂN PHỐ 01   \n",
       "1         2022     NaN    2      NEW  COUNTRYSIDE  tdp1-dakmil  TỔ DÂN PHỐ 01   \n",
       "2         2022     1.0    3      NEW  COUNTRYSIDE  tdp3-dakmil  TỔ DÂN PHỐ 03   \n",
       "3         2022     NaN    4      NEW  COUNTRYSIDE  tdp3-dakmil  TỔ DÂN PHỐ 03   \n",
       "4         2022     NaN    5      NEW  COUNTRYSIDE  tdp3-dakmil  TỔ DÂN PHỐ 03   \n",
       "\n",
       "     HO_TEN_CHU_HO HO_TEN_THANH_VIEN      SO_CCCD QUANHE_CHUHO  NGAY_SINH  \\\n",
       "0      LÊ THỊ LINH       LÊ THỊ LINH  40173037183         HEAD     1973.0   \n",
       "1      LÊ THỊ LINH  ĐOÀN THỊ ANH THƯ  67309000070        CHILD     2009.0   \n",
       "2  NGUYỄN THỊ KHOA   NGUYỄN THỊ KHOA  67159003545         HEAD     1959.0   \n",
       "3  NGUYỄN THỊ KHOA  ĐỖ THỊ MINH LIÊN  67188003929        CHILD     1988.0   \n",
       "4  NGUYỄN THỊ KHOA   ĐỖ THỊ MINH NHI  67191002534        OTHER     2005.0   \n",
       "\n",
       "  Tháng  Ngày DANTOC GIOI_TINH      TINH PHAN_LOAI_HO    HUYEN  \\\n",
       "0    10   9.0    KIN    FEMALE  ĐẮK NÔNG         POOR  Đắk Mil   \n",
       "1    10  10.0    KIN    FEMALE  ĐẮK NÔNG         POOR  Đắk Mil   \n",
       "2     1   1.0    KIN    FEMALE  ĐẮK NÔNG         POOR  Đắk Mil   \n",
       "3     6  22.0    KIN    FEMALE  ĐẮK NÔNG         POOR  Đắk Mil   \n",
       "4     9  20.0    KIN    FEMALE  ĐẮK NÔNG         POOR  Đắk Mil   \n",
       "\n",
       "                 XA  \n",
       "0  Thị trấn Đắk Mil  \n",
       "1  Thị trấn Đắk Mil  \n",
       "2  Thị trấn Đắk Mil  \n",
       "3  Thị trấn Đắk Mil  \n",
       "4  Thị trấn Đắk Mil  "
      ]
     },
     "execution_count": 255,
     "metadata": {},
     "output_type": "execute_result"
    }
   ],
   "source": [
    "df_huyen_dak_mil.head(5)"
   ]
  },
  {
   "cell_type": "code",
   "execution_count": 256,
   "metadata": {},
   "outputs": [
    {
     "data": {
      "text/plain": [
       "Index(['NAM RA SOAT', 'STT_HO', 'STT', 'LOẠI HỘ ', 'Khu vực', 'MÃ THÔN',\n",
       "       'THÔN', 'HO_TEN_CHU_HO', 'HO_TEN_THANH_VIEN', 'SO_CCCD', 'QUANHE_CHUHO',\n",
       "       'NGAY_SINH', 'Tháng', 'Ngày', 'DANTOC', 'GIOI_TINH', 'TINH',\n",
       "       'PHAN_LOAI_HO', 'HUYEN', 'XA'],\n",
       "      dtype='object')"
      ]
     },
     "execution_count": 256,
     "metadata": {},
     "output_type": "execute_result"
    }
   ],
   "source": [
    "df_huyen_dak_mil.columns"
   ]
  },
  {
   "cell_type": "code",
   "execution_count": 257,
   "metadata": {},
   "outputs": [
    {
     "data": {
      "text/plain": [
       "(4723, 20)"
      ]
     },
     "execution_count": 257,
     "metadata": {},
     "output_type": "execute_result"
    }
   ],
   "source": [
    "df_huyen_dak_mil.shape"
   ]
  },
  {
   "cell_type": "markdown",
   "metadata": {},
   "source": [
    "- ##### Bộ dữ liệu về huyện Dắk MIL có tổng cộng 4724 dòng và 20 thuộc tính"
   ]
  },
  {
   "cell_type": "markdown",
   "metadata": {},
   "source": [
    "#### 2.1.4. HUYỆN DAK RLAP"
   ]
  },
  {
   "cell_type": "code",
   "execution_count": 258,
   "metadata": {},
   "outputs": [],
   "source": [
    "df_huyen_dak_rlap=pd.read_excel(\"../data_origin/HUYỆN ĐẮK RLẤP.xlsx\")"
   ]
  },
  {
   "cell_type": "markdown",
   "metadata": {},
   "source": [
    "> 5 dòng đầu tiên"
   ]
  },
  {
   "cell_type": "code",
   "execution_count": 259,
   "metadata": {},
   "outputs": [
    {
     "data": {
      "text/html": [
       "<div>\n",
       "<style scoped>\n",
       "    .dataframe tbody tr th:only-of-type {\n",
       "        vertical-align: middle;\n",
       "    }\n",
       "\n",
       "    .dataframe tbody tr th {\n",
       "        vertical-align: top;\n",
       "    }\n",
       "\n",
       "    .dataframe thead th {\n",
       "        text-align: right;\n",
       "    }\n",
       "</style>\n",
       "<table border=\"1\" class=\"dataframe\">\n",
       "  <thead>\n",
       "    <tr style=\"text-align: right;\">\n",
       "      <th></th>\n",
       "      <th>STT_HO</th>\n",
       "      <th>STT</th>\n",
       "      <th>HO_TEN_CHU_HO</th>\n",
       "      <th>HO_TEN_THANH_VIEN</th>\n",
       "      <th>QUANHE_CHUHO</th>\n",
       "      <th>NGAY_SINH</th>\n",
       "      <th>GIOI_TINH</th>\n",
       "      <th>SO_CCCD</th>\n",
       "      <th>TINH</th>\n",
       "      <th>HUYEN</th>\n",
       "      <th>XA</th>\n",
       "      <th>DANTOC</th>\n",
       "      <th>PHAN_LOAI_HO</th>\n",
       "      <th>KET_QUA</th>\n",
       "      <th>GHI_CHU</th>\n",
       "      <th>DC_DINHDANH</th>\n",
       "      <th>DC_CMND</th>\n",
       "      <th>GHI CHÚ</th>\n",
       "    </tr>\n",
       "  </thead>\n",
       "  <tbody>\n",
       "    <tr>\n",
       "      <th>0</th>\n",
       "      <td>1</td>\n",
       "      <td>1</td>\n",
       "      <td>ĐÀO VĂN TÂN</td>\n",
       "      <td>ĐÀO VĂN TÂN</td>\n",
       "      <td>1.0</td>\n",
       "      <td>15/3/1980</td>\n",
       "      <td>1.0</td>\n",
       "      <td>070080001491</td>\n",
       "      <td>ĐẮK NÔNG</td>\n",
       "      <td>ĐẮK RLẤP</td>\n",
       "      <td>NHÂN CƠ</td>\n",
       "      <td>1.0</td>\n",
       "      <td>1</td>\n",
       "      <td>TIM THAY THEO CCCD</td>\n",
       "      <td>NaN</td>\n",
       "      <td>7.008000e+10</td>\n",
       "      <td>245107431</td>\n",
       "      <td>NaN</td>\n",
       "    </tr>\n",
       "    <tr>\n",
       "      <th>1</th>\n",
       "      <td>NaN</td>\n",
       "      <td>2</td>\n",
       "      <td>ĐÀO VĂN TÂN</td>\n",
       "      <td>NGUYỄN THỊ HỆ</td>\n",
       "      <td>2.0</td>\n",
       "      <td>18/8/1987</td>\n",
       "      <td>2.0</td>\n",
       "      <td>037187013794</td>\n",
       "      <td>ĐẮK NÔNG</td>\n",
       "      <td>ĐẮK RLẤP</td>\n",
       "      <td>NHÂN CƠ</td>\n",
       "      <td>1.0</td>\n",
       "      <td>1</td>\n",
       "      <td>TIM THAY THEO CCCD</td>\n",
       "      <td>LECH THONG TIN HO TEN, NGAY SINH</td>\n",
       "      <td>3.708701e+10</td>\n",
       "      <td>164267618</td>\n",
       "      <td>Điều chỉnh CCCD</td>\n",
       "    </tr>\n",
       "    <tr>\n",
       "      <th>2</th>\n",
       "      <td>NaN</td>\n",
       "      <td>3</td>\n",
       "      <td>ĐÀO VĂN TÂN</td>\n",
       "      <td>ĐÀO THỊ VIỆT TRINH</td>\n",
       "      <td>3.0</td>\n",
       "      <td>26/2/2011</td>\n",
       "      <td>2.0</td>\n",
       "      <td>067311002433</td>\n",
       "      <td>ĐẮK NÔNG</td>\n",
       "      <td>ĐẮK RLẤP</td>\n",
       "      <td>NHÂN CƠ</td>\n",
       "      <td>1.0</td>\n",
       "      <td>1</td>\n",
       "      <td>TIM THAY THEO CCCD</td>\n",
       "      <td>LECH THONG TIN HO TEN, NGAY SINH</td>\n",
       "      <td>6.721500e+10</td>\n",
       "      <td>NaN</td>\n",
       "      <td>Điều chỉnh CCCD</td>\n",
       "    </tr>\n",
       "    <tr>\n",
       "      <th>3</th>\n",
       "      <td>NaN</td>\n",
       "      <td>4</td>\n",
       "      <td>ĐÀO VĂN TÂN</td>\n",
       "      <td>ĐÀO VIỆT MỸ</td>\n",
       "      <td>3.0</td>\n",
       "      <td>18/2/2015</td>\n",
       "      <td>1.0</td>\n",
       "      <td>067215002637</td>\n",
       "      <td>ĐẮK NÔNG</td>\n",
       "      <td>ĐẮK RLẤP</td>\n",
       "      <td>NHÂN CƠ</td>\n",
       "      <td>1.0</td>\n",
       "      <td>1</td>\n",
       "      <td>KHONG TIM THAY THEO HO TEN, NAMSINH, TINH, HUY...</td>\n",
       "      <td>NaN</td>\n",
       "      <td>NaN</td>\n",
       "      <td>NaN</td>\n",
       "      <td>Điều chỉnh CCCD</td>\n",
       "    </tr>\n",
       "    <tr>\n",
       "      <th>4</th>\n",
       "      <td>2</td>\n",
       "      <td>5</td>\n",
       "      <td>TRẦN THỊ CHÓT</td>\n",
       "      <td>TRẦN THỊ CHÓT</td>\n",
       "      <td>1.0</td>\n",
       "      <td>11/12/1949</td>\n",
       "      <td>2.0</td>\n",
       "      <td>046149007767</td>\n",
       "      <td>ĐẮK NÔNG</td>\n",
       "      <td>ĐẮK RLẤP</td>\n",
       "      <td>NHÂN CƠ</td>\n",
       "      <td>1.0</td>\n",
       "      <td>1</td>\n",
       "      <td>KHONG TIM THAY THEO CCCD</td>\n",
       "      <td>NaN</td>\n",
       "      <td>NaN</td>\n",
       "      <td>NaN</td>\n",
       "      <td>Điều chỉnh CCCD</td>\n",
       "    </tr>\n",
       "  </tbody>\n",
       "</table>\n",
       "</div>"
      ],
      "text/plain": [
       "  STT_HO  STT  HO_TEN_CHU_HO   HO_TEN_THANH_VIEN  QUANHE_CHUHO   NGAY_SINH  \\\n",
       "0      1    1    ĐÀO VĂN TÂN         ĐÀO VĂN TÂN           1.0   15/3/1980   \n",
       "1    NaN    2    ĐÀO VĂN TÂN       NGUYỄN THỊ HỆ           2.0   18/8/1987   \n",
       "2    NaN    3    ĐÀO VĂN TÂN  ĐÀO THỊ VIỆT TRINH           3.0   26/2/2011   \n",
       "3    NaN    4    ĐÀO VĂN TÂN         ĐÀO VIỆT MỸ           3.0   18/2/2015   \n",
       "4      2    5  TRẦN THỊ CHÓT       TRẦN THỊ CHÓT           1.0  11/12/1949   \n",
       "\n",
       "   GIOI_TINH       SO_CCCD      TINH     HUYEN       XA  DANTOC  PHAN_LOAI_HO  \\\n",
       "0        1.0  070080001491  ĐẮK NÔNG  ĐẮK RLẤP  NHÂN CƠ     1.0             1   \n",
       "1        2.0  037187013794  ĐẮK NÔNG  ĐẮK RLẤP  NHÂN CƠ     1.0             1   \n",
       "2        2.0  067311002433  ĐẮK NÔNG  ĐẮK RLẤP  NHÂN CƠ     1.0             1   \n",
       "3        1.0  067215002637  ĐẮK NÔNG  ĐẮK RLẤP  NHÂN CƠ     1.0             1   \n",
       "4        2.0  046149007767  ĐẮK NÔNG  ĐẮK RLẤP  NHÂN CƠ     1.0             1   \n",
       "\n",
       "                                             KET_QUA  \\\n",
       "0                                 TIM THAY THEO CCCD   \n",
       "1                                 TIM THAY THEO CCCD   \n",
       "2                                 TIM THAY THEO CCCD   \n",
       "3  KHONG TIM THAY THEO HO TEN, NAMSINH, TINH, HUY...   \n",
       "4                           KHONG TIM THAY THEO CCCD   \n",
       "\n",
       "                            GHI_CHU   DC_DINHDANH    DC_CMND         GHI CHÚ   \n",
       "0                               NaN  7.008000e+10  245107431              NaN  \n",
       "1  LECH THONG TIN HO TEN, NGAY SINH  3.708701e+10  164267618  Điều chỉnh CCCD  \n",
       "2  LECH THONG TIN HO TEN, NGAY SINH  6.721500e+10        NaN  Điều chỉnh CCCD  \n",
       "3                               NaN           NaN        NaN  Điều chỉnh CCCD  \n",
       "4                               NaN           NaN        NaN  Điều chỉnh CCCD  "
      ]
     },
     "execution_count": 259,
     "metadata": {},
     "output_type": "execute_result"
    }
   ],
   "source": [
    "df_huyen_dak_rlap.head(5)"
   ]
  },
  {
   "cell_type": "code",
   "execution_count": 260,
   "metadata": {},
   "outputs": [
    {
     "data": {
      "text/plain": [
       "Index(['STT_HO', 'STT', 'HO_TEN_CHU_HO', 'HO_TEN_THANH_VIEN', 'QUANHE_CHUHO',\n",
       "       'NGAY_SINH', 'GIOI_TINH', 'SO_CCCD', 'TINH', 'HUYEN', 'XA', 'DANTOC',\n",
       "       'PHAN_LOAI_HO', 'KET_QUA', 'GHI_CHU', 'DC_DINHDANH', 'DC_CMND',\n",
       "       'GHI CHÚ '],\n",
       "      dtype='object')"
      ]
     },
     "execution_count": 260,
     "metadata": {},
     "output_type": "execute_result"
    }
   ],
   "source": [
    "df_huyen_dak_rlap.columns"
   ]
  },
  {
   "cell_type": "code",
   "execution_count": 261,
   "metadata": {},
   "outputs": [
    {
     "data": {
      "text/plain": [
       "(4241, 18)"
      ]
     },
     "execution_count": 261,
     "metadata": {},
     "output_type": "execute_result"
    }
   ],
   "source": [
    "df_huyen_dak_rlap.shape"
   ]
  },
  {
   "cell_type": "markdown",
   "metadata": {},
   "source": [
    "- ##### Bộ dữ liệu về huyện HUYỆN ĐẮK RLẤP có tổng cộng 4 241 dòng và 18 thuộc tính\n"
   ]
  },
  {
   "cell_type": "markdown",
   "metadata": {},
   "source": [
    "#### 2.1.5. HUYỆN DAK SONG"
   ]
  },
  {
   "cell_type": "code",
   "execution_count": 262,
   "metadata": {},
   "outputs": [],
   "source": [
    "df_huyen_dak_song=pd.read_excel(\"../data_origin/HUYỆN ĐẮK SONG.xlsx\")"
   ]
  },
  {
   "cell_type": "markdown",
   "metadata": {},
   "source": [
    "> 5 dòng đầu tiên"
   ]
  },
  {
   "cell_type": "code",
   "execution_count": 263,
   "metadata": {},
   "outputs": [
    {
     "data": {
      "text/html": [
       "<div>\n",
       "<style scoped>\n",
       "    .dataframe tbody tr th:only-of-type {\n",
       "        vertical-align: middle;\n",
       "    }\n",
       "\n",
       "    .dataframe tbody tr th {\n",
       "        vertical-align: top;\n",
       "    }\n",
       "\n",
       "    .dataframe thead th {\n",
       "        text-align: right;\n",
       "    }\n",
       "</style>\n",
       "<table border=\"1\" class=\"dataframe\">\n",
       "  <thead>\n",
       "    <tr style=\"text-align: right;\">\n",
       "      <th></th>\n",
       "      <th>Unnamed: 0</th>\n",
       "      <th>STT_HO</th>\n",
       "      <th>STT</th>\n",
       "      <th>HO_TEN_CHU_HO</th>\n",
       "      <th>HO_TEN_THANH_VIEN</th>\n",
       "      <th>QUANHE_CHUHO</th>\n",
       "      <th>NGAY_SINH</th>\n",
       "      <th>NGAY_SINH.1</th>\n",
       "      <th>Ngay</th>\n",
       "      <th>Tháng</th>\n",
       "      <th>Năm</th>\n",
       "      <th>GIOI_TINH</th>\n",
       "      <th>SO_CCCD</th>\n",
       "      <th>TINH</th>\n",
       "      <th>HUYEN</th>\n",
       "      <th>XA</th>\n",
       "      <th>DANTOC</th>\n",
       "      <th>PHAN_LOAI_HO</th>\n",
       "      <th>KET_QUA</th>\n",
       "      <th>GHI_CHU</th>\n",
       "      <th>DC_DINHDANH</th>\n",
       "      <th>DC_CMND</th>\n",
       "    </tr>\n",
       "  </thead>\n",
       "  <tbody>\n",
       "    <tr>\n",
       "      <th>0</th>\n",
       "      <td>1</td>\n",
       "      <td></td>\n",
       "      <td>1.0</td>\n",
       "      <td>LÊ THỊ TƯƠI</td>\n",
       "      <td>LÊ THỊ TƯƠI</td>\n",
       "      <td>HEAD</td>\n",
       "      <td>1972-08-12</td>\n",
       "      <td>12/08/1972</td>\n",
       "      <td>12.0</td>\n",
       "      <td>8.0</td>\n",
       "      <td>1972.0</td>\n",
       "      <td>FEMALE</td>\n",
       "      <td>036172015492</td>\n",
       "      <td>ĐẮK NÔNG</td>\n",
       "      <td>ĐẮK SONG</td>\n",
       "      <td>ĐẮK HÒA</td>\n",
       "      <td>KIN</td>\n",
       "      <td>POOR</td>\n",
       "      <td>TIM THAY THEO CCCD</td>\n",
       "      <td>NaN</td>\n",
       "      <td>036172015492</td>\n",
       "      <td>245128541.0</td>\n",
       "    </tr>\n",
       "    <tr>\n",
       "      <th>1</th>\n",
       "      <td>2</td>\n",
       "      <td>NaN</td>\n",
       "      <td>2.0</td>\n",
       "      <td>LÊ VĂN TOÀN</td>\n",
       "      <td>LÊ VĂN TOÀN</td>\n",
       "      <td>CHILD</td>\n",
       "      <td>1995-06-07</td>\n",
       "      <td>07/06/1995</td>\n",
       "      <td>7.0</td>\n",
       "      <td>6.0</td>\n",
       "      <td>1995.0</td>\n",
       "      <td>MALE</td>\n",
       "      <td>067095005884</td>\n",
       "      <td>ĐẮK NÔNG</td>\n",
       "      <td>ĐẮK SONG</td>\n",
       "      <td>ĐẮK HÒA</td>\n",
       "      <td>KIN</td>\n",
       "      <td>POOR</td>\n",
       "      <td>TIM THAY THEO CCCD</td>\n",
       "      <td>NaN</td>\n",
       "      <td>067095005884</td>\n",
       "      <td>245291946.0</td>\n",
       "    </tr>\n",
       "    <tr>\n",
       "      <th>2</th>\n",
       "      <td>3</td>\n",
       "      <td>NaN</td>\n",
       "      <td>3.0</td>\n",
       "      <td>TRẦN QUYẾT THẮNG</td>\n",
       "      <td>TRẦN QUYẾT THẮNG</td>\n",
       "      <td>HEAD</td>\n",
       "      <td>17/12/1962</td>\n",
       "      <td>17/12/1962</td>\n",
       "      <td>17.0</td>\n",
       "      <td>12.0</td>\n",
       "      <td>1962.0</td>\n",
       "      <td>MALE</td>\n",
       "      <td>040062008552</td>\n",
       "      <td>ĐẮK NÔNG</td>\n",
       "      <td>ĐẮK SONG</td>\n",
       "      <td>ĐẮK HÒA</td>\n",
       "      <td>KIN</td>\n",
       "      <td>POOR</td>\n",
       "      <td>TIM THAY THEO CCCD</td>\n",
       "      <td>NaN</td>\n",
       "      <td>040062008552</td>\n",
       "      <td>245023847.0</td>\n",
       "    </tr>\n",
       "    <tr>\n",
       "      <th>3</th>\n",
       "      <td>4</td>\n",
       "      <td>NaN</td>\n",
       "      <td>4.0</td>\n",
       "      <td>NGUYỄN THỊ THƯ</td>\n",
       "      <td>NGUYỄN THỊ THƯ</td>\n",
       "      <td>PARTNER</td>\n",
       "      <td>1962-04-26 00:00:00</td>\n",
       "      <td>26/04/1962</td>\n",
       "      <td>26.0</td>\n",
       "      <td>4.0</td>\n",
       "      <td>1962.0</td>\n",
       "      <td>FEMALE</td>\n",
       "      <td>046162012878</td>\n",
       "      <td>ĐẮK NÔNG</td>\n",
       "      <td>ĐẮK SONG</td>\n",
       "      <td>ĐẮK HÒA</td>\n",
       "      <td>KIN</td>\n",
       "      <td>POOR</td>\n",
       "      <td>TIM THAY THEO CCCD</td>\n",
       "      <td>NaN</td>\n",
       "      <td>046162012878</td>\n",
       "      <td>245023848.0</td>\n",
       "    </tr>\n",
       "    <tr>\n",
       "      <th>4</th>\n",
       "      <td>5</td>\n",
       "      <td>NaN</td>\n",
       "      <td>5.0</td>\n",
       "      <td>TRẦN NGUYÊN THÔNG</td>\n",
       "      <td>TRẦN NGUYÊN THÔNG</td>\n",
       "      <td>CHILD</td>\n",
       "      <td>17/12/1999</td>\n",
       "      <td>17/12/1999</td>\n",
       "      <td>17.0</td>\n",
       "      <td>12.0</td>\n",
       "      <td>1999.0</td>\n",
       "      <td>MALE</td>\n",
       "      <td>067099001783</td>\n",
       "      <td>ĐẮK NÔNG</td>\n",
       "      <td>ĐẮK SONG</td>\n",
       "      <td>ĐẮK HÒA</td>\n",
       "      <td>KIN</td>\n",
       "      <td>POOR</td>\n",
       "      <td>TIM THAY THEO CCCD</td>\n",
       "      <td>NaN</td>\n",
       "      <td>067099001783</td>\n",
       "      <td>245379140.0</td>\n",
       "    </tr>\n",
       "  </tbody>\n",
       "</table>\n",
       "</div>"
      ],
      "text/plain": [
       "  Unnamed: 0 STT_HO  STT      HO_TEN_CHU_HO  HO_TEN_THANH_VIEN QUANHE_CHUHO  \\\n",
       "0          1         1.0        LÊ THỊ TƯƠI        LÊ THỊ TƯƠI         HEAD   \n",
       "1          2    NaN  2.0        LÊ VĂN TOÀN        LÊ VĂN TOÀN        CHILD   \n",
       "2          3    NaN  3.0   TRẦN QUYẾT THẮNG   TRẦN QUYẾT THẮNG         HEAD   \n",
       "3          4    NaN  4.0     NGUYỄN THỊ THƯ     NGUYỄN THỊ THƯ      PARTNER   \n",
       "4          5    NaN  5.0  TRẦN NGUYÊN THÔNG  TRẦN NGUYÊN THÔNG        CHILD   \n",
       "\n",
       "             NGAY_SINH NGAY_SINH.1  Ngay  Tháng     Năm GIOI_TINH  \\\n",
       "0           1972-08-12  12/08/1972  12.0    8.0  1972.0    FEMALE   \n",
       "1           1995-06-07  07/06/1995   7.0    6.0  1995.0      MALE   \n",
       "2           17/12/1962  17/12/1962  17.0   12.0  1962.0      MALE   \n",
       "3  1962-04-26 00:00:00  26/04/1962  26.0    4.0  1962.0    FEMALE   \n",
       "4           17/12/1999  17/12/1999  17.0   12.0  1999.0      MALE   \n",
       "\n",
       "        SO_CCCD      TINH     HUYEN       XA DANTOC PHAN_LOAI_HO  \\\n",
       "0  036172015492  ĐẮK NÔNG  ĐẮK SONG  ĐẮK HÒA    KIN         POOR   \n",
       "1  067095005884  ĐẮK NÔNG  ĐẮK SONG  ĐẮK HÒA    KIN         POOR   \n",
       "2  040062008552  ĐẮK NÔNG  ĐẮK SONG  ĐẮK HÒA    KIN         POOR   \n",
       "3  046162012878  ĐẮK NÔNG  ĐẮK SONG  ĐẮK HÒA    KIN         POOR   \n",
       "4  067099001783  ĐẮK NÔNG  ĐẮK SONG  ĐẮK HÒA    KIN         POOR   \n",
       "\n",
       "              KET_QUA GHI_CHU   DC_DINHDANH      DC_CMND  \n",
       "0  TIM THAY THEO CCCD     NaN  036172015492  245128541.0  \n",
       "1  TIM THAY THEO CCCD     NaN  067095005884  245291946.0  \n",
       "2  TIM THAY THEO CCCD     NaN  040062008552  245023847.0  \n",
       "3  TIM THAY THEO CCCD     NaN  046162012878  245023848.0  \n",
       "4  TIM THAY THEO CCCD     NaN  067099001783  245379140.0  "
      ]
     },
     "execution_count": 263,
     "metadata": {},
     "output_type": "execute_result"
    }
   ],
   "source": [
    "df_huyen_dak_song.head(5)"
   ]
  },
  {
   "cell_type": "code",
   "execution_count": 264,
   "metadata": {},
   "outputs": [
    {
     "data": {
      "text/plain": [
       "Index(['Unnamed: 0', 'STT_HO', 'STT', 'HO_TEN_CHU_HO', 'HO_TEN_THANH_VIEN',\n",
       "       'QUANHE_CHUHO', 'NGAY_SINH', 'NGAY_SINH.1', 'Ngay', 'Tháng', 'Năm',\n",
       "       'GIOI_TINH', 'SO_CCCD', 'TINH', 'HUYEN', 'XA', 'DANTOC', 'PHAN_LOAI_HO',\n",
       "       'KET_QUA', 'GHI_CHU', 'DC_DINHDANH', 'DC_CMND'],\n",
       "      dtype='object')"
      ]
     },
     "execution_count": 264,
     "metadata": {},
     "output_type": "execute_result"
    }
   ],
   "source": [
    "df_huyen_dak_song.columns"
   ]
  },
  {
   "cell_type": "code",
   "execution_count": 265,
   "metadata": {},
   "outputs": [
    {
     "data": {
      "text/plain": [
       "(9028, 22)"
      ]
     },
     "execution_count": 265,
     "metadata": {},
     "output_type": "execute_result"
    }
   ],
   "source": [
    "df_huyen_dak_song.shape"
   ]
  },
  {
   "cell_type": "markdown",
   "metadata": {},
   "source": [
    "- ##### Bộ dữ liệu về huyện Dắk SONG có tổng cộng 9 028 dòng và 22 thuộc tính\n"
   ]
  },
  {
   "cell_type": "markdown",
   "metadata": {},
   "source": [
    "#### 2.1.6. HUYỆN KRONG NO"
   ]
  },
  {
   "cell_type": "code",
   "execution_count": 266,
   "metadata": {},
   "outputs": [],
   "source": [
    "df_huyen_krong_no=pd.read_excel(\"../data_origin/HUYỆN KRÔNG NÔ.xlsx\",sheet_name='Tổng hợp')"
   ]
  },
  {
   "cell_type": "markdown",
   "metadata": {},
   "source": [
    "> 5 dòng đầu tiên"
   ]
  },
  {
   "cell_type": "code",
   "execution_count": 267,
   "metadata": {},
   "outputs": [
    {
     "data": {
      "text/html": [
       "<div>\n",
       "<style scoped>\n",
       "    .dataframe tbody tr th:only-of-type {\n",
       "        vertical-align: middle;\n",
       "    }\n",
       "\n",
       "    .dataframe tbody tr th {\n",
       "        vertical-align: top;\n",
       "    }\n",
       "\n",
       "    .dataframe thead th {\n",
       "        text-align: right;\n",
       "    }\n",
       "</style>\n",
       "<table border=\"1\" class=\"dataframe\">\n",
       "  <thead>\n",
       "    <tr style=\"text-align: right;\">\n",
       "      <th></th>\n",
       "      <th>b</th>\n",
       "      <th>STT_HO</th>\n",
       "      <th>STT</th>\n",
       "      <th>HO_TEN_CHU_HO</th>\n",
       "      <th>HO_TEN_THANH_VIEN</th>\n",
       "      <th>QUANHE_CHUHO</th>\n",
       "      <th>NGAY_SINH</th>\n",
       "      <th>Ngay</th>\n",
       "      <th>tháng</th>\n",
       "      <th>năm</th>\n",
       "      <th>GIOI_TINH</th>\n",
       "      <th>SO_CCCD</th>\n",
       "      <th>TINH</th>\n",
       "      <th>HUYEN</th>\n",
       "      <th>XA</th>\n",
       "      <th>DANTOC</th>\n",
       "      <th>PHAN_LOAI_HO</th>\n",
       "      <th>KET_QUA</th>\n",
       "      <th>GHI_CHU</th>\n",
       "      <th>DC_DINHDANH</th>\n",
       "      <th>DC_CMND</th>\n",
       "    </tr>\n",
       "  </thead>\n",
       "  <tbody>\n",
       "    <tr>\n",
       "      <th>0</th>\n",
       "      <td>1</td>\n",
       "      <td>1</td>\n",
       "      <td>1</td>\n",
       "      <td>ĐỖ TẤN VIỆT</td>\n",
       "      <td>ĐỖ TẤN VIỆT</td>\n",
       "      <td>HEAD</td>\n",
       "      <td>14/04/1966</td>\n",
       "      <td>14.0</td>\n",
       "      <td>4.0</td>\n",
       "      <td>1966</td>\n",
       "      <td>MALE</td>\n",
       "      <td>049066010173</td>\n",
       "      <td>ĐẮK NÔNG</td>\n",
       "      <td>KRÔNG NÔ</td>\n",
       "      <td>ĐẮK MÂM</td>\n",
       "      <td>KIN</td>\n",
       "      <td>POOR</td>\n",
       "      <td>TIM THAY THEO CCCD</td>\n",
       "      <td>NaN</td>\n",
       "      <td>049066010173</td>\n",
       "      <td>245090459</td>\n",
       "    </tr>\n",
       "    <tr>\n",
       "      <th>1</th>\n",
       "      <td>2</td>\n",
       "      <td>NaN</td>\n",
       "      <td>2</td>\n",
       "      <td>ĐỖ TẤN VIỆT</td>\n",
       "      <td>ĐINH THỊ PHƯƠNG</td>\n",
       "      <td>PARTNER</td>\n",
       "      <td>10/05/1976</td>\n",
       "      <td>10.0</td>\n",
       "      <td>5.0</td>\n",
       "      <td>1976</td>\n",
       "      <td>FEMALE</td>\n",
       "      <td>042176007680</td>\n",
       "      <td>ĐẮK NÔNG</td>\n",
       "      <td>KRÔNG NÔ</td>\n",
       "      <td>ĐẮK MÂM</td>\n",
       "      <td>KIN</td>\n",
       "      <td>POOR</td>\n",
       "      <td>TIM THAY THEO CCCD</td>\n",
       "      <td>NaN</td>\n",
       "      <td>042176007680</td>\n",
       "      <td>245090460</td>\n",
       "    </tr>\n",
       "    <tr>\n",
       "      <th>2</th>\n",
       "      <td>3</td>\n",
       "      <td>NaN</td>\n",
       "      <td>3</td>\n",
       "      <td>ĐỖ TẤN VIỆT</td>\n",
       "      <td>ĐỖ QUỐC TRUNG</td>\n",
       "      <td>CHILD</td>\n",
       "      <td>28/10/1999</td>\n",
       "      <td>28.0</td>\n",
       "      <td>10.0</td>\n",
       "      <td>1999</td>\n",
       "      <td>MALE</td>\n",
       "      <td>067099006144</td>\n",
       "      <td>ĐẮK NÔNG</td>\n",
       "      <td>KRÔNG NÔ</td>\n",
       "      <td>ĐẮK MÂM</td>\n",
       "      <td>KIN</td>\n",
       "      <td>POOR</td>\n",
       "      <td>TIM THAY THEO CCCD</td>\n",
       "      <td>NaN</td>\n",
       "      <td>067099006144</td>\n",
       "      <td>245356836</td>\n",
       "    </tr>\n",
       "    <tr>\n",
       "      <th>3</th>\n",
       "      <td>4</td>\n",
       "      <td>NaN</td>\n",
       "      <td>4</td>\n",
       "      <td>ĐỖ TẤN VIỆT</td>\n",
       "      <td>ĐỖ THỊ MINH HIẾU</td>\n",
       "      <td>CHILD</td>\n",
       "      <td>13/10/2000</td>\n",
       "      <td>13.0</td>\n",
       "      <td>10.0</td>\n",
       "      <td>2000</td>\n",
       "      <td>FEMALE</td>\n",
       "      <td>067300000133</td>\n",
       "      <td>ĐẮK NÔNG</td>\n",
       "      <td>KRÔNG NÔ</td>\n",
       "      <td>ĐẮK MÂM</td>\n",
       "      <td>KIN</td>\n",
       "      <td>POOR</td>\n",
       "      <td>TIM THAY THEO CCCD</td>\n",
       "      <td>NaN</td>\n",
       "      <td>067300000133</td>\n",
       "      <td>245356837</td>\n",
       "    </tr>\n",
       "    <tr>\n",
       "      <th>4</th>\n",
       "      <td>5</td>\n",
       "      <td>NaN</td>\n",
       "      <td>5</td>\n",
       "      <td>ĐỖ TẤN VIỆT</td>\n",
       "      <td>ĐỖ THỊ MỸ TRÂM</td>\n",
       "      <td>CHILD</td>\n",
       "      <td>22/12/2002</td>\n",
       "      <td>22.0</td>\n",
       "      <td>12.0</td>\n",
       "      <td>2002</td>\n",
       "      <td>FEMALE</td>\n",
       "      <td>067302005444</td>\n",
       "      <td>ĐẮK NÔNG</td>\n",
       "      <td>KRÔNG NÔ</td>\n",
       "      <td>ĐẮK MÂM</td>\n",
       "      <td>KIN</td>\n",
       "      <td>POOR</td>\n",
       "      <td>TIM THAY THEO CCCD</td>\n",
       "      <td>LECH THONG TIN HO TEN, NGAY SINH</td>\n",
       "      <td>067302005444</td>\n",
       "      <td>245419754</td>\n",
       "    </tr>\n",
       "  </tbody>\n",
       "</table>\n",
       "</div>"
      ],
      "text/plain": [
       "   b STT_HO  STT HO_TEN_CHU_HO HO_TEN_THANH_VIEN QUANHE_CHUHO   NGAY_SINH  \\\n",
       "0  1      1    1   ĐỖ TẤN VIỆT       ĐỖ TẤN VIỆT         HEAD  14/04/1966   \n",
       "1  2    NaN    2   ĐỖ TẤN VIỆT   ĐINH THỊ PHƯƠNG      PARTNER  10/05/1976   \n",
       "2  3    NaN    3   ĐỖ TẤN VIỆT     ĐỖ QUỐC TRUNG        CHILD  28/10/1999   \n",
       "3  4    NaN    4   ĐỖ TẤN VIỆT  ĐỖ THỊ MINH HIẾU        CHILD  13/10/2000   \n",
       "4  5    NaN    5   ĐỖ TẤN VIỆT    ĐỖ THỊ MỸ TRÂM        CHILD  22/12/2002   \n",
       "\n",
       "   Ngay  tháng   năm GIOI_TINH       SO_CCCD      TINH     HUYEN       XA  \\\n",
       "0  14.0    4.0  1966      MALE  049066010173  ĐẮK NÔNG  KRÔNG NÔ  ĐẮK MÂM   \n",
       "1  10.0    5.0  1976    FEMALE  042176007680  ĐẮK NÔNG  KRÔNG NÔ  ĐẮK MÂM   \n",
       "2  28.0   10.0  1999      MALE  067099006144  ĐẮK NÔNG  KRÔNG NÔ  ĐẮK MÂM   \n",
       "3  13.0   10.0  2000    FEMALE  067300000133  ĐẮK NÔNG  KRÔNG NÔ  ĐẮK MÂM   \n",
       "4  22.0   12.0  2002    FEMALE  067302005444  ĐẮK NÔNG  KRÔNG NÔ  ĐẮK MÂM   \n",
       "\n",
       "  DANTOC PHAN_LOAI_HO             KET_QUA                           GHI_CHU  \\\n",
       "0    KIN         POOR  TIM THAY THEO CCCD                               NaN   \n",
       "1    KIN         POOR  TIM THAY THEO CCCD                               NaN   \n",
       "2    KIN         POOR  TIM THAY THEO CCCD                               NaN   \n",
       "3    KIN         POOR  TIM THAY THEO CCCD                               NaN   \n",
       "4    KIN         POOR  TIM THAY THEO CCCD  LECH THONG TIN HO TEN, NGAY SINH   \n",
       "\n",
       "    DC_DINHDANH    DC_CMND  \n",
       "0  049066010173  245090459  \n",
       "1  042176007680  245090460  \n",
       "2  067099006144  245356836  \n",
       "3  067300000133  245356837  \n",
       "4  067302005444  245419754  "
      ]
     },
     "execution_count": 267,
     "metadata": {},
     "output_type": "execute_result"
    }
   ],
   "source": [
    "df_huyen_krong_no.head(5)"
   ]
  },
  {
   "cell_type": "code",
   "execution_count": 268,
   "metadata": {},
   "outputs": [
    {
     "data": {
      "text/plain": [
       "Index(['b', 'STT_HO', 'STT', 'HO_TEN_CHU_HO', 'HO_TEN_THANH_VIEN',\n",
       "       'QUANHE_CHUHO', 'NGAY_SINH', 'Ngay', 'tháng', 'năm', 'GIOI_TINH',\n",
       "       'SO_CCCD', 'TINH', 'HUYEN', 'XA', 'DANTOC', 'PHAN_LOAI_HO', 'KET_QUA',\n",
       "       'GHI_CHU', 'DC_DINHDANH', 'DC_CMND'],\n",
       "      dtype='object')"
      ]
     },
     "execution_count": 268,
     "metadata": {},
     "output_type": "execute_result"
    }
   ],
   "source": [
    "df_huyen_krong_no.columns"
   ]
  },
  {
   "cell_type": "code",
   "execution_count": 269,
   "metadata": {},
   "outputs": [
    {
     "data": {
      "text/plain": [
       "(15094, 21)"
      ]
     },
     "execution_count": 269,
     "metadata": {},
     "output_type": "execute_result"
    }
   ],
   "source": [
    "df_huyen_krong_no.shape"
   ]
  },
  {
   "cell_type": "markdown",
   "metadata": {},
   "source": [
    "- ##### Bộ dữ liệu về huyện KRONG NO có tổng cộng 15 094 dòng và 21 thuộc tính\n"
   ]
  },
  {
   "cell_type": "markdown",
   "metadata": {},
   "source": [
    "#### 2.1.7. HUYỆN TUY ĐỨC "
   ]
  },
  {
   "cell_type": "code",
   "execution_count": 270,
   "metadata": {},
   "outputs": [],
   "source": [
    "df_huyen_tuy_duc=pd.read_excel(\"../data_origin/HUYỆN TUY ĐỨC.xlsx\")"
   ]
  },
  {
   "cell_type": "markdown",
   "metadata": {},
   "source": [
    "> 5 dòng đầu tiên"
   ]
  },
  {
   "cell_type": "code",
   "execution_count": 271,
   "metadata": {},
   "outputs": [
    {
     "data": {
      "text/html": [
       "<div>\n",
       "<style scoped>\n",
       "    .dataframe tbody tr th:only-of-type {\n",
       "        vertical-align: middle;\n",
       "    }\n",
       "\n",
       "    .dataframe tbody tr th {\n",
       "        vertical-align: top;\n",
       "    }\n",
       "\n",
       "    .dataframe thead th {\n",
       "        text-align: right;\n",
       "    }\n",
       "</style>\n",
       "<table border=\"1\" class=\"dataframe\">\n",
       "  <thead>\n",
       "    <tr style=\"text-align: right;\">\n",
       "      <th></th>\n",
       "      <th>Unnamed: 0</th>\n",
       "      <th>STT_HO</th>\n",
       "      <th>STT</th>\n",
       "      <th>HO_TEN_CHU_HO</th>\n",
       "      <th>HO_TEN_THANH_VIEN</th>\n",
       "      <th>QUANHE_CHUHO</th>\n",
       "      <th>NGAY_SINH</th>\n",
       "      <th>NGAY_SINH.1</th>\n",
       "      <th>NGAY</th>\n",
       "      <th>Tháng</th>\n",
       "      <th>Năm</th>\n",
       "      <th>GIOI_TINH</th>\n",
       "      <th>SO_CCCD</th>\n",
       "      <th>TINH</th>\n",
       "      <th>HUYEN</th>\n",
       "      <th>XA</th>\n",
       "      <th>THÔN XÓM</th>\n",
       "      <th>DANTOC</th>\n",
       "      <th>PHAN_LOAI_HO</th>\n",
       "      <th>KET_QUA</th>\n",
       "      <th>GHI_CHU</th>\n",
       "      <th>DC_DINHDANH</th>\n",
       "      <th>DC_CMND</th>\n",
       "      <th>Unnamed: 23</th>\n",
       "    </tr>\n",
       "  </thead>\n",
       "  <tbody>\n",
       "    <tr>\n",
       "      <th>0</th>\n",
       "      <td>1</td>\n",
       "      <td>1</td>\n",
       "      <td>1</td>\n",
       "      <td>HÀ VĂN CÔNG</td>\n",
       "      <td>HÀ VĂN CÔNG</td>\n",
       "      <td>HEAD</td>\n",
       "      <td>20/05/1952</td>\n",
       "      <td>20/05/1952</td>\n",
       "      <td>20.0</td>\n",
       "      <td>5.0</td>\n",
       "      <td>1952</td>\n",
       "      <td>FEMALE</td>\n",
       "      <td>034052015155</td>\n",
       "      <td>ĐẮK NÔNG</td>\n",
       "      <td>TUY ĐỨC</td>\n",
       "      <td>QUẢNG TÂN</td>\n",
       "      <td>NaN</td>\n",
       "      <td>KIN</td>\n",
       "      <td>POOR</td>\n",
       "      <td>TIM THAY THEO CCCD</td>\n",
       "      <td>NaN</td>\n",
       "      <td>034052015155</td>\n",
       "      <td>245069749.0</td>\n",
       "      <td>1</td>\n",
       "    </tr>\n",
       "    <tr>\n",
       "      <th>1</th>\n",
       "      <td>2</td>\n",
       "      <td>NaN</td>\n",
       "      <td>2</td>\n",
       "      <td>HÀ VĂN CÔNG</td>\n",
       "      <td>NGÔ THỊ NƯỚC</td>\n",
       "      <td>PARTNER</td>\n",
       "      <td>20/10/1952</td>\n",
       "      <td>20/10/1952</td>\n",
       "      <td>20.0</td>\n",
       "      <td>10.0</td>\n",
       "      <td>1952</td>\n",
       "      <td>FEMALE</td>\n",
       "      <td>245069748</td>\n",
       "      <td>ĐẮK NÔNG</td>\n",
       "      <td>TUY ĐỨC</td>\n",
       "      <td>QUẢNG TÂN</td>\n",
       "      <td>NaN</td>\n",
       "      <td>KIN</td>\n",
       "      <td>POOR</td>\n",
       "      <td>TIM THAY THEO CMND</td>\n",
       "      <td>NaN</td>\n",
       "      <td>034152019073</td>\n",
       "      <td>245069748.0</td>\n",
       "      <td>2</td>\n",
       "    </tr>\n",
       "    <tr>\n",
       "      <th>2</th>\n",
       "      <td>3</td>\n",
       "      <td>NaN</td>\n",
       "      <td>3</td>\n",
       "      <td>HÀ VĂN CÔNG</td>\n",
       "      <td>HÀ VĂN HỮU</td>\n",
       "      <td>CHILD</td>\n",
       "      <td>24/02/1990</td>\n",
       "      <td>24/02/1990</td>\n",
       "      <td>24.0</td>\n",
       "      <td>2.0</td>\n",
       "      <td>1990</td>\n",
       "      <td>MALE</td>\n",
       "      <td>chưa có CCCD</td>\n",
       "      <td>ĐẮK NÔNG</td>\n",
       "      <td>TUY ĐỨC</td>\n",
       "      <td>QUẢNG TÂN</td>\n",
       "      <td>NaN</td>\n",
       "      <td>KIN</td>\n",
       "      <td>POOR</td>\n",
       "      <td>KHONG TIM THAY THEO CCCD</td>\n",
       "      <td>NaN</td>\n",
       "      <td>NaN</td>\n",
       "      <td>NaN</td>\n",
       "      <td>3</td>\n",
       "    </tr>\n",
       "    <tr>\n",
       "      <th>3</th>\n",
       "      <td>4</td>\n",
       "      <td>2</td>\n",
       "      <td>4</td>\n",
       "      <td>PHẠM TRUNG HIẾU</td>\n",
       "      <td>PHẠM TRUNG HIẾU</td>\n",
       "      <td>HEAD</td>\n",
       "      <td>20/06/1998</td>\n",
       "      <td>20/06/1998</td>\n",
       "      <td>20.0</td>\n",
       "      <td>6.0</td>\n",
       "      <td>1998</td>\n",
       "      <td>MALE</td>\n",
       "      <td>067098005941</td>\n",
       "      <td>ĐẮK NÔNG</td>\n",
       "      <td>TUY ĐỨC</td>\n",
       "      <td>QUẢNG TÂN</td>\n",
       "      <td>NaN</td>\n",
       "      <td>KIN</td>\n",
       "      <td>POOR</td>\n",
       "      <td>TIM THAY THEO CCCD</td>\n",
       "      <td>NaN</td>\n",
       "      <td>067098005941</td>\n",
       "      <td>245377043.0</td>\n",
       "      <td>4</td>\n",
       "    </tr>\n",
       "    <tr>\n",
       "      <th>4</th>\n",
       "      <td>5</td>\n",
       "      <td>NaN</td>\n",
       "      <td>5</td>\n",
       "      <td>PHẠM TRUNG HIẾU</td>\n",
       "      <td>PHẠM THỊ HẬU</td>\n",
       "      <td>PARENT</td>\n",
       "      <td>1970</td>\n",
       "      <td>1970</td>\n",
       "      <td>NaN</td>\n",
       "      <td>NaN</td>\n",
       "      <td>1970</td>\n",
       "      <td>FEMALE</td>\n",
       "      <td>245323659</td>\n",
       "      <td>ĐẮK NÔNG</td>\n",
       "      <td>TUY ĐỨC</td>\n",
       "      <td>QUẢNG TÂN</td>\n",
       "      <td>NaN</td>\n",
       "      <td>KIN</td>\n",
       "      <td>POOR</td>\n",
       "      <td>TIM THAY THEO CMND</td>\n",
       "      <td>NaN</td>\n",
       "      <td>034170017399</td>\n",
       "      <td>245323659.0</td>\n",
       "      <td>5</td>\n",
       "    </tr>\n",
       "  </tbody>\n",
       "</table>\n",
       "</div>"
      ],
      "text/plain": [
       "   Unnamed: 0 STT_HO  STT    HO_TEN_CHU_HO HO_TEN_THANH_VIEN QUANHE_CHUHO  \\\n",
       "0           1      1    1      HÀ VĂN CÔNG       HÀ VĂN CÔNG         HEAD   \n",
       "1           2    NaN    2      HÀ VĂN CÔNG      NGÔ THỊ NƯỚC      PARTNER   \n",
       "2           3    NaN    3      HÀ VĂN CÔNG        HÀ VĂN HỮU        CHILD   \n",
       "3           4      2    4  PHẠM TRUNG HIẾU   PHẠM TRUNG HIẾU         HEAD   \n",
       "4           5    NaN    5  PHẠM TRUNG HIẾU      PHẠM THỊ HẬU       PARENT   \n",
       "\n",
       "    NGAY_SINH NGAY_SINH.1  NGAY  Tháng   Năm GIOI_TINH       SO_CCCD  \\\n",
       "0  20/05/1952  20/05/1952  20.0    5.0  1952    FEMALE  034052015155   \n",
       "1  20/10/1952  20/10/1952  20.0   10.0  1952    FEMALE     245069748   \n",
       "2  24/02/1990  24/02/1990  24.0    2.0  1990      MALE  chưa có CCCD   \n",
       "3  20/06/1998  20/06/1998  20.0    6.0  1998      MALE  067098005941   \n",
       "4        1970        1970   NaN    NaN  1970    FEMALE     245323659   \n",
       "\n",
       "       TINH    HUYEN         XA  THÔN XÓM DANTOC PHAN_LOAI_HO  \\\n",
       "0  ĐẮK NÔNG  TUY ĐỨC  QUẢNG TÂN       NaN    KIN         POOR   \n",
       "1  ĐẮK NÔNG  TUY ĐỨC  QUẢNG TÂN       NaN    KIN         POOR   \n",
       "2  ĐẮK NÔNG  TUY ĐỨC  QUẢNG TÂN       NaN    KIN         POOR   \n",
       "3  ĐẮK NÔNG  TUY ĐỨC  QUẢNG TÂN       NaN    KIN         POOR   \n",
       "4  ĐẮK NÔNG  TUY ĐỨC  QUẢNG TÂN       NaN    KIN         POOR   \n",
       "\n",
       "                    KET_QUA GHI_CHU   DC_DINHDANH      DC_CMND Unnamed: 23  \n",
       "0        TIM THAY THEO CCCD     NaN  034052015155  245069749.0           1  \n",
       "1        TIM THAY THEO CMND     NaN  034152019073  245069748.0           2  \n",
       "2  KHONG TIM THAY THEO CCCD     NaN           NaN          NaN           3  \n",
       "3        TIM THAY THEO CCCD     NaN  067098005941  245377043.0           4  \n",
       "4        TIM THAY THEO CMND     NaN  034170017399  245323659.0           5  "
      ]
     },
     "execution_count": 271,
     "metadata": {},
     "output_type": "execute_result"
    }
   ],
   "source": [
    "df_huyen_tuy_duc.head(5)"
   ]
  },
  {
   "cell_type": "code",
   "execution_count": 272,
   "metadata": {},
   "outputs": [
    {
     "data": {
      "text/plain": [
       "Index(['Unnamed: 0', 'STT_HO', 'STT', 'HO_TEN_CHU_HO', 'HO_TEN_THANH_VIEN',\n",
       "       'QUANHE_CHUHO', 'NGAY_SINH', 'NGAY_SINH.1', 'NGAY', 'Tháng', 'Năm',\n",
       "       'GIOI_TINH', 'SO_CCCD', 'TINH', 'HUYEN', 'XA', 'THÔN XÓM', 'DANTOC',\n",
       "       'PHAN_LOAI_HO', 'KET_QUA', 'GHI_CHU', 'DC_DINHDANH', 'DC_CMND',\n",
       "       'Unnamed: 23'],\n",
       "      dtype='object')"
      ]
     },
     "execution_count": 272,
     "metadata": {},
     "output_type": "execute_result"
    }
   ],
   "source": [
    "df_huyen_tuy_duc.columns"
   ]
  },
  {
   "cell_type": "code",
   "execution_count": 273,
   "metadata": {},
   "outputs": [
    {
     "data": {
      "text/plain": [
       "(22178, 24)"
      ]
     },
     "execution_count": 273,
     "metadata": {},
     "output_type": "execute_result"
    }
   ],
   "source": [
    "df_huyen_tuy_duc.shape"
   ]
  },
  {
   "cell_type": "markdown",
   "metadata": {},
   "source": [
    "- ##### Bộ dữ liệu về HUYỆN TUY ĐỨC có tổng cộng 22 181 dòng và 24 thuộc tính\n"
   ]
  },
  {
   "cell_type": "markdown",
   "metadata": {},
   "source": [
    "#### 2.1.8. TP GIA NGHĨA"
   ]
  },
  {
   "cell_type": "code",
   "execution_count": 274,
   "metadata": {},
   "outputs": [
    {
     "name": "stderr",
     "output_type": "stream",
     "text": [
      "c:\\Users\\hdang\\.virtualenvs\\DM-xmUrTfoX\\Lib\\site-packages\\openpyxl\\worksheet\\_reader.py:223: UserWarning: Cell G893 is marked as a date but the serial value 3691245 is outside the limits for dates. The cell will be treated as an error.\n",
      "  warn(msg)\n"
     ]
    }
   ],
   "source": [
    "df_tp_gia_nghia=pd.read_excel(\"../data_origin/TP GIA NGHĨA.xlsx\")\n"
   ]
  },
  {
   "cell_type": "code",
   "execution_count": 275,
   "metadata": {},
   "outputs": [
    {
     "data": {
      "text/html": [
       "<div>\n",
       "<style scoped>\n",
       "    .dataframe tbody tr th:only-of-type {\n",
       "        vertical-align: middle;\n",
       "    }\n",
       "\n",
       "    .dataframe tbody tr th {\n",
       "        vertical-align: top;\n",
       "    }\n",
       "\n",
       "    .dataframe thead th {\n",
       "        text-align: right;\n",
       "    }\n",
       "</style>\n",
       "<table border=\"1\" class=\"dataframe\">\n",
       "  <thead>\n",
       "    <tr style=\"text-align: right;\">\n",
       "      <th></th>\n",
       "      <th>Unnamed: 0</th>\n",
       "      <th>STT_HO</th>\n",
       "      <th>STT</th>\n",
       "      <th>HO_TEN_CHU_HO</th>\n",
       "      <th>HO_TEN_THANH_VIEN</th>\n",
       "      <th>QUANHE_CHUHO</th>\n",
       "      <th>NGAY_SINH</th>\n",
       "      <th>NGAY_SINH.1</th>\n",
       "      <th>Ngày</th>\n",
       "      <th>Tháng</th>\n",
       "      <th>Năm</th>\n",
       "      <th>GIOI_TINH</th>\n",
       "      <th>SO_CCCD</th>\n",
       "      <th>TINH</th>\n",
       "      <th>HUYEN</th>\n",
       "      <th>XA</th>\n",
       "      <th>Thôn, Bon, TDP</th>\n",
       "      <th>DANTOC</th>\n",
       "      <th>PHAN_LOAI_HO</th>\n",
       "      <th>KET_QUA</th>\n",
       "      <th>GHI_CHU</th>\n",
       "      <th>DC_DINHDANH</th>\n",
       "      <th>DC_CMND</th>\n",
       "      <th>Unnamed: 23</th>\n",
       "      <th>Unnamed: 24</th>\n",
       "    </tr>\n",
       "  </thead>\n",
       "  <tbody>\n",
       "    <tr>\n",
       "      <th>0</th>\n",
       "      <td>1</td>\n",
       "      <td>1.0</td>\n",
       "      <td>1</td>\n",
       "      <td>NGUYỄN THỊ CÚC</td>\n",
       "      <td>NGUYỄN THỊ CÚC</td>\n",
       "      <td>HEAD</td>\n",
       "      <td>1948-06-10 00:00:00</td>\n",
       "      <td>10/06/1948</td>\n",
       "      <td>10.0</td>\n",
       "      <td>6.0</td>\n",
       "      <td>1948.0</td>\n",
       "      <td>FEMALE</td>\n",
       "      <td>42148007514</td>\n",
       "      <td>ĐẮK NÔNG</td>\n",
       "      <td>GIA NGHĨA</td>\n",
       "      <td>NGHĨA PHÚ</td>\n",
       "      <td>TDP 2</td>\n",
       "      <td>KIN</td>\n",
       "      <td>POOR</td>\n",
       "      <td>TIM THAY THEO CCCD</td>\n",
       "      <td>NaN</td>\n",
       "      <td>4.214801e+10</td>\n",
       "      <td>245023871.0</td>\n",
       "      <td>NaN</td>\n",
       "      <td>NaN</td>\n",
       "    </tr>\n",
       "    <tr>\n",
       "      <th>1</th>\n",
       "      <td>2</td>\n",
       "      <td>2.0</td>\n",
       "      <td>2</td>\n",
       "      <td>LÊ THỊ THƯỢC</td>\n",
       "      <td>LÊ THỊ THƯỢC</td>\n",
       "      <td>HEAD</td>\n",
       "      <td>1953-03-06 00:00:00</td>\n",
       "      <td>06/03/1953</td>\n",
       "      <td>6.0</td>\n",
       "      <td>3.0</td>\n",
       "      <td>1953.0</td>\n",
       "      <td>FEMALE</td>\n",
       "      <td>42153001151</td>\n",
       "      <td>ĐẮK NÔNG</td>\n",
       "      <td>GIA NGHĨA</td>\n",
       "      <td>NGHĨA PHÚ</td>\n",
       "      <td>TDP 3</td>\n",
       "      <td>KIN</td>\n",
       "      <td>POOR</td>\n",
       "      <td>TIM THAY THEO CCCD</td>\n",
       "      <td>NaN</td>\n",
       "      <td>4.215300e+10</td>\n",
       "      <td>245014782.0</td>\n",
       "      <td>NaN</td>\n",
       "      <td>NaN</td>\n",
       "    </tr>\n",
       "    <tr>\n",
       "      <th>2</th>\n",
       "      <td>3</td>\n",
       "      <td>3.0</td>\n",
       "      <td>3</td>\n",
       "      <td>NGUYỄN VĂN HÙNG</td>\n",
       "      <td>NGUYỄN VĂN HÙNG</td>\n",
       "      <td>HEAD</td>\n",
       "      <td>1958-01-01 00:00:00</td>\n",
       "      <td>01/01/1958</td>\n",
       "      <td>1.0</td>\n",
       "      <td>1.0</td>\n",
       "      <td>1958.0</td>\n",
       "      <td>MALE</td>\n",
       "      <td>38058026572</td>\n",
       "      <td>ĐẮK NÔNG</td>\n",
       "      <td>GIA NGHĨA</td>\n",
       "      <td>NGHĨA PHÚ</td>\n",
       "      <td>TDP 3</td>\n",
       "      <td>KIN</td>\n",
       "      <td>POOR</td>\n",
       "      <td>TIM THAY THEO CCCD</td>\n",
       "      <td>NaN</td>\n",
       "      <td>3.805803e+10</td>\n",
       "      <td>285657307.0</td>\n",
       "      <td>NaN</td>\n",
       "      <td>NaN</td>\n",
       "    </tr>\n",
       "    <tr>\n",
       "      <th>3</th>\n",
       "      <td>4</td>\n",
       "      <td>NaN</td>\n",
       "      <td>4</td>\n",
       "      <td>NGUYỄN VĂN HÙNG</td>\n",
       "      <td>NGUYỄN THỊ HẠNH</td>\n",
       "      <td>PARTNER</td>\n",
       "      <td>1959-01-01 00:00:00</td>\n",
       "      <td>01/01/1959</td>\n",
       "      <td>1.0</td>\n",
       "      <td>1.0</td>\n",
       "      <td>1959.0</td>\n",
       "      <td>FEMALE</td>\n",
       "      <td>38159013014</td>\n",
       "      <td>ĐẮK NÔNG</td>\n",
       "      <td>GIA NGHĨA</td>\n",
       "      <td>NGHĨA PHÚ</td>\n",
       "      <td>TDP 3</td>\n",
       "      <td>KIN</td>\n",
       "      <td>POOR</td>\n",
       "      <td>TIM THAY THEO CCCD</td>\n",
       "      <td>NaN</td>\n",
       "      <td>3.815901e+10</td>\n",
       "      <td>285455285.0</td>\n",
       "      <td>NaN</td>\n",
       "      <td>NaN</td>\n",
       "    </tr>\n",
       "    <tr>\n",
       "      <th>4</th>\n",
       "      <td>5</td>\n",
       "      <td>NaN</td>\n",
       "      <td>5</td>\n",
       "      <td>NGUYỄN VĂN HÙNG</td>\n",
       "      <td>NGUYỄN ANH TÀI</td>\n",
       "      <td>CHILD</td>\n",
       "      <td>1989-10-20 00:00:00</td>\n",
       "      <td>20/10/1989</td>\n",
       "      <td>20.0</td>\n",
       "      <td>10.0</td>\n",
       "      <td>1989.0</td>\n",
       "      <td>MALE</td>\n",
       "      <td>38089023181</td>\n",
       "      <td>ĐẮK NÔNG</td>\n",
       "      <td>GIA NGHĨA</td>\n",
       "      <td>NGHĨA PHÚ</td>\n",
       "      <td>TDP 3</td>\n",
       "      <td>KIN</td>\n",
       "      <td>POOR</td>\n",
       "      <td>TIM THAY THEO CCCD</td>\n",
       "      <td>NaN</td>\n",
       "      <td>3.808902e+10</td>\n",
       "      <td>245372747.0</td>\n",
       "      <td>NaN</td>\n",
       "      <td>NaN</td>\n",
       "    </tr>\n",
       "  </tbody>\n",
       "</table>\n",
       "</div>"
      ],
      "text/plain": [
       "   Unnamed: 0  STT_HO  STT    HO_TEN_CHU_HO HO_TEN_THANH_VIEN QUANHE_CHUHO  \\\n",
       "0           1     1.0    1   NGUYỄN THỊ CÚC    NGUYỄN THỊ CÚC         HEAD   \n",
       "1           2     2.0    2     LÊ THỊ THƯỢC      LÊ THỊ THƯỢC         HEAD   \n",
       "2           3     3.0    3  NGUYỄN VĂN HÙNG   NGUYỄN VĂN HÙNG         HEAD   \n",
       "3           4     NaN    4  NGUYỄN VĂN HÙNG   NGUYỄN THỊ HẠNH      PARTNER   \n",
       "4           5     NaN    5  NGUYỄN VĂN HÙNG    NGUYỄN ANH TÀI        CHILD   \n",
       "\n",
       "             NGAY_SINH NGAY_SINH.1  Ngày  Tháng     Năm GIOI_TINH  \\\n",
       "0  1948-06-10 00:00:00  10/06/1948  10.0    6.0  1948.0    FEMALE   \n",
       "1  1953-03-06 00:00:00  06/03/1953   6.0    3.0  1953.0    FEMALE   \n",
       "2  1958-01-01 00:00:00  01/01/1958   1.0    1.0  1958.0      MALE   \n",
       "3  1959-01-01 00:00:00  01/01/1959   1.0    1.0  1959.0    FEMALE   \n",
       "4  1989-10-20 00:00:00  20/10/1989  20.0   10.0  1989.0      MALE   \n",
       "\n",
       "       SO_CCCD      TINH      HUYEN         XA Thôn, Bon, TDP DANTOC  \\\n",
       "0  42148007514  ĐẮK NÔNG  GIA NGHĨA  NGHĨA PHÚ          TDP 2    KIN   \n",
       "1  42153001151  ĐẮK NÔNG  GIA NGHĨA  NGHĨA PHÚ          TDP 3    KIN   \n",
       "2  38058026572  ĐẮK NÔNG  GIA NGHĨA  NGHĨA PHÚ          TDP 3    KIN   \n",
       "3  38159013014  ĐẮK NÔNG  GIA NGHĨA  NGHĨA PHÚ          TDP 3    KIN   \n",
       "4  38089023181  ĐẮK NÔNG  GIA NGHĨA  NGHĨA PHÚ          TDP 3    KIN   \n",
       "\n",
       "  PHAN_LOAI_HO             KET_QUA GHI_CHU   DC_DINHDANH      DC_CMND  \\\n",
       "0         POOR  TIM THAY THEO CCCD     NaN  4.214801e+10  245023871.0   \n",
       "1         POOR  TIM THAY THEO CCCD     NaN  4.215300e+10  245014782.0   \n",
       "2         POOR  TIM THAY THEO CCCD     NaN  3.805803e+10  285657307.0   \n",
       "3         POOR  TIM THAY THEO CCCD     NaN  3.815901e+10  285455285.0   \n",
       "4         POOR  TIM THAY THEO CCCD     NaN  3.808902e+10  245372747.0   \n",
       "\n",
       "  Unnamed: 23 Unnamed: 24  \n",
       "0         NaN         NaN  \n",
       "1         NaN         NaN  \n",
       "2         NaN         NaN  \n",
       "3         NaN         NaN  \n",
       "4         NaN         NaN  "
      ]
     },
     "execution_count": 275,
     "metadata": {},
     "output_type": "execute_result"
    }
   ],
   "source": [
    "df_tp_gia_nghia.head(5)"
   ]
  },
  {
   "cell_type": "code",
   "execution_count": 276,
   "metadata": {},
   "outputs": [
    {
     "data": {
      "text/plain": [
       "Index(['Unnamed: 0', 'STT_HO', 'STT', 'HO_TEN_CHU_HO', 'HO_TEN_THANH_VIEN',\n",
       "       'QUANHE_CHUHO', 'NGAY_SINH', 'NGAY_SINH.1', 'Ngày', 'Tháng', 'Năm',\n",
       "       'GIOI_TINH', 'SO_CCCD', 'TINH', 'HUYEN', 'XA', 'Thôn, Bon, TDP',\n",
       "       'DANTOC', 'PHAN_LOAI_HO', 'KET_QUA', 'GHI_CHU', 'DC_DINHDANH',\n",
       "       'DC_CMND', 'Unnamed: 23', 'Unnamed: 24'],\n",
       "      dtype='object')"
      ]
     },
     "execution_count": 276,
     "metadata": {},
     "output_type": "execute_result"
    }
   ],
   "source": [
    "df_tp_gia_nghia.columns"
   ]
  },
  {
   "cell_type": "code",
   "execution_count": 277,
   "metadata": {},
   "outputs": [
    {
     "data": {
      "text/plain": [
       "(969, 25)"
      ]
     },
     "execution_count": 277,
     "metadata": {},
     "output_type": "execute_result"
    }
   ],
   "source": [
    "df_tp_gia_nghia.shape"
   ]
  },
  {
   "cell_type": "markdown",
   "metadata": {},
   "source": [
    "- ##### Bộ dữ liệu về TP GIA NGHĨA có tổng cộng 969 dòng và 25 thuộc tính\n"
   ]
  },
  {
   "cell_type": "markdown",
   "metadata": {},
   "source": [
    "### 2.2.Data Pre-Processing"
   ]
  },
  {
   "cell_type": "markdown",
   "metadata": {},
   "source": [
    "#### 2.2.1.Huyen_Cu_Jut"
   ]
  },
  {
   "cell_type": "markdown",
   "metadata": {},
   "source": [
    "> Kiểm tra giá trị null của tập dữ liệu "
   ]
  },
  {
   "cell_type": "code",
   "execution_count": 278,
   "metadata": {},
   "outputs": [
    {
     "data": {
      "text/plain": [
       "Unnamed: 0               0\n",
       "STT_HO                9315\n",
       "STT                      0\n",
       "HO_TEN_CHU_HO            0\n",
       "HO_TEN_THANH_VIEN        0\n",
       "QUANHE\\n_CHUHO           3\n",
       "NGAY_SINH               10\n",
       "NGAY_SINH.1           7611\n",
       "Unnamed: 8            7611\n",
       "Unnamed: 9            7732\n",
       "Unnamed: 10           7577\n",
       "Unnamed: 11          11841\n",
       "GIOI_TINH                2\n",
       "SO_CCCD                603\n",
       "TINH                     0\n",
       "HUYEN                    0\n",
       "XA                       0\n",
       "THÔN TỔ ẤP           11841\n",
       "DAN \\nTOC             4820\n",
       "PHAN_\\nLOAI_HO           0\n",
       "KET_QUA                  0\n",
       "GHI_CHU              11032\n",
       "DC_DINHDANH           2873\n",
       "DC_CMND               6202\n",
       "Unnamed: 24          11841\n",
       "Unnamed: 25          11833\n",
       "dtype: int64"
      ]
     },
     "execution_count": 278,
     "metadata": {},
     "output_type": "execute_result"
    }
   ],
   "source": [
    "df_huyen_cu_jut.isnull().sum()"
   ]
  },
  {
   "cell_type": "code",
   "execution_count": 279,
   "metadata": {},
   "outputs": [
    {
     "data": {
      "text/plain": [
       "(11841, 26)"
      ]
     },
     "execution_count": 279,
     "metadata": {},
     "output_type": "execute_result"
    }
   ],
   "source": [
    "df_huyen_cu_jut.shape"
   ]
  },
  {
   "cell_type": "markdown",
   "metadata": {},
   "source": [
    "> Xoá những người đã chết, chết rồi, chuyển vùng ra khỏi bộ dữ liệu"
   ]
  },
  {
   "cell_type": "code",
   "execution_count": 280,
   "metadata": {},
   "outputs": [
    {
     "name": "stdout",
     "output_type": "stream",
     "text": [
      "Số lượng hàng chứa 'cắt hộ nghèo': 0\n",
      "Số lượng hàng chứa 'ĐÃ CHẾT': 1\n",
      "Số lượng hàng chứa 'chết': 1\n",
      "Số lượng hàng chứa 'CHẾT RỒI': 2\n",
      "Số lượng hàng chứa 'CHẾT': 15\n",
      "Số lượng hàng chứa 'CHUYỂN ĐI': 11\n",
      "Số lượng hàng chứa 'mới chết': 0\n",
      "Số lượng hàng chứa 'CHẾT RÒI': 1\n",
      "Số lượng hàng chứa 'CHUYỂN': 1\n",
      "Số lượng hàng chứa 'chuyển': 0\n",
      "Số lượng hàng chứa 'Chết': 0\n",
      "Số lượng hàng chứa 'chuyển đi': 0\n",
      "Số lượng hàng chứa 'cắt khẩu': 0\n",
      "Số lượng hàng chứa 'chuyển khẩu': 0\n",
      "Số lượng hàng chứa 'CẮT CHUYỂN KHẨU': 0\n",
      "Số lượng hàng chứa 'ĐÃ CHUYỂN HK': 0\n",
      "Số lượng hàng chứa 'KHÔNG CÓ TẠI ĐỊA PHƯƠNG': 0\n",
      "Số lượng hàng chứa 'Đã chuyển khẩu': 0\n",
      "Số lượng hàng chứa 'đã chết': 0\n"
     ]
    }
   ],
   "source": [
    "# List of values to filter out\n",
    "values_to_drop = [\"cắt hộ nghèo\", \"ĐÃ CHẾT\", \"chết\", \"CHẾT RỒI\", \"CHẾT\", \"CHUYỂN ĐI\", \"mới chết\", \"CHẾT RÒI\", \"CHUYỂN\", \"chuyển\", \"Chết\", \"chuyển đi\", \"cắt khẩu\", \"chuyển khẩu\", \"CẮT CHUYỂN KHẨU\", \"ĐÃ CHUYỂN HK\", \"KHÔNG CÓ TẠI ĐỊA PHƯƠNG\", \"Đã chuyển khẩu\", \"đã chết\"]\n",
    "\n",
    "# Dictionary to store counts\n",
    "value_counts = {value: 0 for value in values_to_drop}\n",
    "\n",
    "# Iterate over each value in values_to_drop and count occurrences\n",
    "for value in values_to_drop:\n",
    "    count = (df_huyen_cu_jut.isin([value])).sum().sum()\n",
    "    value_counts[value] = count\n",
    "\n",
    "# Print the counts\n",
    "for value, count in value_counts.items():\n",
    "    print(f\"Số lượng hàng chứa '{value}': {count}\")"
   ]
  },
  {
   "cell_type": "code",
   "execution_count": 281,
   "metadata": {},
   "outputs": [],
   "source": [
    "\n",
    "# Iterate over each column and filter rows containing values_to_drop\n",
    "for column in df_huyen_cu_jut.columns:\n",
    "    df_huyen_cu_jut = df_huyen_cu_jut[~df_huyen_cu_jut[column].isin(values_to_drop)]"
   ]
  },
  {
   "cell_type": "markdown",
   "metadata": {},
   "source": [
    "> Quan sát thấy \"Unnamed: 24\",\"Unnamed: 25\",\"Unnamed:  8\" và \"Unnamed:  9\", Unnamed: 10,Unnamed: 11,NGAY_SINH.1 không có ý nghĩa phân tích vì nó chứa quá nhiều giá trị null"
   ]
  },
  {
   "cell_type": "code",
   "execution_count": 282,
   "metadata": {},
   "outputs": [],
   "source": [
    "df_huyen_cu_jut.drop(columns=['Unnamed: 9','Unnamed: 8','Unnamed: 10','Unnamed: 11','NGAY_SINH.1','Unnamed: 24','Unnamed: 25'],inplace=True)"
   ]
  },
  {
   "cell_type": "markdown",
   "metadata": {},
   "source": [
    ">  Kết quả sau khi xóa bỏ những dòng chứa giá trị null"
   ]
  },
  {
   "cell_type": "code",
   "execution_count": 283,
   "metadata": {},
   "outputs": [
    {
     "data": {
      "text/plain": [
       "(11809, 19)"
      ]
     },
     "execution_count": 283,
     "metadata": {},
     "output_type": "execute_result"
    }
   ],
   "source": [
    "df_huyen_cu_jut.shape"
   ]
  },
  {
   "cell_type": "code",
   "execution_count": 284,
   "metadata": {},
   "outputs": [],
   "source": [
    "# List of values to filter out\n",
    "values_to_drop = [\n",
    "    'chết 3/4/2023',\n",
    "    'chết 19/1/2023',\n",
    "    'chết 17/11/2022',\n",
    "    'KHÔNG CÓ TRONG HỘ KHẨU'\n",
    "]\n",
    "\n",
    "# Remove rows where 'DC_DINHDANH' contains any of the values in the list\n",
    "df_huyen_cu_jut = df_huyen_cu_jut[~df_huyen_cu_jut['DC_DINHDANH'].isin(values_to_drop)]\n"
   ]
  },
  {
   "cell_type": "markdown",
   "metadata": {},
   "source": [
    "> Các cột như Unnamed: 0 ,DC_CMND, DC_DinhDanh,Ghi_Chu,KetQua  không có ý nghĩa phân tích nên ta sẽ xoá bỏ "
   ]
  },
  {
   "cell_type": "code",
   "execution_count": 285,
   "metadata": {},
   "outputs": [],
   "source": [
    "features = ['Unnamed: 0','KET_QUA', 'GHI_CHU', 'DC_DINHDANH', 'DC_CMND','THÔN TỔ ẤP']\n",
    "df_huyen_cu_jut.drop(columns=features, inplace=True)"
   ]
  },
  {
   "cell_type": "markdown",
   "metadata": {},
   "source": [
    "> Kiểm tra"
   ]
  },
  {
   "cell_type": "code",
   "execution_count": 286,
   "metadata": {},
   "outputs": [
    {
     "data": {
      "text/plain": [
       "STT_HO               9287\n",
       "STT                     0\n",
       "HO_TEN_CHU_HO           0\n",
       "HO_TEN_THANH_VIEN       0\n",
       "QUANHE\\n_CHUHO          3\n",
       "NGAY_SINH               9\n",
       "GIOI_TINH               2\n",
       "SO_CCCD               598\n",
       "TINH                    0\n",
       "HUYEN                   0\n",
       "XA                      0\n",
       "DAN \\nTOC            4794\n",
       "PHAN_\\nLOAI_HO          0\n",
       "dtype: int64"
      ]
     },
     "execution_count": 286,
     "metadata": {},
     "output_type": "execute_result"
    }
   ],
   "source": [
    "df_huyen_cu_jut.isnull().sum()"
   ]
  },
  {
   "cell_type": "markdown",
   "metadata": {},
   "source": [
    "> Sửa tên"
   ]
  },
  {
   "cell_type": "code",
   "execution_count": 287,
   "metadata": {},
   "outputs": [
    {
     "data": {
      "text/plain": [
       "Index(['STT_HO', 'STT', 'HO_TEN_CHU_HO', 'HO_TEN_THANH_VIEN', 'QUANHE_CHUHO',\n",
       "       'NGAY_SINH', 'GIOI_TINH', 'SO_CCCD', 'TINH', 'HUYEN', 'XA', 'DANTOC',\n",
       "       'PHAN_LOAI_HO'],\n",
       "      dtype='object')"
      ]
     },
     "execution_count": 287,
     "metadata": {},
     "output_type": "execute_result"
    }
   ],
   "source": [
    "# Đổi tên các cột\n",
    "df_huyen_cu_jut = df_huyen_cu_jut.rename(columns={\n",
    "    'STT_HO': 'STT_HO',\n",
    "    'STT': 'STT',\n",
    "    'HO_TEN_CHU_HO': 'HO_TEN_CHU_HO',\n",
    "    'HO_TEN_THANH_VIEN': 'HO_TEN_THANH_VIEN',\n",
    "    'QUANHE\\n_CHUHO': 'QUANHE_CHUHO',\n",
    "    'NGAY_SINH': 'NGAY_SINH',\n",
    "    'GIOI_\\nTINH': 'GIOI_TINH',\n",
    "    'SO_CCCD': 'SO_CCCD',\n",
    "    'TINH': 'TINH',\n",
    "    'HUYEN': 'HUYEN',\n",
    "    'XA': 'XA',\n",
    "    'DAN \\nTOC': 'DANTOC',\n",
    "    'PHAN_\\nLOAI_HO': 'PHAN_LOAI_HO'\n",
    "})\n",
    "df_huyen_cu_jut.columns\n"
   ]
  },
  {
   "cell_type": "markdown",
   "metadata": {},
   "source": [
    "> Kiểm tra"
   ]
  },
  {
   "cell_type": "code",
   "execution_count": 288,
   "metadata": {},
   "outputs": [
    {
     "data": {
      "text/plain": [
       "STT_HO               9287\n",
       "STT                     0\n",
       "HO_TEN_CHU_HO           0\n",
       "HO_TEN_THANH_VIEN       0\n",
       "QUANHE_CHUHO            3\n",
       "NGAY_SINH               9\n",
       "GIOI_TINH               2\n",
       "SO_CCCD               598\n",
       "TINH                    0\n",
       "HUYEN                   0\n",
       "XA                      0\n",
       "DANTOC               4794\n",
       "PHAN_LOAI_HO            0\n",
       "dtype: int64"
      ]
     },
     "execution_count": 288,
     "metadata": {},
     "output_type": "execute_result"
    }
   ],
   "source": [
    "df_huyen_cu_jut.isnull().sum()"
   ]
  },
  {
   "cell_type": "code",
   "execution_count": 289,
   "metadata": {},
   "outputs": [
    {
     "data": {
      "text/plain": [
       "(11804, 13)"
      ]
     },
     "execution_count": 289,
     "metadata": {},
     "output_type": "execute_result"
    }
   ],
   "source": [
    "df_huyen_cu_jut.shape"
   ]
  },
  {
   "cell_type": "markdown",
   "metadata": {},
   "source": [
    "> Xem các dòng mang giá trị bị thiếu của cột giới tính"
   ]
  },
  {
   "cell_type": "code",
   "execution_count": 290,
   "metadata": {},
   "outputs": [
    {
     "name": "stdout",
     "output_type": "stream",
     "text": [
      "       STT_HO    STT   HO_TEN_CHU_HO HO_TEN_THANH_VIEN  QUANHE_CHUHO  \\\n",
      "10859     2.0  10860    H' ĐLIU ÊBAN      H' ĐLIU ÊBAN           1.0   \n",
      "10865     NaN  10866  Y BLIỄU BKRÔNG       Y HÙNG ÊBAN           3.0   \n",
      "\n",
      "        NGAY_SINH  GIOI_TINH       SO_CCCD      TINH   HUYEN        XA DANTOC  \\\n",
      "10859  01/01/1957        NaN  067157000089  ĐẮK NÔNG  CƯ JUT  NAM DONG     12   \n",
      "10865  01/08/2009        NaN  067209008290  ĐẮK NÔNG  CƯ JUT  NAM DONG     12   \n",
      "\n",
      "       PHAN_LOAI_HO  \n",
      "10859             2  \n",
      "10865             2  \n"
     ]
    }
   ],
   "source": [
    "rows_with_null_gioi_tinh=df_huyen_cu_jut[df_huyen_cu_jut['GIOI_TINH'].isnull()]\n",
    "print(rows_with_null_gioi_tinh)"
   ]
  },
  {
   "cell_type": "markdown",
   "metadata": {},
   "source": [
    "> Thường thì họ \"Y\" thường là \"Nam\" điền \"1\", ở Người Ê Đê, và họ 'H' thường là \"Nữ\" điền \"2\""
   ]
  },
  {
   "cell_type": "code",
   "execution_count": 291,
   "metadata": {},
   "outputs": [],
   "source": [
    "# Điền giá trị vào cột 'GIOI_TINH' cho người có 'SO_CCCD' là '067157000089'\n",
    "df_huyen_cu_jut.loc[df_huyen_cu_jut['SO_CCCD'] == '067157000089', 'GIOI_TINH'] = 2\n",
    "\n",
    "# Điền giá trị vào cột 'GIOI_TINH' cho người có 'SO_CCCD' là '067209008290'\n",
    "df_huyen_cu_jut.loc[df_huyen_cu_jut['SO_CCCD'] == '067209008290', 'GIOI_TINH'] = 1"
   ]
  },
  {
   "cell_type": "markdown",
   "metadata": {},
   "source": [
    "> Xem các dòng mang giá trị bị thiếu của cột  NGAY_SINH"
   ]
  },
  {
   "cell_type": "code",
   "execution_count": 292,
   "metadata": {},
   "outputs": [
    {
     "name": "stdout",
     "output_type": "stream",
     "text": [
      "         HO_TEN_THANH_VIEN       SO_CCCD         XA\n",
      "4798        BÙI TRỌNG TUẤN  067219003315   NAM DONG\n",
      "5697        NGUYỄN VĂN BẮC  036202014319  TÂM THẮNG\n",
      "6199        H NAHI BKRRÔNG           NaN  TÂM THẮNG\n",
      "8981           ĐỖ HOA THÊU  036171019356   CƯ K'NIA\n",
      "8984     VĨNH THỊ ÚT QUANG  067193003842   CƯ K'NIA\n",
      "8985          ĐẶNG THỊ SỬU  036149007005   CƯ K'NIA\n",
      "8986       HOÀNG THỦY TIÊN  067318006292   CƯ K'NIA\n",
      "8993   TRẦN THỊ ĐOAN TRANG  067312001319   CƯ K'NIA\n",
      "11623        HÀ VĂN THƯƠNG  038088035385      EA PÔ\n"
     ]
    }
   ],
   "source": [
    "rows_with_null_ngay_sinh=df_huyen_cu_jut[df_huyen_cu_jut['NGAY_SINH'].isnull()]\n",
    "print(rows_with_null_ngay_sinh[['HO_TEN_THANH_VIEN','SO_CCCD','XA']])"
   ]
  },
  {
   "cell_type": "markdown",
   "metadata": {},
   "source": [
    ">Tính tuổi đối với những hàng nào tính độ tuổi không được thì sẽ điền giá trị trung bình"
   ]
  },
  {
   "cell_type": "code",
   "execution_count": 293,
   "metadata": {},
   "outputs": [],
   "source": [
    "def calculate_age(born):\n",
    "    today = datetime.today().date()  # Lấy ngày hiện tại mà không có giờ, phút, giây\n",
    "    try:\n",
    "        # Xử lý các định dạng không hợp lệ\n",
    "        if \"-\" in born:  # Nếu có dấu \"-\"\n",
    "            parts = born.split(\"-\")\n",
    "            if len(parts[0]) == 4:  # Nếu định dạng là yyyy-mm-dd\n",
    "                born = datetime.strptime(born, \"%Y-%m-%d\").date()\n",
    "            else:  # Nếu định dạng là dd-mm-yyyy\n",
    "                born = datetime.strptime(born, \"%d-%m-%Y\").date()\n",
    "        elif \"/\" in born:  # Nếu có dấu \"/\"\n",
    "            born = datetime.strptime(born, \"%d/%m/%Y\").date()\n",
    "        else:\n",
    "            # Giả định ngày sinh là ngày 1 tháng 1 của năm đó\n",
    "            born = datetime(int(born), 1, 1).date()\n",
    "        \n",
    "        return today.year - born.year\n",
    "    except:\n",
    "        return None\n",
    "\n",
    "# Áp dụng hàm tính tuổi vào cột 'NGAY_SINH'\n",
    "df_huyen_cu_jut['TUOI'] = df_huyen_cu_jut['NGAY_SINH'].apply(calculate_age)"
   ]
  },
  {
   "cell_type": "markdown",
   "metadata": {},
   "source": [
    "> Điền giá trị trung bình cho cột tuổi của những hàng nào không tính được"
   ]
  },
  {
   "cell_type": "code",
   "execution_count": 294,
   "metadata": {},
   "outputs": [
    {
     "data": {
      "text/plain": [
       "STT_HO               9287\n",
       "STT                     0\n",
       "HO_TEN_CHU_HO           0\n",
       "HO_TEN_THANH_VIEN       0\n",
       "QUANHE_CHUHO            3\n",
       "NGAY_SINH               9\n",
       "GIOI_TINH               0\n",
       "SO_CCCD               598\n",
       "TINH                    0\n",
       "HUYEN                   0\n",
       "XA                      0\n",
       "DANTOC               4794\n",
       "PHAN_LOAI_HO            0\n",
       "TUOI                   41\n",
       "dtype: int64"
      ]
     },
     "execution_count": 294,
     "metadata": {},
     "output_type": "execute_result"
    }
   ],
   "source": [
    "df_huyen_cu_jut.isnull().sum()"
   ]
  },
  {
   "cell_type": "code",
   "execution_count": 295,
   "metadata": {},
   "outputs": [
    {
     "data": {
      "text/plain": [
       "(11804, 14)"
      ]
     },
     "execution_count": 295,
     "metadata": {},
     "output_type": "execute_result"
    }
   ],
   "source": [
    "df_huyen_cu_jut.shape"
   ]
  },
  {
   "cell_type": "code",
   "execution_count": 296,
   "metadata": {},
   "outputs": [],
   "source": [
    "# Tính giá trị trung bình  trong cột Tuổi\n",
    "most_common_year_old =round(df_huyen_cu_jut['TUOI'].mean())\n",
    "\n",
    "# Điền giá trị trung bình vào các ô trống\n",
    "df_huyen_cu_jut.fillna({'TUOI': most_common_year_old }, inplace=True)"
   ]
  },
  {
   "cell_type": "code",
   "execution_count": 297,
   "metadata": {},
   "outputs": [
    {
     "data": {
      "text/plain": [
       "STT_HO               9287\n",
       "STT                     0\n",
       "HO_TEN_CHU_HO           0\n",
       "HO_TEN_THANH_VIEN       0\n",
       "QUANHE_CHUHO            3\n",
       "NGAY_SINH               9\n",
       "GIOI_TINH               0\n",
       "SO_CCCD               598\n",
       "TINH                    0\n",
       "HUYEN                   0\n",
       "XA                      0\n",
       "DANTOC               4794\n",
       "PHAN_LOAI_HO            0\n",
       "TUOI                    0\n",
       "dtype: int64"
      ]
     },
     "execution_count": 297,
     "metadata": {},
     "output_type": "execute_result"
    }
   ],
   "source": [
    "df_huyen_cu_jut.isnull().sum()"
   ]
  },
  {
   "cell_type": "code",
   "execution_count": 298,
   "metadata": {},
   "outputs": [
    {
     "data": {
      "text/html": [
       "<div>\n",
       "<style scoped>\n",
       "    .dataframe tbody tr th:only-of-type {\n",
       "        vertical-align: middle;\n",
       "    }\n",
       "\n",
       "    .dataframe tbody tr th {\n",
       "        vertical-align: top;\n",
       "    }\n",
       "\n",
       "    .dataframe thead th {\n",
       "        text-align: right;\n",
       "    }\n",
       "</style>\n",
       "<table border=\"1\" class=\"dataframe\">\n",
       "  <thead>\n",
       "    <tr style=\"text-align: right;\">\n",
       "      <th></th>\n",
       "      <th>STT_HO</th>\n",
       "      <th>STT</th>\n",
       "      <th>HO_TEN_CHU_HO</th>\n",
       "      <th>HO_TEN_THANH_VIEN</th>\n",
       "      <th>QUANHE_CHUHO</th>\n",
       "      <th>NGAY_SINH</th>\n",
       "      <th>GIOI_TINH</th>\n",
       "      <th>SO_CCCD</th>\n",
       "      <th>TINH</th>\n",
       "      <th>HUYEN</th>\n",
       "      <th>XA</th>\n",
       "      <th>DANTOC</th>\n",
       "      <th>PHAN_LOAI_HO</th>\n",
       "      <th>TUOI</th>\n",
       "    </tr>\n",
       "  </thead>\n",
       "  <tbody>\n",
       "    <tr>\n",
       "      <th>0</th>\n",
       "      <td>1.0</td>\n",
       "      <td>1</td>\n",
       "      <td>TRƯƠNG THỊ LÙN</td>\n",
       "      <td>TRƯƠNG THỊ LÙN</td>\n",
       "      <td>1.0</td>\n",
       "      <td>22/04/1905</td>\n",
       "      <td>2.0</td>\n",
       "      <td>054139002355</td>\n",
       "      <td>ĐẮK NÔNG</td>\n",
       "      <td>CƯ JUT</td>\n",
       "      <td>TÂM THẮNG</td>\n",
       "      <td>1</td>\n",
       "      <td>1</td>\n",
       "      <td>119.0</td>\n",
       "    </tr>\n",
       "    <tr>\n",
       "      <th>1</th>\n",
       "      <td>2.0</td>\n",
       "      <td>2</td>\n",
       "      <td>HOÀNG VĂN TRƯỜNG</td>\n",
       "      <td>HOÀNG VĂN TRƯỜNG</td>\n",
       "      <td>1.0</td>\n",
       "      <td>02/06/1905</td>\n",
       "      <td>1.0</td>\n",
       "      <td>036080016941</td>\n",
       "      <td>ĐẮK NÔNG</td>\n",
       "      <td>CƯ JUT</td>\n",
       "      <td>TÂM THẮNG</td>\n",
       "      <td>1</td>\n",
       "      <td>1</td>\n",
       "      <td>119.0</td>\n",
       "    </tr>\n",
       "    <tr>\n",
       "      <th>2</th>\n",
       "      <td>NaN</td>\n",
       "      <td>3</td>\n",
       "      <td>HOÀNG VĂN TRƯỜNG</td>\n",
       "      <td>PHẠM THỊ SOI</td>\n",
       "      <td>2.0</td>\n",
       "      <td>03/06/1905</td>\n",
       "      <td>2.0</td>\n",
       "      <td>036181021986</td>\n",
       "      <td>ĐẮK NÔNG</td>\n",
       "      <td>CƯ JUT</td>\n",
       "      <td>TÂM THẮNG</td>\n",
       "      <td>1</td>\n",
       "      <td>1</td>\n",
       "      <td>119.0</td>\n",
       "    </tr>\n",
       "    <tr>\n",
       "      <th>3</th>\n",
       "      <td>NaN</td>\n",
       "      <td>4</td>\n",
       "      <td>HOÀNG VĂN TRƯỜNG</td>\n",
       "      <td>HOÀNG THỊ BẢO THI</td>\n",
       "      <td>3.0</td>\n",
       "      <td>03/07/1905</td>\n",
       "      <td>2.0</td>\n",
       "      <td>067311001529</td>\n",
       "      <td>ĐẮK NÔNG</td>\n",
       "      <td>CƯ JUT</td>\n",
       "      <td>TÂM THẮNG</td>\n",
       "      <td>1</td>\n",
       "      <td>1</td>\n",
       "      <td>119.0</td>\n",
       "    </tr>\n",
       "    <tr>\n",
       "      <th>4</th>\n",
       "      <td>NaN</td>\n",
       "      <td>5</td>\n",
       "      <td>HOÀNG VĂN TRƯỜNG</td>\n",
       "      <td>HOÀNG KỲ ANH</td>\n",
       "      <td>3.0</td>\n",
       "      <td>05/07/1905</td>\n",
       "      <td>1.0</td>\n",
       "      <td>067213007898</td>\n",
       "      <td>ĐẮK NÔNG</td>\n",
       "      <td>CƯ JUT</td>\n",
       "      <td>TÂM THẮNG</td>\n",
       "      <td>1</td>\n",
       "      <td>1</td>\n",
       "      <td>119.0</td>\n",
       "    </tr>\n",
       "  </tbody>\n",
       "</table>\n",
       "</div>"
      ],
      "text/plain": [
       "   STT_HO  STT     HO_TEN_CHU_HO  HO_TEN_THANH_VIEN  QUANHE_CHUHO   NGAY_SINH  \\\n",
       "0     1.0    1    TRƯƠNG THỊ LÙN     TRƯƠNG THỊ LÙN           1.0  22/04/1905   \n",
       "1     2.0    2  HOÀNG VĂN TRƯỜNG   HOÀNG VĂN TRƯỜNG           1.0  02/06/1905   \n",
       "2     NaN    3  HOÀNG VĂN TRƯỜNG       PHẠM THỊ SOI           2.0  03/06/1905   \n",
       "3     NaN    4  HOÀNG VĂN TRƯỜNG  HOÀNG THỊ BẢO THI           3.0  03/07/1905   \n",
       "4     NaN    5  HOÀNG VĂN TRƯỜNG       HOÀNG KỲ ANH           3.0  05/07/1905   \n",
       "\n",
       "   GIOI_TINH       SO_CCCD      TINH   HUYEN         XA DANTOC  PHAN_LOAI_HO  \\\n",
       "0        2.0  054139002355  ĐẮK NÔNG  CƯ JUT  TÂM THẮNG      1             1   \n",
       "1        1.0  036080016941  ĐẮK NÔNG  CƯ JUT  TÂM THẮNG      1             1   \n",
       "2        2.0  036181021986  ĐẮK NÔNG  CƯ JUT  TÂM THẮNG      1             1   \n",
       "3        2.0  067311001529  ĐẮK NÔNG  CƯ JUT  TÂM THẮNG      1             1   \n",
       "4        1.0  067213007898  ĐẮK NÔNG  CƯ JUT  TÂM THẮNG      1             1   \n",
       "\n",
       "    TUOI  \n",
       "0  119.0  \n",
       "1  119.0  \n",
       "2  119.0  \n",
       "3  119.0  \n",
       "4  119.0  "
      ]
     },
     "execution_count": 298,
     "metadata": {},
     "output_type": "execute_result"
    }
   ],
   "source": [
    "df_huyen_cu_jut.head(5)"
   ]
  },
  {
   "cell_type": "markdown",
   "metadata": {},
   "source": [
    "> Điền giá trị phổ biến cho cột Dân Tộc theo từng xã.Trường hợp nếu toàn bộ xã đó ở cột dân tộc các hàng đều mang giá trị bị thiếu thì ta điền giá trị phổ biến"
   ]
  },
  {
   "cell_type": "code",
   "execution_count": 299,
   "metadata": {},
   "outputs": [],
   "source": [
    "def fill_missing_dantoc(df):\n",
    "    # Tìm giá trị phổ biến của toàn bộ dataframe\n",
    "    overall_most_frequent_dantoc = df['DANTOC'].mode().iloc[0]\n",
    "\n",
    "    for xa in df['XA'].unique():\n",
    "        dantoc_series = df[df['XA'] == xa]['DANTOC'].mode()\n",
    "        if not dantoc_series.empty:\n",
    "            most_frequent_dantoc = dantoc_series.iloc[0]\n",
    "        else:\n",
    "            most_frequent_dantoc = overall_most_frequent_dantoc\n",
    "        \n",
    "        df.loc[df['XA'] == xa, 'DANTOC'] = df.loc[df['XA'] == xa, 'DANTOC'].fillna(most_frequent_dantoc)\n",
    "    \n",
    "    return df\n"
   ]
  },
  {
   "cell_type": "code",
   "execution_count": 300,
   "metadata": {},
   "outputs": [],
   "source": [
    "df_huyen_cu_jut= fill_missing_dantoc(df_huyen_cu_jut) "
   ]
  },
  {
   "cell_type": "code",
   "execution_count": 301,
   "metadata": {},
   "outputs": [
    {
     "data": {
      "text/plain": [
       "STT_HO               9287\n",
       "STT                     0\n",
       "HO_TEN_CHU_HO           0\n",
       "HO_TEN_THANH_VIEN       0\n",
       "QUANHE_CHUHO            3\n",
       "NGAY_SINH               9\n",
       "GIOI_TINH               0\n",
       "SO_CCCD               598\n",
       "TINH                    0\n",
       "HUYEN                   0\n",
       "XA                      0\n",
       "DANTOC                  0\n",
       "PHAN_LOAI_HO            0\n",
       "TUOI                    0\n",
       "dtype: int64"
      ]
     },
     "execution_count": 301,
     "metadata": {},
     "output_type": "execute_result"
    }
   ],
   "source": [
    "df_huyen_cu_jut.isnull().sum()"
   ]
  },
  {
   "cell_type": "code",
   "execution_count": 302,
   "metadata": {},
   "outputs": [
    {
     "data": {
      "text/plain": [
       "Index(['STT_HO', 'STT', 'HO_TEN_CHU_HO', 'HO_TEN_THANH_VIEN', 'QUANHE_CHUHO',\n",
       "       'NGAY_SINH', 'GIOI_TINH', 'SO_CCCD', 'TINH', 'HUYEN', 'XA', 'DANTOC',\n",
       "       'PHAN_LOAI_HO', 'TUOI'],\n",
       "      dtype='object')"
      ]
     },
     "execution_count": 302,
     "metadata": {},
     "output_type": "execute_result"
    }
   ],
   "source": [
    "df_huyen_cu_jut.columns"
   ]
  },
  {
   "cell_type": "markdown",
   "metadata": {},
   "source": [
    "> Điền giá trị phổ biến cho cột QUANHE_CHUHO theo từng xã"
   ]
  },
  {
   "cell_type": "code",
   "execution_count": 303,
   "metadata": {},
   "outputs": [],
   "source": [
    "def fill_missing_quanhe_chuho(df):\n",
    "    # Tìm giá trị phổ biến của toàn bộ dataframe\n",
    "    overall_most_frequent_quanhe_chuho = df['QUANHE_CHUHO'].mode().iloc[0]\n",
    "\n",
    "    for xa in df['XA'].unique():\n",
    "        quanhe_chuho_series = df[df['XA'] == xa]['QUANHE_CHUHO'].mode()\n",
    "        if not quanhe_chuho_series.empty:\n",
    "            most_frequent_quanhe_chuho = quanhe_chuho_series.iloc[0]\n",
    "        else:\n",
    "            most_frequent_quanhe_chuho = overall_most_frequent_quanhe_chuho\n",
    "        \n",
    "        df.loc[df['XA'] == xa, 'QUANHE_CHUHO'] = df.loc[df['XA'] == xa, 'QUANHE_CHUHO'].fillna(most_frequent_quanhe_chuho)\n",
    "    \n",
    "    return df\n"
   ]
  },
  {
   "cell_type": "code",
   "execution_count": 304,
   "metadata": {},
   "outputs": [],
   "source": [
    "df_huyen_cu_jut = fill_missing_quanhe_chuho(df_huyen_cu_jut)"
   ]
  },
  {
   "cell_type": "code",
   "execution_count": 305,
   "metadata": {},
   "outputs": [
    {
     "data": {
      "text/plain": [
       "STT_HO               9287\n",
       "STT                     0\n",
       "HO_TEN_CHU_HO           0\n",
       "HO_TEN_THANH_VIEN       0\n",
       "QUANHE_CHUHO            0\n",
       "NGAY_SINH               9\n",
       "GIOI_TINH               0\n",
       "SO_CCCD               598\n",
       "TINH                    0\n",
       "HUYEN                   0\n",
       "XA                      0\n",
       "DANTOC                  0\n",
       "PHAN_LOAI_HO            0\n",
       "TUOI                    0\n",
       "dtype: int64"
      ]
     },
     "execution_count": 305,
     "metadata": {},
     "output_type": "execute_result"
    }
   ],
   "source": [
    "df_huyen_cu_jut.isnull().sum()"
   ]
  },
  {
   "cell_type": "markdown",
   "metadata": {},
   "source": [
    "> Xóa dòng trùng lặp"
   ]
  },
  {
   "cell_type": "code",
   "execution_count": 306,
   "metadata": {},
   "outputs": [],
   "source": [
    "df_huyen_cu_jut.drop_duplicates(inplace=True)"
   ]
  },
  {
   "cell_type": "markdown",
   "metadata": {},
   "source": [
    "> Sau khi tiền xử lí thì từ (11843, 26) gốc còn lại (11805, 14)"
   ]
  },
  {
   "cell_type": "code",
   "execution_count": 307,
   "metadata": {},
   "outputs": [
    {
     "data": {
      "text/plain": [
       "(11804, 14)"
      ]
     },
     "execution_count": 307,
     "metadata": {},
     "output_type": "execute_result"
    }
   ],
   "source": [
    "df_huyen_cu_jut.shape"
   ]
  },
  {
   "cell_type": "markdown",
   "metadata": {},
   "source": [
    "> Xuất file"
   ]
  },
  {
   "cell_type": "code",
   "execution_count": 308,
   "metadata": {},
   "outputs": [
    {
     "data": {
      "text/plain": [
       "(11804, 14)"
      ]
     },
     "execution_count": 308,
     "metadata": {},
     "output_type": "execute_result"
    }
   ],
   "source": [
    "df_huyen_cu_jut.shape"
   ]
  },
  {
   "cell_type": "code",
   "execution_count": 309,
   "metadata": {},
   "outputs": [],
   "source": [
    "df_huyen_cu_jut.to_excel(\"../data_processed/HUYỆN CƯ JUT.xlsx\")"
   ]
  },
  {
   "cell_type": "markdown",
   "metadata": {},
   "source": [
    "#### 2.2.2. Huyện Dak Glong"
   ]
  },
  {
   "cell_type": "markdown",
   "metadata": {},
   "source": [
    "> Kiểm tra giá trị null của tập dữ liệu "
   ]
  },
  {
   "cell_type": "code",
   "execution_count": 310,
   "metadata": {},
   "outputs": [
    {
     "data": {
      "text/plain": [
       "Unnamed: 0               0\n",
       "STT_HO               30372\n",
       "STT                      0\n",
       "HO_TEN_CHU_HO            0\n",
       "HO_TEN_THANH_VIEN        0\n",
       "QUANHE_CHUHO           114\n",
       "NGAY_SINH               37\n",
       "Unnamed: 7           37427\n",
       "Unnamed: 8           37427\n",
       "Unnamed: 9           37427\n",
       "Unnamed: 10          37427\n",
       "Unnamed: 11          37427\n",
       "GIOI_TINH             1292\n",
       "SO_CCCD               4610\n",
       "TINH                     0\n",
       "HUYEN                    0\n",
       "XA                       0\n",
       "DANTOC                  57\n",
       "PHAN_LOAI_HO             0\n",
       "KET_QUA                  0\n",
       "DC_DINHDANH           3955\n",
       "DC_CMND              20487\n",
       "GHI_CHU              33127\n",
       "dtype: int64"
      ]
     },
     "execution_count": 310,
     "metadata": {},
     "output_type": "execute_result"
    }
   ],
   "source": [
    "df_huyen_dak_glong.isnull().sum()"
   ]
  },
  {
   "cell_type": "code",
   "execution_count": 311,
   "metadata": {},
   "outputs": [
    {
     "data": {
      "text/plain": [
       "(37427, 23)"
      ]
     },
     "execution_count": 311,
     "metadata": {},
     "output_type": "execute_result"
    }
   ],
   "source": [
    "df_huyen_dak_glong.shape"
   ]
  },
  {
   "cell_type": "markdown",
   "metadata": {},
   "source": [
    "> Xoá những người chuyển vùng,chết rồi,đã chết "
   ]
  },
  {
   "cell_type": "code",
   "execution_count": 312,
   "metadata": {},
   "outputs": [],
   "source": [
    "# List of values to filter out\n",
    "values_to_drop = [\"cắt hộ nghèo\",\"ĐÃ CHẾT\", \"chết\", \"CHẾT RỒI\",\"CHẾT\", \"CHUYỂN ĐI\",\"mới chết\", \"CHẾT RÒI\", \"CHUYỂN\",\"chuyển\",\"Chết\",\"chuyển đi\",\"cắt khẩu\",\"chuyển khẩu\",\"CẮT CHUYỂN KHẨU\",\"ĐÃ CHUYỂN HK\",\"KHÔNG CÓ TẠI ĐỊA PHƯƠNG\",\"Đã chuyển khẩu\",\"đã chết\"]\n",
    "# Iterate over each column and filter rows containing values_to_drop\n",
    "for column in df_huyen_dak_glong.columns:\n",
    "    df_huyen_dak_glong = df_huyen_dak_glong[~df_huyen_dak_glong[column].isin(values_to_drop)]"
   ]
  },
  {
   "cell_type": "markdown",
   "metadata": {},
   "source": [
    "> Các cột như Unnamed: 7 ,Unnamed: 8, Unnamed: 9, Unnamed: 10,Unnamed: 11 chứa quá nhiều giá trị null cho nên ta sẽ xoá bỏ ra khỏi bộ dữ liệu"
   ]
  },
  {
   "cell_type": "code",
   "execution_count": 313,
   "metadata": {},
   "outputs": [
    {
     "data": {
      "text/plain": [
       "(37426, 23)"
      ]
     },
     "execution_count": 313,
     "metadata": {},
     "output_type": "execute_result"
    }
   ],
   "source": [
    "df_huyen_dak_glong.shape"
   ]
  },
  {
   "cell_type": "code",
   "execution_count": 314,
   "metadata": {},
   "outputs": [],
   "source": [
    "df_huyen_dak_glong.drop(columns=['Unnamed: 7','Unnamed: 8', 'Unnamed: 9',\n",
    "       'Unnamed: 10', 'Unnamed: 11'],inplace=True)"
   ]
  },
  {
   "cell_type": "markdown",
   "metadata": {},
   "source": [
    "> Kết quả sau khi xóa bỏ"
   ]
  },
  {
   "cell_type": "code",
   "execution_count": 315,
   "metadata": {},
   "outputs": [
    {
     "data": {
      "text/plain": [
       "(37426, 18)"
      ]
     },
     "execution_count": 315,
     "metadata": {},
     "output_type": "execute_result"
    }
   ],
   "source": [
    "df_huyen_dak_glong.shape"
   ]
  },
  {
   "cell_type": "code",
   "execution_count": 316,
   "metadata": {},
   "outputs": [
    {
     "data": {
      "text/plain": [
       "Index(['Unnamed: 0', 'STT_HO', 'STT', 'HO_TEN_CHU_HO', 'HO_TEN_THANH_VIEN',\n",
       "       'QUANHE_CHUHO', 'NGAY_SINH', 'GIOI_TINH', 'SO_CCCD', 'TINH', 'HUYEN',\n",
       "       'XA', 'DANTOC', 'PHAN_LOAI_HO', 'KET_QUA', 'DC_DINHDANH', 'DC_CMND',\n",
       "       'GHI_CHU'],\n",
       "      dtype='object')"
      ]
     },
     "execution_count": 316,
     "metadata": {},
     "output_type": "execute_result"
    }
   ],
   "source": [
    "df_huyen_dak_glong.columns"
   ]
  },
  {
   "cell_type": "markdown",
   "metadata": {},
   "source": [
    "> Các cột như DC_CMND, DC_DinhDanh,Ghi_Chu,KetQua,Unnamed: 0 không có ý nghĩa phân tích nên ta sẽ xoá bỏ "
   ]
  },
  {
   "cell_type": "code",
   "execution_count": 317,
   "metadata": {},
   "outputs": [],
   "source": [
    "feature = ['KET_QUA', 'GHI_CHU', 'DC_DINHDANH', 'DC_CMND', 'Unnamed: 0']\n",
    "df_huyen_dak_glong.drop(columns=feature, inplace=True)"
   ]
  },
  {
   "cell_type": "code",
   "execution_count": 318,
   "metadata": {},
   "outputs": [
    {
     "data": {
      "text/plain": [
       "(37426, 13)"
      ]
     },
     "execution_count": 318,
     "metadata": {},
     "output_type": "execute_result"
    }
   ],
   "source": [
    "df_huyen_dak_glong.shape"
   ]
  },
  {
   "cell_type": "markdown",
   "metadata": {},
   "source": [
    "> Xóa giá trị trùng lặp "
   ]
  },
  {
   "cell_type": "code",
   "execution_count": 319,
   "metadata": {},
   "outputs": [],
   "source": [
    "df_huyen_dak_glong.drop_duplicates(inplace=True)"
   ]
  },
  {
   "cell_type": "code",
   "execution_count": 320,
   "metadata": {},
   "outputs": [
    {
     "data": {
      "text/plain": [
       "STT_HO               30371\n",
       "STT                      0\n",
       "HO_TEN_CHU_HO            0\n",
       "HO_TEN_THANH_VIEN        0\n",
       "QUANHE_CHUHO           114\n",
       "NGAY_SINH               37\n",
       "GIOI_TINH             1292\n",
       "SO_CCCD               4610\n",
       "TINH                     0\n",
       "HUYEN                    0\n",
       "XA                       0\n",
       "DANTOC                  57\n",
       "PHAN_LOAI_HO             0\n",
       "dtype: int64"
      ]
     },
     "execution_count": 320,
     "metadata": {},
     "output_type": "execute_result"
    }
   ],
   "source": [
    "df_huyen_dak_glong.isnull().sum()"
   ]
  },
  {
   "cell_type": "code",
   "execution_count": 321,
   "metadata": {},
   "outputs": [
    {
     "data": {
      "text/plain": [
       "(37426, 13)"
      ]
     },
     "execution_count": 321,
     "metadata": {},
     "output_type": "execute_result"
    }
   ],
   "source": [
    "df_huyen_dak_glong.shape"
   ]
  },
  {
   "cell_type": "code",
   "execution_count": 322,
   "metadata": {},
   "outputs": [
    {
     "data": {
      "text/plain": [
       "array(['ĐẮK PLAO', 'ĐẮK HA', \"ĐẮK R'MĂNG\", 'QUẢNG KHÊ', 'QUẢNG HÒA',\n",
       "       'QUẢNG SƠN', 'ĐẮK SOM'], dtype=object)"
      ]
     },
     "execution_count": 322,
     "metadata": {},
     "output_type": "execute_result"
    }
   ],
   "source": [
    "df_huyen_dak_glong['XA'].unique()"
   ]
  },
  {
   "cell_type": "markdown",
   "metadata": {},
   "source": [
    "> Điền giá trị phổ biến cho cột dân tộc theo từng xã"
   ]
  },
  {
   "cell_type": "code",
   "execution_count": 323,
   "metadata": {},
   "outputs": [],
   "source": [
    "df_huyen_dak_glong=fill_missing_dantoc(df_huyen_dak_glong)"
   ]
  },
  {
   "cell_type": "code",
   "execution_count": 324,
   "metadata": {},
   "outputs": [
    {
     "data": {
      "text/plain": [
       "STT_HO               30371\n",
       "STT                      0\n",
       "HO_TEN_CHU_HO            0\n",
       "HO_TEN_THANH_VIEN        0\n",
       "QUANHE_CHUHO           114\n",
       "NGAY_SINH               37\n",
       "GIOI_TINH             1292\n",
       "SO_CCCD               4610\n",
       "TINH                     0\n",
       "HUYEN                    0\n",
       "XA                       0\n",
       "DANTOC                   0\n",
       "PHAN_LOAI_HO             0\n",
       "dtype: int64"
      ]
     },
     "execution_count": 324,
     "metadata": {},
     "output_type": "execute_result"
    }
   ],
   "source": [
    "df_huyen_dak_glong.isnull().sum()"
   ]
  },
  {
   "cell_type": "markdown",
   "metadata": {},
   "source": [
    "> Tính tuổi dựa trên cột ngày sinh"
   ]
  },
  {
   "cell_type": "code",
   "execution_count": 325,
   "metadata": {},
   "outputs": [],
   "source": [
    "df_huyen_dak_glong['TUOI'] = df_huyen_dak_glong['NGAY_SINH'].apply(calculate_age)"
   ]
  },
  {
   "cell_type": "code",
   "execution_count": 326,
   "metadata": {},
   "outputs": [
    {
     "data": {
      "text/plain": [
       "STT_HO               30371\n",
       "STT                      0\n",
       "HO_TEN_CHU_HO            0\n",
       "HO_TEN_THANH_VIEN        0\n",
       "QUANHE_CHUHO           114\n",
       "NGAY_SINH               37\n",
       "GIOI_TINH             1292\n",
       "SO_CCCD               4610\n",
       "TINH                     0\n",
       "HUYEN                    0\n",
       "XA                       0\n",
       "DANTOC                   0\n",
       "PHAN_LOAI_HO             0\n",
       "TUOI                   222\n",
       "dtype: int64"
      ]
     },
     "execution_count": 326,
     "metadata": {},
     "output_type": "execute_result"
    }
   ],
   "source": [
    "df_huyen_dak_glong.isnull().sum()"
   ]
  },
  {
   "cell_type": "markdown",
   "metadata": {},
   "source": [
    "> Đối với hàng nào tính không được ta sẽ điền giá trị trung bình của tuổi"
   ]
  },
  {
   "cell_type": "code",
   "execution_count": 327,
   "metadata": {},
   "outputs": [],
   "source": [
    "# Tính giá trị trung bình  trong cột Tuổi\n",
    "most_common_year_old = round(df_huyen_dak_glong['TUOI'].mean())\n",
    "\n",
    "# Điền giá trị trung bình  vào các ô trống\n",
    "df_huyen_dak_glong.fillna({'TUOI': most_common_year_old }, inplace=True)"
   ]
  },
  {
   "cell_type": "markdown",
   "metadata": {},
   "source": [
    "> Điền giá trị phổ biến cho  cột giới tính"
   ]
  },
  {
   "cell_type": "code",
   "execution_count": 328,
   "metadata": {},
   "outputs": [],
   "source": [
    "# Tính giá trị phổ biến nhất trong cột GIOI_TINH\n",
    "most_common_gender = df_huyen_dak_glong['GIOI_TINH'].mode()[0]\n",
    "\n",
    "# Điền giá trị phổ biến vào các ô trống\n",
    "df_huyen_dak_glong.fillna({'GIOI_TINH': most_common_gender}, inplace=True)\n"
   ]
  },
  {
   "cell_type": "markdown",
   "metadata": {},
   "source": [
    "> Điền giá trị phổ biến cho cột QUANHE_CHUHO theo từng xã"
   ]
  },
  {
   "cell_type": "code",
   "execution_count": 329,
   "metadata": {},
   "outputs": [],
   "source": [
    "df_huyen_dak_glong = fill_missing_quanhe_chuho(df_huyen_dak_glong)"
   ]
  },
  {
   "cell_type": "code",
   "execution_count": 330,
   "metadata": {},
   "outputs": [
    {
     "data": {
      "text/plain": [
       "STT_HO               30371\n",
       "STT                      0\n",
       "HO_TEN_CHU_HO            0\n",
       "HO_TEN_THANH_VIEN        0\n",
       "QUANHE_CHUHO             0\n",
       "NGAY_SINH               37\n",
       "GIOI_TINH                0\n",
       "SO_CCCD               4610\n",
       "TINH                     0\n",
       "HUYEN                    0\n",
       "XA                       0\n",
       "DANTOC                   0\n",
       "PHAN_LOAI_HO             0\n",
       "TUOI                     0\n",
       "dtype: int64"
      ]
     },
     "execution_count": 330,
     "metadata": {},
     "output_type": "execute_result"
    }
   ],
   "source": [
    "df_huyen_dak_glong.isnull().sum()"
   ]
  },
  {
   "cell_type": "markdown",
   "metadata": {},
   "source": [
    "> Ban đầu có (37427, 23) sau quá trình tiền xử lí dữ liêu thì còn (32817, 14)"
   ]
  },
  {
   "cell_type": "code",
   "execution_count": 331,
   "metadata": {},
   "outputs": [
    {
     "data": {
      "text/plain": [
       "(37426, 14)"
      ]
     },
     "execution_count": 331,
     "metadata": {},
     "output_type": "execute_result"
    }
   ],
   "source": [
    "df_huyen_dak_glong.shape"
   ]
  },
  {
   "cell_type": "code",
   "execution_count": 332,
   "metadata": {},
   "outputs": [
    {
     "data": {
      "text/plain": [
       "(37426, 14)"
      ]
     },
     "execution_count": 332,
     "metadata": {},
     "output_type": "execute_result"
    }
   ],
   "source": [
    "df_huyen_dak_glong.shape"
   ]
  },
  {
   "cell_type": "markdown",
   "metadata": {},
   "source": [
    "> Xuất File"
   ]
  },
  {
   "cell_type": "code",
   "execution_count": 333,
   "metadata": {},
   "outputs": [],
   "source": [
    "df_huyen_dak_glong.to_excel(\"../data_processed/Huyện Đắk Glong.xlsx\")"
   ]
  },
  {
   "cell_type": "markdown",
   "metadata": {},
   "source": [
    "#### 2.2.3. HUYỆN DAK MIL.xlsx"
   ]
  },
  {
   "cell_type": "markdown",
   "metadata": {},
   "source": [
    ">Kiểm tra giá trị null của tập dữ liệu "
   ]
  },
  {
   "cell_type": "code",
   "execution_count": 334,
   "metadata": {},
   "outputs": [
    {
     "data": {
      "text/plain": [
       "NAM RA SOAT             0\n",
       "STT_HO               3709\n",
       "STT                     0\n",
       "LOẠI HỘ                 0\n",
       "Khu vực                 0\n",
       "MÃ THÔN                 0\n",
       "THÔN                    0\n",
       "HO_TEN_CHU_HO         527\n",
       "HO_TEN_THANH_VIEN       0\n",
       "SO_CCCD               388\n",
       "QUANHE_CHUHO            0\n",
       "NGAY_SINH             668\n",
       "Tháng                 547\n",
       "Ngày                  539\n",
       "DANTOC                196\n",
       "GIOI_TINH              62\n",
       "TINH                    0\n",
       "PHAN_LOAI_HO            0\n",
       "HUYEN                   0\n",
       "XA                      0\n",
       "dtype: int64"
      ]
     },
     "execution_count": 334,
     "metadata": {},
     "output_type": "execute_result"
    }
   ],
   "source": [
    "df_huyen_dak_mil.isnull().sum()"
   ]
  },
  {
   "cell_type": "code",
   "execution_count": 335,
   "metadata": {},
   "outputs": [
    {
     "data": {
      "text/plain": [
       "(4723, 20)"
      ]
     },
     "execution_count": 335,
     "metadata": {},
     "output_type": "execute_result"
    }
   ],
   "source": [
    "df_huyen_dak_mil.shape"
   ]
  },
  {
   "cell_type": "markdown",
   "metadata": {},
   "source": [
    "> Xoá những người đã chết, chết rồi,chuyển vùng"
   ]
  },
  {
   "cell_type": "code",
   "execution_count": 336,
   "metadata": {},
   "outputs": [],
   "source": [
    "# List of values to filter out\n",
    "values_to_drop = [\"cắt hộ nghèo\",\"ĐÃ CHẾT\", \"chết\", \"CHẾT RỒI\",\"CHẾT\", \"CHUYỂN ĐI\",\"mới chết\", \"CHẾT RÒI\", \"CHUYỂN\",\"chuyển\",\"Chết\",\"chuyển đi\",\"cắt khẩu\",\"chuyển khẩu\",\"CẮT CHUYỂN KHẨU\",\"ĐÃ CHUYỂN HK\",\"KHÔNG CÓ TẠI ĐỊA PHƯƠNG\",\"Đã chuyển khẩu\",\"đã chết\"]\n",
    "# Iterate over each column and filter rows containing values_to_drop\n",
    "for column in df_huyen_dak_mil.columns:\n",
    "    df_huyen_dak_mil = df_huyen_dak_mil[~df_huyen_dak_mil[column].isin(values_to_drop)]"
   ]
  },
  {
   "cell_type": "markdown",
   "metadata": {},
   "source": [
    "> Kết quả sau khi loại bỏ"
   ]
  },
  {
   "cell_type": "code",
   "execution_count": 337,
   "metadata": {},
   "outputs": [
    {
     "data": {
      "text/plain": [
       "(4722, 20)"
      ]
     },
     "execution_count": 337,
     "metadata": {},
     "output_type": "execute_result"
    }
   ],
   "source": [
    "df_huyen_dak_mil.shape"
   ]
  },
  {
   "cell_type": "code",
   "execution_count": 338,
   "metadata": {},
   "outputs": [
    {
     "data": {
      "text/plain": [
       "Index(['NAM RA SOAT', 'STT_HO', 'STT', 'LOẠI HỘ ', 'Khu vực', 'MÃ THÔN',\n",
       "       'THÔN', 'HO_TEN_CHU_HO', 'HO_TEN_THANH_VIEN', 'SO_CCCD', 'QUANHE_CHUHO',\n",
       "       'NGAY_SINH', 'Tháng', 'Ngày', 'DANTOC', 'GIOI_TINH', 'TINH',\n",
       "       'PHAN_LOAI_HO', 'HUYEN', 'XA'],\n",
       "      dtype='object')"
      ]
     },
     "execution_count": 338,
     "metadata": {},
     "output_type": "execute_result"
    }
   ],
   "source": [
    "df_huyen_dak_mil.columns"
   ]
  },
  {
   "cell_type": "markdown",
   "metadata": {},
   "source": [
    "> Các cột như 'NAM RA SOAT','LOẠI HỘ ', 'Khu vực', 'MÃ THÔN', 'THÔN','Tháng', 'Ngày',không có ý nghĩa phân tích nên ta sẽ xoá bỏ "
   ]
  },
  {
   "cell_type": "code",
   "execution_count": 339,
   "metadata": {},
   "outputs": [],
   "source": [
    "features=['NAM RA SOAT', 'LOẠI HỘ ', 'Khu vực', 'MÃ THÔN', 'THÔN','Tháng', 'Ngày']\n",
    "df_huyen_dak_mil.drop(columns=features,inplace=True)"
   ]
  },
  {
   "cell_type": "code",
   "execution_count": 340,
   "metadata": {},
   "outputs": [
    {
     "data": {
      "text/plain": [
       "(4722, 13)"
      ]
     },
     "execution_count": 340,
     "metadata": {},
     "output_type": "execute_result"
    }
   ],
   "source": [
    "df_huyen_dak_mil.shape"
   ]
  },
  {
   "cell_type": "code",
   "execution_count": 341,
   "metadata": {},
   "outputs": [
    {
     "data": {
      "text/plain": [
       "Index(['STT_HO', 'STT', 'HO_TEN_CHU_HO', 'HO_TEN_THANH_VIEN', 'SO_CCCD',\n",
       "       'QUANHE_CHUHO', 'NGAY_SINH', 'DANTOC', 'GIOI_TINH', 'TINH',\n",
       "       'PHAN_LOAI_HO', 'HUYEN', 'XA'],\n",
       "      dtype='object')"
      ]
     },
     "execution_count": 341,
     "metadata": {},
     "output_type": "execute_result"
    }
   ],
   "source": [
    "df_huyen_dak_mil.columns"
   ]
  },
  {
   "cell_type": "markdown",
   "metadata": {},
   "source": [
    "> Đối với dữ liệu ở cột PHÂN LOẠI HỘ ta thực hiện chuẩn hoá thành 1 : POOR, 2 : NEAR_POOR"
   ]
  },
  {
   "cell_type": "code",
   "execution_count": 342,
   "metadata": {},
   "outputs": [
    {
     "data": {
      "text/plain": [
       "array(['POOR', 'NEAR_POOR'], dtype=object)"
      ]
     },
     "execution_count": 342,
     "metadata": {},
     "output_type": "execute_result"
    }
   ],
   "source": [
    "df_huyen_dak_mil['PHAN_LOAI_HO'].unique()"
   ]
  },
  {
   "cell_type": "code",
   "execution_count": 343,
   "metadata": {},
   "outputs": [],
   "source": [
    "df_huyen_dak_mil['PHAN_LOAI_HO']=df_huyen_dak_mil['PHAN_LOAI_HO'].replace({1:'POOR',2:'NEAR_POOR'})"
   ]
  },
  {
   "cell_type": "code",
   "execution_count": 344,
   "metadata": {},
   "outputs": [
    {
     "data": {
      "text/plain": [
       "(4722, 13)"
      ]
     },
     "execution_count": 344,
     "metadata": {},
     "output_type": "execute_result"
    }
   ],
   "source": [
    "df_huyen_dak_mil.shape"
   ]
  },
  {
   "cell_type": "markdown",
   "metadata": {},
   "source": [
    "> Định dạng lại thứ tự "
   ]
  },
  {
   "cell_type": "code",
   "execution_count": 345,
   "metadata": {},
   "outputs": [],
   "source": [
    "df_huyen_dak_mil = df_huyen_dak_mil[['STT_HO', 'STT', 'HO_TEN_CHU_HO', 'HO_TEN_THANH_VIEN', 'QUANHE_CHUHO', \n",
    "         'NGAY_SINH', 'GIOI_TINH', 'SO_CCCD', 'TINH', 'HUYEN', 'XA', 'DANTOC', 'PHAN_LOAI_HO']]"
   ]
  },
  {
   "cell_type": "markdown",
   "metadata": {},
   "source": [
    "> Xóa giá trị trùng lặp"
   ]
  },
  {
   "cell_type": "code",
   "execution_count": 346,
   "metadata": {},
   "outputs": [],
   "source": [
    "df_huyen_dak_mil.drop_duplicates(inplace=True)"
   ]
  },
  {
   "cell_type": "code",
   "execution_count": 347,
   "metadata": {},
   "outputs": [
    {
     "data": {
      "text/plain": [
       "STT_HO               3709\n",
       "STT                     0\n",
       "HO_TEN_CHU_HO         527\n",
       "HO_TEN_THANH_VIEN       0\n",
       "QUANHE_CHUHO            0\n",
       "NGAY_SINH             668\n",
       "GIOI_TINH              62\n",
       "SO_CCCD               388\n",
       "TINH                    0\n",
       "HUYEN                   0\n",
       "XA                      0\n",
       "DANTOC                196\n",
       "PHAN_LOAI_HO            0\n",
       "dtype: int64"
      ]
     },
     "execution_count": 347,
     "metadata": {},
     "output_type": "execute_result"
    }
   ],
   "source": [
    "df_huyen_dak_mil.isnull().sum()"
   ]
  },
  {
   "cell_type": "markdown",
   "metadata": {},
   "source": [
    "> Điền giá trị phổ biến cho cột dân tộc theo từng xã"
   ]
  },
  {
   "cell_type": "code",
   "execution_count": 348,
   "metadata": {},
   "outputs": [],
   "source": [
    "df_huyen_dak_mil=fill_missing_dantoc(df_huyen_dak_mil)"
   ]
  },
  {
   "cell_type": "markdown",
   "metadata": {},
   "source": [
    "> Tính tuổi dựa trên ngày sinh"
   ]
  },
  {
   "cell_type": "code",
   "execution_count": 349,
   "metadata": {},
   "outputs": [],
   "source": [
    "def calculate_age_from_year(birth_year):\n",
    "    try:\n",
    "        current_year = datetime.now().year\n",
    "        age = current_year - birth_year\n",
    "        return age\n",
    "    except Exception as e:\n",
    "        print(f\"Error processing birth year {birth_year}: {e}\")\n",
    "        return None"
   ]
  },
  {
   "cell_type": "code",
   "execution_count": 350,
   "metadata": {},
   "outputs": [],
   "source": [
    "df_huyen_dak_mil['TUOI'] =round(df_huyen_dak_mil['NGAY_SINH'].apply(calculate_age_from_year))"
   ]
  },
  {
   "cell_type": "code",
   "execution_count": 351,
   "metadata": {},
   "outputs": [
    {
     "data": {
      "text/plain": [
       "STT_HO               3709\n",
       "STT                     0\n",
       "HO_TEN_CHU_HO         527\n",
       "HO_TEN_THANH_VIEN       0\n",
       "QUANHE_CHUHO            0\n",
       "NGAY_SINH             668\n",
       "GIOI_TINH              62\n",
       "SO_CCCD               388\n",
       "TINH                    0\n",
       "HUYEN                   0\n",
       "XA                      0\n",
       "DANTOC                  0\n",
       "PHAN_LOAI_HO            0\n",
       "TUOI                  668\n",
       "dtype: int64"
      ]
     },
     "execution_count": 351,
     "metadata": {},
     "output_type": "execute_result"
    }
   ],
   "source": [
    "df_huyen_dak_mil.isnull().sum()"
   ]
  },
  {
   "cell_type": "markdown",
   "metadata": {},
   "source": [
    "> Điền giá trị phổ biến cho những hàng nào tính không được"
   ]
  },
  {
   "cell_type": "code",
   "execution_count": 352,
   "metadata": {},
   "outputs": [
    {
     "name": "stderr",
     "output_type": "stream",
     "text": [
      "C:\\Users\\hdang\\AppData\\Local\\Temp\\ipykernel_11408\\20731481.py:5: FutureWarning: A value is trying to be set on a copy of a DataFrame or Series through chained assignment using an inplace method.\n",
      "The behavior will change in pandas 3.0. This inplace method will never work because the intermediate object on which we are setting values always behaves as a copy.\n",
      "\n",
      "For example, when doing 'df[col].method(value, inplace=True)', try using 'df.method({col: value}, inplace=True)' or df[col] = df[col].method(value) instead, to perform the operation inplace on the original object.\n",
      "\n",
      "\n",
      "  df_huyen_dak_mil['TUOI'].fillna(most_common_age, inplace=True)\n"
     ]
    }
   ],
   "source": [
    "# Tính giá trị phổ biến nhất trong cột TUOI\n",
    "most_common_age = df_huyen_dak_mil['TUOI'].mode()[0]\n",
    "\n",
    "# Điền giá trị phổ biến nhất vào các ô trống\n",
    "df_huyen_dak_mil['TUOI'].fillna(most_common_age, inplace=True)"
   ]
  },
  {
   "cell_type": "markdown",
   "metadata": {},
   "source": [
    "> Điền giá trị phổ biến cho cột giới tính"
   ]
  },
  {
   "cell_type": "code",
   "execution_count": 353,
   "metadata": {},
   "outputs": [],
   "source": [
    "most_common_gender=df_huyen_dak_mil['GIOI_TINH'].mode().iloc[0]\n",
    "df_huyen_dak_mil.fillna({'GIOI_TINH':most_common_gender},inplace=True)"
   ]
  },
  {
   "cell_type": "markdown",
   "metadata": {},
   "source": [
    ">Điền giá trị phổ biến cho cột QUANHE_CHUHO theo từng xã"
   ]
  },
  {
   "cell_type": "code",
   "execution_count": 354,
   "metadata": {},
   "outputs": [],
   "source": [
    "df_huyen_dak_mil = fill_missing_quanhe_chuho(df_huyen_dak_mil)"
   ]
  },
  {
   "cell_type": "markdown",
   "metadata": {},
   "source": [
    "> Ban đầu có (4724, 20) sau khi tiền xử lí thì còn lại (4335, 14)"
   ]
  },
  {
   "cell_type": "code",
   "execution_count": 355,
   "metadata": {},
   "outputs": [
    {
     "data": {
      "text/plain": [
       "(4722, 14)"
      ]
     },
     "execution_count": 355,
     "metadata": {},
     "output_type": "execute_result"
    }
   ],
   "source": [
    "df_huyen_dak_mil.shape"
   ]
  },
  {
   "cell_type": "code",
   "execution_count": 356,
   "metadata": {},
   "outputs": [
    {
     "data": {
      "text/plain": [
       "array(['Thị trấn Đắk Mil', 'Đắk Gằn', 'Đắk Lao', \"ĐẮK R'LA\", 'ĐỨC MẠNH',\n",
       "       'THUẬN AN', 'ĐẮk SẮK', 'ĐỨC MINH', 'LONG SƠN'], dtype=object)"
      ]
     },
     "execution_count": 356,
     "metadata": {},
     "output_type": "execute_result"
    }
   ],
   "source": [
    "df_huyen_dak_mil[\"XA\"].unique()"
   ]
  },
  {
   "cell_type": "code",
   "execution_count": 357,
   "metadata": {},
   "outputs": [
    {
     "data": {
      "text/plain": [
       "STT_HO               3709\n",
       "STT                     0\n",
       "HO_TEN_CHU_HO         527\n",
       "HO_TEN_THANH_VIEN       0\n",
       "QUANHE_CHUHO            0\n",
       "NGAY_SINH             668\n",
       "GIOI_TINH               0\n",
       "SO_CCCD               388\n",
       "TINH                    0\n",
       "HUYEN                   0\n",
       "XA                      0\n",
       "DANTOC                  0\n",
       "PHAN_LOAI_HO            0\n",
       "TUOI                    0\n",
       "dtype: int64"
      ]
     },
     "execution_count": 357,
     "metadata": {},
     "output_type": "execute_result"
    }
   ],
   "source": [
    "df_huyen_dak_mil.isnull().sum()"
   ]
  },
  {
   "cell_type": "code",
   "execution_count": 358,
   "metadata": {},
   "outputs": [
    {
     "data": {
      "text/plain": [
       "array(['KIN', 'NUN', 'TAY', 'MNO', 'MUO', 'GIR', 'THAI', 'KHM', 'DAO',\n",
       "       'XED', 'THA', 'HMO', 'CHA'], dtype=object)"
      ]
     },
     "execution_count": 358,
     "metadata": {},
     "output_type": "execute_result"
    }
   ],
   "source": [
    "df_huyen_dak_mil['DANTOC'].unique()"
   ]
  },
  {
   "cell_type": "markdown",
   "metadata": {},
   "source": [
    "> Chuyển đổi dữ liệu sang biến phân loại ở cột \"DANTOC\",\"PHAN_LOAI_HO\",\"GIOI_TINH\""
   ]
  },
  {
   "cell_type": "code",
   "execution_count": 359,
   "metadata": {},
   "outputs": [],
   "source": [
    "dantoc_mapping = {\n",
    "    'KIN': 1,\n",
    "    'NUN': 7,\n",
    "    'TAY': 2,\n",
    "    'MNO': 20,\n",
    "    'MUO': 6,\n",
    "    'GIR': 10,\n",
    "    'THAI': 3,\n",
    "    'KHM': 5,\n",
    "    'DAO': 9,\n",
    "    'THA': 3,\n",
    "    'HMO': 8,\n",
    "    'CHA':17,\n",
    "    'XED':14\n",
    "}\n",
    "# Thay đổi giá trị trong cột 'DANTOC' theo từ điển ánh xạ\n",
    "df_huyen_dak_mil['DANTOC'] = df_huyen_dak_mil['DANTOC'].map(dantoc_mapping)"
   ]
  },
  {
   "cell_type": "code",
   "execution_count": 360,
   "metadata": {},
   "outputs": [],
   "source": [
    "gioi_tinh_mapping = {\n",
    "    'FEMALE': 2,\n",
    "    'MALE': 1\n",
    "}\n",
    "\n",
    "# Thay đổi giá trị trong cột 'GIOI_TINH' theo từ điển ánh xạ\n",
    "df_huyen_dak_mil['GIOI_TINH'] = df_huyen_dak_mil['GIOI_TINH'].map(gioi_tinh_mapping)"
   ]
  },
  {
   "cell_type": "code",
   "execution_count": 361,
   "metadata": {},
   "outputs": [
    {
     "data": {
      "text/plain": [
       "array(['POOR', 'NEAR_POOR'], dtype=object)"
      ]
     },
     "execution_count": 361,
     "metadata": {},
     "output_type": "execute_result"
    }
   ],
   "source": [
    "df_huyen_dak_mil['PHAN_LOAI_HO'].unique()"
   ]
  },
  {
   "cell_type": "code",
   "execution_count": 362,
   "metadata": {},
   "outputs": [],
   "source": [
    "phan_loai_ho_mapping={\n",
    "    'POOR':1,\n",
    "    'NEAR_POOR':2\n",
    "}\n",
    "df_huyen_dak_mil['PHAN_LOAI_HO'] = df_huyen_dak_mil['PHAN_LOAI_HO'].map(phan_loai_ho_mapping)"
   ]
  },
  {
   "cell_type": "code",
   "execution_count": 363,
   "metadata": {},
   "outputs": [
    {
     "data": {
      "text/plain": [
       "STT_HO               3709\n",
       "STT                     0\n",
       "HO_TEN_CHU_HO         527\n",
       "HO_TEN_THANH_VIEN       0\n",
       "QUANHE_CHUHO            0\n",
       "NGAY_SINH             668\n",
       "GIOI_TINH               0\n",
       "SO_CCCD               388\n",
       "TINH                    0\n",
       "HUYEN                   0\n",
       "XA                      0\n",
       "DANTOC                  0\n",
       "PHAN_LOAI_HO            0\n",
       "TUOI                    0\n",
       "dtype: int64"
      ]
     },
     "execution_count": 363,
     "metadata": {},
     "output_type": "execute_result"
    }
   ],
   "source": [
    "df_huyen_dak_mil.isnull().sum()"
   ]
  },
  {
   "cell_type": "markdown",
   "metadata": {},
   "source": [
    "> Xuất file"
   ]
  },
  {
   "cell_type": "code",
   "execution_count": 364,
   "metadata": {},
   "outputs": [],
   "source": [
    "df_huyen_dak_mil.to_excel(\"../data_processed/HUYỆN DAK MIL.xlsx\")"
   ]
  },
  {
   "cell_type": "markdown",
   "metadata": {},
   "source": [
    "#### 2.2.4. HUYỆN ĐẮK RLẤP"
   ]
  },
  {
   "cell_type": "markdown",
   "metadata": {},
   "source": [
    ">Kiểm tra giá trị null của tập dữ liệu "
   ]
  },
  {
   "cell_type": "code",
   "execution_count": 365,
   "metadata": {},
   "outputs": [
    {
     "data": {
      "text/plain": [
       "STT_HO               3177\n",
       "STT                     0\n",
       "HO_TEN_CHU_HO           0\n",
       "HO_TEN_THANH_VIEN       2\n",
       "QUANHE_CHUHO            3\n",
       "NGAY_SINH              17\n",
       "GIOI_TINH              13\n",
       "SO_CCCD                40\n",
       "TINH                    0\n",
       "HUYEN                   0\n",
       "XA                      0\n",
       "DANTOC                  5\n",
       "PHAN_LOAI_HO            0\n",
       "KET_QUA                 3\n",
       "GHI_CHU              3829\n",
       "DC_DINHDANH           652\n",
       "DC_CMND              1956\n",
       "GHI CHÚ              4193\n",
       "dtype: int64"
      ]
     },
     "execution_count": 365,
     "metadata": {},
     "output_type": "execute_result"
    }
   ],
   "source": [
    "df_huyen_dak_rlap.isnull().sum()"
   ]
  },
  {
   "cell_type": "code",
   "execution_count": 366,
   "metadata": {},
   "outputs": [
    {
     "data": {
      "text/plain": [
       "(4241, 18)"
      ]
     },
     "execution_count": 366,
     "metadata": {},
     "output_type": "execute_result"
    }
   ],
   "source": [
    "df_huyen_dak_rlap.shape"
   ]
  },
  {
   "cell_type": "code",
   "execution_count": 367,
   "metadata": {},
   "outputs": [
    {
     "data": {
      "text/plain": [
       "Index(['STT_HO', 'STT', 'HO_TEN_CHU_HO', 'HO_TEN_THANH_VIEN', 'QUANHE_CHUHO',\n",
       "       'NGAY_SINH', 'GIOI_TINH', 'SO_CCCD', 'TINH', 'HUYEN', 'XA', 'DANTOC',\n",
       "       'PHAN_LOAI_HO', 'KET_QUA', 'GHI_CHU', 'DC_DINHDANH', 'DC_CMND',\n",
       "       'GHI CHÚ '],\n",
       "      dtype='object')"
      ]
     },
     "execution_count": 367,
     "metadata": {},
     "output_type": "execute_result"
    }
   ],
   "source": [
    "df_huyen_dak_rlap.columns"
   ]
  },
  {
   "cell_type": "markdown",
   "metadata": {},
   "source": [
    "> Xoá những người đã chết,chết,chuyển vùng ra khỏi bộ dữ liệu"
   ]
  },
  {
   "cell_type": "code",
   "execution_count": 368,
   "metadata": {},
   "outputs": [],
   "source": [
    "# List of values to filter out\n",
    "values_to_drop = [\"cắt hộ nghèo\",\"ĐÃ CHẾT\", \"chết\", \"CHẾT RỒI\",\"CHẾT\", \"CHUYỂN ĐI\",\"mới chết\", \"CHẾT RÒI\", \"CHUYỂN\",\"chuyển\",\"Chết\",\"chuyển đi\",\"cắt khẩu\",\"chuyển khẩu\",\"CẮT CHUYỂN KHẨU\",\"ĐÃ CHUYỂN HK\",\"KHÔNG CÓ TẠI ĐỊA PHƯƠNG\",\"Đã chuyển khẩu\",\"đã chết\"]\n",
    "\n",
    "# Iterate over each column and filter rows containing values_to_drop\n",
    "for column in df_huyen_dak_rlap.columns:\n",
    "    df_huyen_dak_rlap = df_huyen_dak_rlap[~df_huyen_dak_rlap[column].isin(values_to_drop)]"
   ]
  },
  {
   "cell_type": "markdown",
   "metadata": {},
   "source": [
    "> Kết quả sau khi loại bỏ"
   ]
  },
  {
   "cell_type": "code",
   "execution_count": 369,
   "metadata": {},
   "outputs": [
    {
     "data": {
      "text/plain": [
       "(4220, 18)"
      ]
     },
     "execution_count": 369,
     "metadata": {},
     "output_type": "execute_result"
    }
   ],
   "source": [
    "df_huyen_dak_rlap.shape"
   ]
  },
  {
   "cell_type": "code",
   "execution_count": 370,
   "metadata": {},
   "outputs": [
    {
     "data": {
      "text/plain": [
       "Index(['STT_HO', 'STT', 'HO_TEN_CHU_HO', 'HO_TEN_THANH_VIEN', 'QUANHE_CHUHO',\n",
       "       'NGAY_SINH', 'GIOI_TINH', 'SO_CCCD', 'TINH', 'HUYEN', 'XA', 'DANTOC',\n",
       "       'PHAN_LOAI_HO', 'KET_QUA', 'GHI_CHU', 'DC_DINHDANH', 'DC_CMND',\n",
       "       'GHI CHÚ '],\n",
       "      dtype='object')"
      ]
     },
     "execution_count": 370,
     "metadata": {},
     "output_type": "execute_result"
    }
   ],
   "source": [
    "df_huyen_dak_rlap.columns"
   ]
  },
  {
   "cell_type": "markdown",
   "metadata": {},
   "source": [
    "> Các cột như DC_CMND, DC_DinhDanh,Ghi_Chu,KetQua,Unnamed: 2 không có ý nghĩa phân tích nên ta sẽ xoá bỏ "
   ]
  },
  {
   "cell_type": "code",
   "execution_count": 371,
   "metadata": {},
   "outputs": [],
   "source": [
    "features=['KET_QUA','GHI_CHU', 'DC_DINHDANH', 'DC_CMND', 'GHI CHÚ ']\n",
    "df_huyen_dak_rlap.drop(columns=features,inplace=True)"
   ]
  },
  {
   "cell_type": "code",
   "execution_count": 372,
   "metadata": {},
   "outputs": [
    {
     "data": {
      "text/plain": [
       "(4220, 13)"
      ]
     },
     "execution_count": 372,
     "metadata": {},
     "output_type": "execute_result"
    }
   ],
   "source": [
    "df_huyen_dak_rlap.shape"
   ]
  },
  {
   "cell_type": "code",
   "execution_count": 373,
   "metadata": {},
   "outputs": [
    {
     "data": {
      "text/plain": [
       "Index(['STT_HO', 'STT', 'HO_TEN_CHU_HO', 'HO_TEN_THANH_VIEN', 'QUANHE_CHUHO',\n",
       "       'NGAY_SINH', 'GIOI_TINH', 'SO_CCCD', 'TINH', 'HUYEN', 'XA', 'DANTOC',\n",
       "       'PHAN_LOAI_HO'],\n",
       "      dtype='object')"
      ]
     },
     "execution_count": 373,
     "metadata": {},
     "output_type": "execute_result"
    }
   ],
   "source": [
    "df_huyen_dak_rlap.columns"
   ]
  },
  {
   "cell_type": "markdown",
   "metadata": {},
   "source": [
    "> Xóa giá trị trùng lặp"
   ]
  },
  {
   "cell_type": "code",
   "execution_count": 374,
   "metadata": {},
   "outputs": [],
   "source": [
    "df_huyen_dak_rlap.drop_duplicates(inplace=True)"
   ]
  },
  {
   "cell_type": "code",
   "execution_count": 375,
   "metadata": {},
   "outputs": [
    {
     "data": {
      "text/plain": [
       "(4220, 13)"
      ]
     },
     "execution_count": 375,
     "metadata": {},
     "output_type": "execute_result"
    }
   ],
   "source": [
    "df_huyen_dak_rlap.shape"
   ]
  },
  {
   "cell_type": "code",
   "execution_count": 376,
   "metadata": {},
   "outputs": [
    {
     "data": {
      "text/plain": [
       "STT_HO               3164\n",
       "STT                     0\n",
       "HO_TEN_CHU_HO           0\n",
       "HO_TEN_THANH_VIEN       2\n",
       "QUANHE_CHUHO            3\n",
       "NGAY_SINH              16\n",
       "GIOI_TINH              13\n",
       "SO_CCCD                39\n",
       "TINH                    0\n",
       "HUYEN                   0\n",
       "XA                      0\n",
       "DANTOC                  5\n",
       "PHAN_LOAI_HO            0\n",
       "dtype: int64"
      ]
     },
     "execution_count": 376,
     "metadata": {},
     "output_type": "execute_result"
    }
   ],
   "source": [
    "df_huyen_dak_rlap.isnull().sum()"
   ]
  },
  {
   "cell_type": "markdown",
   "metadata": {},
   "source": [
    "> Điền giá trị phổ biến cho cột Dân Tộc theo xã"
   ]
  },
  {
   "cell_type": "code",
   "execution_count": 377,
   "metadata": {},
   "outputs": [],
   "source": [
    "df_huyen_dak_rlap=fill_missing_dantoc(df_huyen_dak_rlap)"
   ]
  },
  {
   "cell_type": "markdown",
   "metadata": {},
   "source": [
    "> Điền giá trị phổ biến cho cột giới tính"
   ]
  },
  {
   "cell_type": "code",
   "execution_count": 378,
   "metadata": {},
   "outputs": [],
   "source": [
    "# Tính giá trị phổ biến nhất trong cột GIOI_TINH\n",
    "most_common_gender = df_huyen_dak_rlap['GIOI_TINH'].mode()[0]\n",
    "\n",
    "# Điền giá trị phổ biến vào các ô trống\n",
    "df_huyen_dak_rlap.fillna({'GIOI_TINH': most_common_gender}, inplace=True)\n",
    "\n"
   ]
  },
  {
   "cell_type": "markdown",
   "metadata": {},
   "source": [
    "> Tính tuổi dựa trên ngày sinh"
   ]
  },
  {
   "cell_type": "code",
   "execution_count": 379,
   "metadata": {},
   "outputs": [],
   "source": [
    "df_huyen_dak_rlap['TUOI']=round(df_huyen_dak_rlap['NGAY_SINH'].apply(calculate_age))"
   ]
  },
  {
   "cell_type": "code",
   "execution_count": 380,
   "metadata": {},
   "outputs": [
    {
     "data": {
      "text/plain": [
       "STT_HO               3164\n",
       "STT                     0\n",
       "HO_TEN_CHU_HO           0\n",
       "HO_TEN_THANH_VIEN       2\n",
       "QUANHE_CHUHO            3\n",
       "NGAY_SINH              16\n",
       "GIOI_TINH               0\n",
       "SO_CCCD                39\n",
       "TINH                    0\n",
       "HUYEN                   0\n",
       "XA                      0\n",
       "DANTOC                  0\n",
       "PHAN_LOAI_HO            0\n",
       "TUOI                   89\n",
       "dtype: int64"
      ]
     },
     "execution_count": 380,
     "metadata": {},
     "output_type": "execute_result"
    }
   ],
   "source": [
    "df_huyen_dak_rlap.isnull().sum()"
   ]
  },
  {
   "cell_type": "markdown",
   "metadata": {},
   "source": [
    "> Điền giá trị trung bình cho hàng nào không tính được ở cột tuổi"
   ]
  },
  {
   "cell_type": "code",
   "execution_count": 381,
   "metadata": {},
   "outputs": [],
   "source": [
    "# Tính giá trị trung bình trong cột Tuổi\n",
    "most_common_year_old = df_huyen_dak_rlap['TUOI'].mean()\n",
    "\n",
    "# Điền giá trị trung bình  vào các ô trống\n",
    "df_huyen_dak_rlap.fillna({'TUOI': most_common_year_old }, inplace=True)\n"
   ]
  },
  {
   "cell_type": "markdown",
   "metadata": {},
   "source": [
    "> Điền giá trị phổ biến cho cột QUANHE_CHUHO theo từng xã"
   ]
  },
  {
   "cell_type": "code",
   "execution_count": 382,
   "metadata": {},
   "outputs": [],
   "source": [
    "df_huyen_dak_rlap = fill_missing_quanhe_chuho(df_huyen_dak_rlap)"
   ]
  },
  {
   "cell_type": "markdown",
   "metadata": {},
   "source": [
    "> Ban đầu ta có (4241, 18) sau khi tiền xử lí thì còn lại (4201, 14)"
   ]
  },
  {
   "cell_type": "code",
   "execution_count": 383,
   "metadata": {},
   "outputs": [
    {
     "data": {
      "text/plain": [
       "(4220, 14)"
      ]
     },
     "execution_count": 383,
     "metadata": {},
     "output_type": "execute_result"
    }
   ],
   "source": [
    "df_huyen_dak_rlap.shape"
   ]
  },
  {
   "cell_type": "code",
   "execution_count": 384,
   "metadata": {},
   "outputs": [
    {
     "data": {
      "text/plain": [
       "STT_HO               3164\n",
       "STT                     0\n",
       "HO_TEN_CHU_HO           0\n",
       "HO_TEN_THANH_VIEN       2\n",
       "QUANHE_CHUHO            0\n",
       "NGAY_SINH              16\n",
       "GIOI_TINH               0\n",
       "SO_CCCD                39\n",
       "TINH                    0\n",
       "HUYEN                   0\n",
       "XA                      0\n",
       "DANTOC                  0\n",
       "PHAN_LOAI_HO            0\n",
       "TUOI                    0\n",
       "dtype: int64"
      ]
     },
     "execution_count": 384,
     "metadata": {},
     "output_type": "execute_result"
    }
   ],
   "source": [
    "df_huyen_dak_rlap.isnull().sum()"
   ]
  },
  {
   "cell_type": "code",
   "execution_count": 385,
   "metadata": {},
   "outputs": [
    {
     "data": {
      "text/plain": [
       "array(['NHÂN CƠ', 'KIẾN ĐỨC', 'QUẢNG TÍN', 'ĐẠO NGHĨA', 'KIẾN THÀNH',\n",
       "       'ĐĂK SIN', 'HƯNG BÌNH', 'NHÂN ĐẠO', 'ĐĂK RU', 'NGHĨA THẮNG',\n",
       "       'ĐẮK WER'], dtype=object)"
      ]
     },
     "execution_count": 385,
     "metadata": {},
     "output_type": "execute_result"
    }
   ],
   "source": [
    "df_huyen_dak_rlap['XA'].unique()"
   ]
  },
  {
   "cell_type": "code",
   "execution_count": 386,
   "metadata": {},
   "outputs": [
    {
     "data": {
      "text/plain": [
       "array([1.00000000e+00, 2.00000000e+00, 4.20650005e+11, 4.21320059e+10])"
      ]
     },
     "execution_count": 386,
     "metadata": {},
     "output_type": "execute_result"
    }
   ],
   "source": [
    "df_huyen_dak_rlap['GIOI_TINH'].unique()"
   ]
  },
  {
   "cell_type": "markdown",
   "metadata": {},
   "source": [
    "> xoá các giá trị trong cột giới tính mang giá trị không đúng định dạng"
   ]
  },
  {
   "cell_type": "code",
   "execution_count": 387,
   "metadata": {},
   "outputs": [],
   "source": [
    "# Giá trị cần xoá\n",
    "values_to_remove = ['420650005314.0', '42132005926.0']\n",
    "\n",
    "# Chuyển đổi cột 'GIOI_TINH' sang chuỗi nếu cần thiết\n",
    "df_huyen_dak_rlap['GIOI_TINH'] = df_huyen_dak_rlap['GIOI_TINH'].astype(str)\n",
    "\n",
    "# Lọc và gán lại DataFrame\n",
    "df_huyen_dak_rlap = df_huyen_dak_rlap[~df_huyen_dak_rlap['GIOI_TINH'].isin(values_to_remove)]"
   ]
  },
  {
   "cell_type": "markdown",
   "metadata": {},
   "source": [
    "> Xuất file"
   ]
  },
  {
   "cell_type": "code",
   "execution_count": 388,
   "metadata": {},
   "outputs": [],
   "source": [
    "df_huyen_dak_rlap.to_excel(\"../data_processed/HUYỆN ĐẮK RLẤP.xlsx\")"
   ]
  },
  {
   "cell_type": "markdown",
   "metadata": {},
   "source": [
    "#### 2.2.5. HUYỆN ĐẮK SONG"
   ]
  },
  {
   "cell_type": "markdown",
   "metadata": {},
   "source": [
    "> Kiểm tra giá trị null"
   ]
  },
  {
   "cell_type": "code",
   "execution_count": 389,
   "metadata": {},
   "outputs": [
    {
     "data": {
      "text/plain": [
       "Unnamed: 0              0\n",
       "STT_HO               7953\n",
       "STT                  2201\n",
       "HO_TEN_CHU_HO           0\n",
       "HO_TEN_THANH_VIEN       1\n",
       "QUANHE_CHUHO            3\n",
       "NGAY_SINH               1\n",
       "NGAY_SINH.1             1\n",
       "Ngay                  289\n",
       "Tháng                 289\n",
       "Năm                    48\n",
       "GIOI_TINH             480\n",
       "SO_CCCD               410\n",
       "TINH                    0\n",
       "HUYEN                   0\n",
       "XA                      0\n",
       "DANTOC                809\n",
       "PHAN_LOAI_HO            0\n",
       "KET_QUA                33\n",
       "GHI_CHU              8361\n",
       "DC_DINHDANH          2300\n",
       "DC_CMND              5130\n",
       "dtype: int64"
      ]
     },
     "execution_count": 389,
     "metadata": {},
     "output_type": "execute_result"
    }
   ],
   "source": [
    "df_huyen_dak_song.isnull().sum()"
   ]
  },
  {
   "cell_type": "code",
   "execution_count": 390,
   "metadata": {},
   "outputs": [
    {
     "data": {
      "text/plain": [
       "(9028, 22)"
      ]
     },
     "execution_count": 390,
     "metadata": {},
     "output_type": "execute_result"
    }
   ],
   "source": [
    "df_huyen_dak_song.shape"
   ]
  },
  {
   "cell_type": "code",
   "execution_count": 391,
   "metadata": {},
   "outputs": [
    {
     "data": {
      "text/plain": [
       "Index(['Unnamed: 0', 'STT_HO', 'STT', 'HO_TEN_CHU_HO', 'HO_TEN_THANH_VIEN',\n",
       "       'QUANHE_CHUHO', 'NGAY_SINH', 'NGAY_SINH.1', 'Ngay', 'Tháng', 'Năm',\n",
       "       'GIOI_TINH', 'SO_CCCD', 'TINH', 'HUYEN', 'XA', 'DANTOC', 'PHAN_LOAI_HO',\n",
       "       'KET_QUA', 'GHI_CHU', 'DC_DINHDANH', 'DC_CMND'],\n",
       "      dtype='object')"
      ]
     },
     "execution_count": 391,
     "metadata": {},
     "output_type": "execute_result"
    }
   ],
   "source": [
    "df_huyen_dak_song.columns"
   ]
  },
  {
   "cell_type": "markdown",
   "metadata": {},
   "source": [
    "> Xoá những người chết,đã chết"
   ]
  },
  {
   "cell_type": "code",
   "execution_count": 392,
   "metadata": {},
   "outputs": [],
   "source": [
    "# List of values to filter out\n",
    "values_to_drop = [\"cắt hộ nghèo\",\"ĐÃ CHẾT\", \"chết\", \"CHẾT RỒI\",\"CHẾT\", \"CHUYỂN ĐI\",\"mới chết\", \"CHẾT RÒI\", \"CHUYỂN\",\"chuyển\",\"Chết\",\"chuyển đi\",\"cắt khẩu\",\"chuyển khẩu\",\"CẮT CHUYỂN KHẨU\",\"ĐÃ CHUYỂN HK\",\"KHÔNG CÓ TẠI ĐỊA PHƯƠNG\",\"Đã chuyển khẩu\",\"đã chết\"]\n",
    "\n",
    "# Iterate over each column and filter rows containing values_to_drop\n",
    "for column in df_huyen_dak_song.columns:\n",
    "    df_huyen_dak_song = df_huyen_dak_song[~df_huyen_dak_song[column].isin(values_to_drop)]"
   ]
  },
  {
   "cell_type": "markdown",
   "metadata": {},
   "source": [
    "> Kết quả sau khi loại bỏ"
   ]
  },
  {
   "cell_type": "code",
   "execution_count": 393,
   "metadata": {},
   "outputs": [
    {
     "data": {
      "text/plain": [
       "(8987, 22)"
      ]
     },
     "execution_count": 393,
     "metadata": {},
     "output_type": "execute_result"
    }
   ],
   "source": [
    "df_huyen_dak_song.shape"
   ]
  },
  {
   "cell_type": "code",
   "execution_count": 394,
   "metadata": {},
   "outputs": [
    {
     "data": {
      "text/plain": [
       "Index(['Unnamed: 0', 'STT_HO', 'STT', 'HO_TEN_CHU_HO', 'HO_TEN_THANH_VIEN',\n",
       "       'QUANHE_CHUHO', 'NGAY_SINH', 'NGAY_SINH.1', 'Ngay', 'Tháng', 'Năm',\n",
       "       'GIOI_TINH', 'SO_CCCD', 'TINH', 'HUYEN', 'XA', 'DANTOC', 'PHAN_LOAI_HO',\n",
       "       'KET_QUA', 'GHI_CHU', 'DC_DINHDANH', 'DC_CMND'],\n",
       "      dtype='object')"
      ]
     },
     "execution_count": 394,
     "metadata": {},
     "output_type": "execute_result"
    }
   ],
   "source": [
    "df_huyen_dak_song.columns"
   ]
  },
  {
   "cell_type": "markdown",
   "metadata": {},
   "source": [
    "> Các cột như DC_CMND, DC_DinhDanh,Ghi_Chu,KetQua,Unnamed: 0,'NGAY_SINH.1', 'Ngay', 'Tháng', 'Năm' không có ý nghĩa phân tích nên ta sẽ xoá bỏ "
   ]
  },
  {
   "cell_type": "code",
   "execution_count": 395,
   "metadata": {},
   "outputs": [],
   "source": [
    "features=['KET_QUA', 'GHI_CHU', 'DC_DINHDANH',\n",
    "       'DC_CMND','Unnamed: 0','NGAY_SINH.1', 'Ngay', 'Tháng', 'Năm']\n",
    "df_huyen_dak_song.drop(columns=features,inplace=True)"
   ]
  },
  {
   "cell_type": "markdown",
   "metadata": {},
   "source": [
    "> Kết quả sau khi loại bỏ"
   ]
  },
  {
   "cell_type": "code",
   "execution_count": 396,
   "metadata": {},
   "outputs": [
    {
     "data": {
      "text/plain": [
       "STT_HO               7913\n",
       "STT                  2191\n",
       "HO_TEN_CHU_HO           0\n",
       "HO_TEN_THANH_VIEN       1\n",
       "QUANHE_CHUHO            3\n",
       "NGAY_SINH               0\n",
       "GIOI_TINH             479\n",
       "SO_CCCD               410\n",
       "TINH                    0\n",
       "HUYEN                   0\n",
       "XA                      0\n",
       "DANTOC                809\n",
       "PHAN_LOAI_HO            0\n",
       "dtype: int64"
      ]
     },
     "execution_count": 396,
     "metadata": {},
     "output_type": "execute_result"
    }
   ],
   "source": [
    "df_huyen_dak_song.isnull().sum()"
   ]
  },
  {
   "cell_type": "code",
   "execution_count": 397,
   "metadata": {},
   "outputs": [
    {
     "data": {
      "text/plain": [
       "(8987, 13)"
      ]
     },
     "execution_count": 397,
     "metadata": {},
     "output_type": "execute_result"
    }
   ],
   "source": [
    "df_huyen_dak_song.shape"
   ]
  },
  {
   "cell_type": "markdown",
   "metadata": {},
   "source": [
    "> Xóa bỏ giá trị trùng lặp"
   ]
  },
  {
   "cell_type": "code",
   "execution_count": 398,
   "metadata": {},
   "outputs": [],
   "source": [
    "df_huyen_dak_song.drop_duplicates(inplace=True)"
   ]
  },
  {
   "cell_type": "code",
   "execution_count": 399,
   "metadata": {},
   "outputs": [
    {
     "data": {
      "text/plain": [
       "(8987, 13)"
      ]
     },
     "execution_count": 399,
     "metadata": {},
     "output_type": "execute_result"
    }
   ],
   "source": [
    "df_huyen_dak_song.shape"
   ]
  },
  {
   "cell_type": "code",
   "execution_count": 400,
   "metadata": {},
   "outputs": [
    {
     "data": {
      "text/plain": [
       "STT_HO               7913\n",
       "STT                  2191\n",
       "HO_TEN_CHU_HO           0\n",
       "HO_TEN_THANH_VIEN       1\n",
       "QUANHE_CHUHO            3\n",
       "NGAY_SINH               0\n",
       "GIOI_TINH             479\n",
       "SO_CCCD               410\n",
       "TINH                    0\n",
       "HUYEN                   0\n",
       "XA                      0\n",
       "DANTOC                809\n",
       "PHAN_LOAI_HO            0\n",
       "dtype: int64"
      ]
     },
     "execution_count": 400,
     "metadata": {},
     "output_type": "execute_result"
    }
   ],
   "source": [
    "df_huyen_dak_song.isnull().sum()"
   ]
  },
  {
   "cell_type": "markdown",
   "metadata": {},
   "source": [
    "> Điền giá trị phổ biến cho cột dân tộc theo xã"
   ]
  },
  {
   "cell_type": "code",
   "execution_count": 401,
   "metadata": {},
   "outputs": [],
   "source": [
    "df_huyen_dak_song=fill_missing_dantoc(df_huyen_dak_song)"
   ]
  },
  {
   "cell_type": "markdown",
   "metadata": {},
   "source": [
    "> Điền giá trị phổ biến cho cột giới tính\n"
   ]
  },
  {
   "cell_type": "code",
   "execution_count": 402,
   "metadata": {},
   "outputs": [],
   "source": [
    "# Tính giá trị phổ biến nhất trong cột GIOI_TINH\n",
    "most_common_gender = df_huyen_dak_song['GIOI_TINH'].mode()[0]\n",
    "\n",
    "# Điền giá trị phổ biến vào các ô trống\n",
    "df_huyen_dak_song.fillna({'GIOI_TINH': most_common_gender}, inplace=True)\n"
   ]
  },
  {
   "cell_type": "markdown",
   "metadata": {},
   "source": [
    "> Tính tuổi dựa trên ngày sinh"
   ]
  },
  {
   "cell_type": "code",
   "execution_count": 403,
   "metadata": {},
   "outputs": [],
   "source": [
    "df_huyen_dak_song['TUOI']=round(df_huyen_dak_song['NGAY_SINH'].apply(calculate_age))"
   ]
  },
  {
   "cell_type": "code",
   "execution_count": 404,
   "metadata": {},
   "outputs": [
    {
     "data": {
      "text/plain": [
       "STT_HO               7913\n",
       "STT                  2191\n",
       "HO_TEN_CHU_HO           0\n",
       "HO_TEN_THANH_VIEN       1\n",
       "QUANHE_CHUHO            3\n",
       "NGAY_SINH               0\n",
       "GIOI_TINH               0\n",
       "SO_CCCD               410\n",
       "TINH                    0\n",
       "HUYEN                   0\n",
       "XA                      0\n",
       "DANTOC                  0\n",
       "PHAN_LOAI_HO            0\n",
       "TUOI                  154\n",
       "dtype: int64"
      ]
     },
     "execution_count": 404,
     "metadata": {},
     "output_type": "execute_result"
    }
   ],
   "source": [
    "df_huyen_dak_song.isnull().sum()"
   ]
  },
  {
   "cell_type": "markdown",
   "metadata": {},
   "source": [
    "> Điền giá trị trung bình cho các hàng không tính tuổi được"
   ]
  },
  {
   "cell_type": "code",
   "execution_count": 405,
   "metadata": {},
   "outputs": [],
   "source": [
    "# Tính giá trị trung bình trong cột Tuổi\n",
    "most_common_year_old = df_huyen_dak_song['TUOI'].mean()\n",
    "\n",
    "# Điền giá trị trung bình  vào các ô trống\n",
    "df_huyen_dak_song.fillna({'TUOI': most_common_year_old }, inplace=True)"
   ]
  },
  {
   "cell_type": "markdown",
   "metadata": {},
   "source": [
    "> Điền giá trị phổ biến cho cột QUANHE_CHUHO theo từng xã"
   ]
  },
  {
   "cell_type": "code",
   "execution_count": 406,
   "metadata": {},
   "outputs": [],
   "source": [
    "df_huyen_dak_song = fill_missing_quanhe_chuho(df_huyen_dak_song)"
   ]
  },
  {
   "cell_type": "markdown",
   "metadata": {},
   "source": [
    "> Ban đầu ta có (9028, 22) sau quá trình tiền xử lí thì (8618, 14)"
   ]
  },
  {
   "cell_type": "code",
   "execution_count": 407,
   "metadata": {},
   "outputs": [
    {
     "data": {
      "text/plain": [
       "(8987, 14)"
      ]
     },
     "execution_count": 407,
     "metadata": {},
     "output_type": "execute_result"
    }
   ],
   "source": [
    "df_huyen_dak_song.shape"
   ]
  },
  {
   "cell_type": "code",
   "execution_count": 408,
   "metadata": {},
   "outputs": [
    {
     "data": {
      "text/plain": [
       "STT_HO               7913\n",
       "STT                  2191\n",
       "HO_TEN_CHU_HO           0\n",
       "HO_TEN_THANH_VIEN       1\n",
       "QUANHE_CHUHO            0\n",
       "NGAY_SINH               0\n",
       "GIOI_TINH               0\n",
       "SO_CCCD               410\n",
       "TINH                    0\n",
       "HUYEN                   0\n",
       "XA                      0\n",
       "DANTOC                  0\n",
       "PHAN_LOAI_HO            0\n",
       "TUOI                    0\n",
       "dtype: int64"
      ]
     },
     "execution_count": 408,
     "metadata": {},
     "output_type": "execute_result"
    }
   ],
   "source": [
    "df_huyen_dak_song.isnull().sum()"
   ]
  },
  {
   "cell_type": "code",
   "execution_count": 409,
   "metadata": {},
   "outputs": [
    {
     "data": {
      "text/plain": [
       "array(['ĐẮK HÒA', 'TRƯỜNG XUÂN', 'THUẬN\\nHẠNH', \"ĐẮK N'DRUNG\", 'ĐẮK MÔL',\n",
       "       'THUẬN HÀ', 'NAM BÌNH', \"NÂM N'JANG\", 'ĐỨC AN'], dtype=object)"
      ]
     },
     "execution_count": 409,
     "metadata": {},
     "output_type": "execute_result"
    }
   ],
   "source": [
    "df_huyen_dak_song['XA'].unique()"
   ]
  },
  {
   "cell_type": "markdown",
   "metadata": {},
   "source": [
    "> Chuyển đổi các thuộc tính sang biến phân loại"
   ]
  },
  {
   "cell_type": "code",
   "execution_count": 410,
   "metadata": {},
   "outputs": [],
   "source": [
    "gioi_tinh_mapping = {\n",
    "    'FEMALE': 2,\n",
    "    'MALE': 1\n",
    "}\n",
    "\n",
    "# Thay đổi giá trị trong cột 'GIOI_TINH' theo từ điển ánh xạ\n",
    "df_huyen_dak_song['GIOI_TINH'] = df_huyen_dak_song['GIOI_TINH'].map(gioi_tinh_mapping)"
   ]
  },
  {
   "cell_type": "code",
   "execution_count": 411,
   "metadata": {},
   "outputs": [],
   "source": [
    "mapping_dan_toc = {\n",
    "    'KIN': 1,\n",
    "    'NUN': 7,\n",
    "    'TAY': 2,\n",
    "    'MNO': 20,\n",
    "    'MUO': 6,\n",
    "    'GIR': 10,\n",
    "    'THAI': 3,\n",
    "    'KHM': 5,\n",
    "    'DAO': 9,\n",
    "    'HMO': 8,\n",
    "    'THA': 3,\n",
    "    'CHA': 17,\n",
    "    'SAC': 15,\n",
    "    'MAA': 28,\n",
    "    'EDE': 12,\n",
    "    'HOA': 4,\n",
    "    'COH': 16,\n",
    "    'THO': 24,\n",
    "    'SAD': 18,\n",
    "    'XTI': 22,\n",
    "    'HRE': 19,\n",
    "    'XED': 14,\n",
    "    '56':56\n",
    "}\n",
    "\n",
    "# Thay đổi giá trị trong cột 'DANTOC'\n",
    "df_huyen_dak_song['DANTOC'] = df_huyen_dak_song['DANTOC'].map(mapping_dan_toc)"
   ]
  },
  {
   "cell_type": "code",
   "execution_count": 412,
   "metadata": {},
   "outputs": [
    {
     "data": {
      "text/plain": [
       "(8987, 14)"
      ]
     },
     "execution_count": 412,
     "metadata": {},
     "output_type": "execute_result"
    }
   ],
   "source": [
    "df_huyen_dak_song.shape"
   ]
  },
  {
   "cell_type": "code",
   "execution_count": 413,
   "metadata": {},
   "outputs": [],
   "source": [
    "mapping_phan_loai_ho={\n",
    "    'POOR':1,\n",
    "    'NEAR_POOR':2\n",
    "}\n",
    "df_huyen_dak_song['PHAN_LOAI_HO']=df_huyen_dak_song['PHAN_LOAI_HO'].map(mapping_phan_loai_ho)"
   ]
  },
  {
   "cell_type": "markdown",
   "metadata": {},
   "source": [
    "> Xuất File"
   ]
  },
  {
   "cell_type": "code",
   "execution_count": 414,
   "metadata": {},
   "outputs": [],
   "source": [
    "df_huyen_dak_song.to_excel(\"../data_processed/HUYỆN ĐẮK SONG.xlsx\")"
   ]
  },
  {
   "cell_type": "markdown",
   "metadata": {},
   "source": [
    "#### 2.1.6. HUYỆN KRÔNG NÔ"
   ]
  },
  {
   "cell_type": "markdown",
   "metadata": {},
   "source": [
    "> Kiểm tra giá trị null"
   ]
  },
  {
   "cell_type": "code",
   "execution_count": 415,
   "metadata": {},
   "outputs": [
    {
     "data": {
      "text/plain": [
       "b                        0\n",
       "STT_HO               11797\n",
       "STT                      0\n",
       "HO_TEN_CHU_HO            0\n",
       "HO_TEN_THANH_VIEN        5\n",
       "QUANHE_CHUHO           747\n",
       "NGAY_SINH               29\n",
       "Ngay                  1267\n",
       "tháng                 1269\n",
       "năm                    279\n",
       "GIOI_TINH             1081\n",
       "SO_CCCD                670\n",
       "TINH                     0\n",
       "HUYEN                    0\n",
       "XA                       0\n",
       "DANTOC                 863\n",
       "PHAN_LOAI_HO             0\n",
       "KET_QUA                 12\n",
       "GHI_CHU              13271\n",
       "DC_DINHDANH           2872\n",
       "DC_CMND               8075\n",
       "dtype: int64"
      ]
     },
     "execution_count": 415,
     "metadata": {},
     "output_type": "execute_result"
    }
   ],
   "source": [
    "df_huyen_krong_no.isnull().sum()"
   ]
  },
  {
   "cell_type": "code",
   "execution_count": 416,
   "metadata": {},
   "outputs": [
    {
     "data": {
      "text/plain": [
       "(15094, 21)"
      ]
     },
     "execution_count": 416,
     "metadata": {},
     "output_type": "execute_result"
    }
   ],
   "source": [
    "df_huyen_krong_no.shape"
   ]
  },
  {
   "cell_type": "code",
   "execution_count": 417,
   "metadata": {},
   "outputs": [
    {
     "data": {
      "text/plain": [
       "Index(['b', 'STT_HO', 'STT', 'HO_TEN_CHU_HO', 'HO_TEN_THANH_VIEN',\n",
       "       'QUANHE_CHUHO', 'NGAY_SINH', 'Ngay', 'tháng', 'năm', 'GIOI_TINH',\n",
       "       'SO_CCCD', 'TINH', 'HUYEN', 'XA', 'DANTOC', 'PHAN_LOAI_HO', 'KET_QUA',\n",
       "       'GHI_CHU', 'DC_DINHDANH', 'DC_CMND'],\n",
       "      dtype='object')"
      ]
     },
     "execution_count": 417,
     "metadata": {},
     "output_type": "execute_result"
    }
   ],
   "source": [
    "df_huyen_krong_no.columns"
   ]
  },
  {
   "cell_type": "markdown",
   "metadata": {},
   "source": [
    "> Quan sát ta thấy những người có số CCCD bị trống sẽ không thể tìm thấy trên hệ thống nên drop bỏ những người đó ra khỏi bộ dữ liệu"
   ]
  },
  {
   "cell_type": "code",
   "execution_count": 418,
   "metadata": {},
   "outputs": [],
   "source": [
    "# List of values to filter out\n",
    "values_to_drop = [\"cắt hộ nghèo\",\"ĐÃ CHẾT\", \"chết\", \"CHẾT RỒI\",\"CHẾT\", \"CHUYỂN ĐI\",\"mới chết\", \"CHẾT RÒI\", \"CHUYỂN\",\"chuyển\",\"Chết\",\"chuyển đi\",\"cắt khẩu\",\"chuyển khẩu\",\"CẮT CHUYỂN KHẨU\",\"ĐÃ CHUYỂN HK\",\"KHÔNG CÓ TẠI ĐỊA PHƯƠNG\",\"Đã chuyển khẩu\",\"đã chết\"]\n",
    "# Iterate over each column and filter rows containing values_to_drop\n",
    "for column in df_huyen_krong_no.columns:\n",
    "    df_huyen_krong_no =df_huyen_krong_no[~df_huyen_krong_no[column].isin(values_to_drop)]"
   ]
  },
  {
   "cell_type": "markdown",
   "metadata": {},
   "source": [
    "> Kết quả sau khi loại bỏ"
   ]
  },
  {
   "cell_type": "code",
   "execution_count": 419,
   "metadata": {},
   "outputs": [
    {
     "data": {
      "text/plain": [
       "(15073, 21)"
      ]
     },
     "execution_count": 419,
     "metadata": {},
     "output_type": "execute_result"
    }
   ],
   "source": [
    "df_huyen_krong_no.shape"
   ]
  },
  {
   "cell_type": "code",
   "execution_count": 420,
   "metadata": {},
   "outputs": [
    {
     "data": {
      "text/plain": [
       "Index(['b', 'STT_HO', 'STT', 'HO_TEN_CHU_HO', 'HO_TEN_THANH_VIEN',\n",
       "       'QUANHE_CHUHO', 'NGAY_SINH', 'Ngay', 'tháng', 'năm', 'GIOI_TINH',\n",
       "       'SO_CCCD', 'TINH', 'HUYEN', 'XA', 'DANTOC', 'PHAN_LOAI_HO', 'KET_QUA',\n",
       "       'GHI_CHU', 'DC_DINHDANH', 'DC_CMND'],\n",
       "      dtype='object')"
      ]
     },
     "execution_count": 420,
     "metadata": {},
     "output_type": "execute_result"
    }
   ],
   "source": [
    "df_huyen_krong_no.columns"
   ]
  },
  {
   "cell_type": "markdown",
   "metadata": {},
   "source": [
    "> Các cột như DC_CMND, DC_DinhDanh,Ghi_Chu,KetQua,b,Ngay,tháng,năm  không có ý nghĩa phân tích nên ta sẽ xoá bỏ "
   ]
  },
  {
   "cell_type": "code",
   "execution_count": 421,
   "metadata": {},
   "outputs": [],
   "source": [
    "features=['KET_QUA','GHI_CHU', 'DC_DINHDANH', 'DC_CMND','b','Ngay', 'tháng', 'năm']\n",
    "df_huyen_krong_no.drop(columns=features,inplace=True)"
   ]
  },
  {
   "cell_type": "code",
   "execution_count": 422,
   "metadata": {},
   "outputs": [
    {
     "data": {
      "text/plain": [
       "(15073, 13)"
      ]
     },
     "execution_count": 422,
     "metadata": {},
     "output_type": "execute_result"
    }
   ],
   "source": [
    "df_huyen_krong_no.shape"
   ]
  },
  {
   "cell_type": "markdown",
   "metadata": {},
   "source": [
    "> Loại bỏ giá trị trùng lặp"
   ]
  },
  {
   "cell_type": "code",
   "execution_count": 423,
   "metadata": {},
   "outputs": [],
   "source": [
    "df_huyen_krong_no.drop_duplicates(inplace=True)"
   ]
  },
  {
   "cell_type": "code",
   "execution_count": 424,
   "metadata": {},
   "outputs": [
    {
     "data": {
      "text/plain": [
       "(15073, 13)"
      ]
     },
     "execution_count": 424,
     "metadata": {},
     "output_type": "execute_result"
    }
   ],
   "source": [
    "df_huyen_krong_no.shape"
   ]
  },
  {
   "cell_type": "code",
   "execution_count": 425,
   "metadata": {},
   "outputs": [
    {
     "data": {
      "text/plain": [
       "STT_HO               11778\n",
       "STT                      0\n",
       "HO_TEN_CHU_HO            0\n",
       "HO_TEN_THANH_VIEN        5\n",
       "QUANHE_CHUHO           747\n",
       "NGAY_SINH               29\n",
       "GIOI_TINH             1081\n",
       "SO_CCCD                665\n",
       "TINH                     0\n",
       "HUYEN                    0\n",
       "XA                       0\n",
       "DANTOC                 862\n",
       "PHAN_LOAI_HO             0\n",
       "dtype: int64"
      ]
     },
     "execution_count": 425,
     "metadata": {},
     "output_type": "execute_result"
    }
   ],
   "source": [
    "df_huyen_krong_no.isnull().sum()"
   ]
  },
  {
   "cell_type": "markdown",
   "metadata": {},
   "source": [
    "> Điền giá trị phổ biến cho cột dân tộc theo xã"
   ]
  },
  {
   "cell_type": "code",
   "execution_count": 426,
   "metadata": {},
   "outputs": [],
   "source": [
    "df_huyen_krong_no=fill_missing_dantoc(df_huyen_krong_no)"
   ]
  },
  {
   "cell_type": "markdown",
   "metadata": {},
   "source": [
    "> Điền giá trị phổ biến cho cột giới tính"
   ]
  },
  {
   "cell_type": "code",
   "execution_count": 427,
   "metadata": {},
   "outputs": [],
   "source": [
    "# Tính giá trị phổ biến nhất trong cột GIOI_TINH\n",
    "most_common_gender = df_huyen_krong_no['GIOI_TINH'].mode()[0]\n",
    "\n",
    "# Điền giá trị phổ biến vào các ô trống\n",
    "df_huyen_krong_no.fillna({'GIOI_TINH': most_common_gender}, inplace=True)"
   ]
  },
  {
   "cell_type": "markdown",
   "metadata": {},
   "source": [
    "> Tính tuổi dựa trên ngày sinh"
   ]
  },
  {
   "cell_type": "code",
   "execution_count": 428,
   "metadata": {},
   "outputs": [],
   "source": [
    "df_huyen_krong_no['TUOI']=round(df_huyen_krong_no['NGAY_SINH'].apply(calculate_age))"
   ]
  },
  {
   "cell_type": "code",
   "execution_count": 429,
   "metadata": {},
   "outputs": [
    {
     "data": {
      "text/plain": [
       "STT_HO               11778\n",
       "STT                      0\n",
       "HO_TEN_CHU_HO            0\n",
       "HO_TEN_THANH_VIEN        5\n",
       "QUANHE_CHUHO           747\n",
       "NGAY_SINH               29\n",
       "GIOI_TINH                0\n",
       "SO_CCCD                665\n",
       "TINH                     0\n",
       "HUYEN                    0\n",
       "XA                       0\n",
       "DANTOC                   0\n",
       "PHAN_LOAI_HO             0\n",
       "TUOI                   441\n",
       "dtype: int64"
      ]
     },
     "execution_count": 429,
     "metadata": {},
     "output_type": "execute_result"
    }
   ],
   "source": [
    "df_huyen_krong_no.isnull().sum()"
   ]
  },
  {
   "cell_type": "markdown",
   "metadata": {},
   "source": [
    "> Điền giá trị trung bình cho các hàng không tính tuổi được"
   ]
  },
  {
   "cell_type": "code",
   "execution_count": 430,
   "metadata": {},
   "outputs": [],
   "source": [
    "# Tính giá trị trung bình trong cột Tuổi\n",
    "most_common_year_old = df_huyen_krong_no['TUOI'].mean()\n",
    "\n",
    "# Điền giá trị trung bình  vào các ô trống\n",
    "df_huyen_krong_no.fillna({'TUOI': most_common_year_old }, inplace=True)"
   ]
  },
  {
   "cell_type": "markdown",
   "metadata": {},
   "source": [
    "> Điền giá trị phổ biến cho cột QUANHE_CHUHO theo từng xã"
   ]
  },
  {
   "cell_type": "code",
   "execution_count": 431,
   "metadata": {},
   "outputs": [],
   "source": [
    "df_huyen_krong_no = fill_missing_quanhe_chuho(df_huyen_krong_no)"
   ]
  },
  {
   "cell_type": "markdown",
   "metadata": {},
   "source": [
    "> Ban đầu ta có (15094, 21) sau khi tiền xử lí thì còn lại (14424, 14)"
   ]
  },
  {
   "cell_type": "code",
   "execution_count": 432,
   "metadata": {},
   "outputs": [
    {
     "data": {
      "text/plain": [
       "(15073, 14)"
      ]
     },
     "execution_count": 432,
     "metadata": {},
     "output_type": "execute_result"
    }
   ],
   "source": [
    "df_huyen_krong_no.shape"
   ]
  },
  {
   "cell_type": "code",
   "execution_count": 433,
   "metadata": {},
   "outputs": [
    {
     "data": {
      "text/plain": [
       "STT_HO               11778\n",
       "STT                      0\n",
       "HO_TEN_CHU_HO            0\n",
       "HO_TEN_THANH_VIEN        5\n",
       "QUANHE_CHUHO             0\n",
       "NGAY_SINH               29\n",
       "GIOI_TINH                0\n",
       "SO_CCCD                665\n",
       "TINH                     0\n",
       "HUYEN                    0\n",
       "XA                       0\n",
       "DANTOC                   0\n",
       "PHAN_LOAI_HO             0\n",
       "TUOI                     0\n",
       "dtype: int64"
      ]
     },
     "execution_count": 433,
     "metadata": {},
     "output_type": "execute_result"
    }
   ],
   "source": [
    "df_huyen_krong_no.isnull().sum()"
   ]
  },
  {
   "cell_type": "code",
   "execution_count": 434,
   "metadata": {},
   "outputs": [
    {
     "data": {
      "text/plain": [
       "array(['ĐẮK MÂM', 'QUẢNG PHÚ', 'ĐĂK NANG', 'ĐỨC XUYÊN', \"NÂM N'ĐIR\",\n",
       "       'NÂM NUNG', 'TÂN THÀNH', 'ĐẮK DRÔ', 'BUÔN CHOAH', 'NAM ĐÀ',\n",
       "       'ĐẮK SÔR', 'NAM XUÂN'], dtype=object)"
      ]
     },
     "execution_count": 434,
     "metadata": {},
     "output_type": "execute_result"
    }
   ],
   "source": [
    "df_huyen_krong_no['XA'].unique()"
   ]
  },
  {
   "cell_type": "code",
   "execution_count": 435,
   "metadata": {},
   "outputs": [
    {
     "data": {
      "text/html": [
       "<div>\n",
       "<style scoped>\n",
       "    .dataframe tbody tr th:only-of-type {\n",
       "        vertical-align: middle;\n",
       "    }\n",
       "\n",
       "    .dataframe tbody tr th {\n",
       "        vertical-align: top;\n",
       "    }\n",
       "\n",
       "    .dataframe thead th {\n",
       "        text-align: right;\n",
       "    }\n",
       "</style>\n",
       "<table border=\"1\" class=\"dataframe\">\n",
       "  <thead>\n",
       "    <tr style=\"text-align: right;\">\n",
       "      <th></th>\n",
       "      <th>STT_HO</th>\n",
       "      <th>STT</th>\n",
       "      <th>HO_TEN_CHU_HO</th>\n",
       "      <th>HO_TEN_THANH_VIEN</th>\n",
       "      <th>QUANHE_CHUHO</th>\n",
       "      <th>NGAY_SINH</th>\n",
       "      <th>GIOI_TINH</th>\n",
       "      <th>SO_CCCD</th>\n",
       "      <th>TINH</th>\n",
       "      <th>HUYEN</th>\n",
       "      <th>XA</th>\n",
       "      <th>DANTOC</th>\n",
       "      <th>PHAN_LOAI_HO</th>\n",
       "      <th>TUOI</th>\n",
       "    </tr>\n",
       "  </thead>\n",
       "  <tbody>\n",
       "  </tbody>\n",
       "</table>\n",
       "</div>"
      ],
      "text/plain": [
       "Empty DataFrame\n",
       "Columns: [STT_HO, STT, HO_TEN_CHU_HO, HO_TEN_THANH_VIEN, QUANHE_CHUHO, NGAY_SINH, GIOI_TINH, SO_CCCD, TINH, HUYEN, XA, DANTOC, PHAN_LOAI_HO, TUOI]\n",
       "Index: []"
      ]
     },
     "execution_count": 435,
     "metadata": {},
     "output_type": "execute_result"
    }
   ],
   "source": [
    "df_huyen_krong_no[df_huyen_krong_no['PHAN_LOAI_HO'].isnull()]"
   ]
  },
  {
   "cell_type": "code",
   "execution_count": 436,
   "metadata": {},
   "outputs": [],
   "source": [
    "df_huyen_krong_no.dropna(subset='PHAN_LOAI_HO',inplace=True)"
   ]
  },
  {
   "cell_type": "markdown",
   "metadata": {},
   "source": [
    "> Chuyển đổi các thuộc tính sang biến phân loại"
   ]
  },
  {
   "cell_type": "code",
   "execution_count": 437,
   "metadata": {},
   "outputs": [],
   "source": [
    "gioi_tinh_mapping = {\n",
    "    'FEMALE': 2,\n",
    "    'MALE': 1\n",
    "}\n",
    "\n",
    "# Thay đổi giá trị trong cột 'GIOI_TINH' theo từ điển ánh xạ\n",
    "df_huyen_krong_no['GIOI_TINH'] = df_huyen_krong_no['GIOI_TINH'].map(gioi_tinh_mapping)"
   ]
  },
  {
   "cell_type": "code",
   "execution_count": 438,
   "metadata": {},
   "outputs": [],
   "source": [
    "mapping_phan_loai_ho={\n",
    "    'POOR':1,\n",
    "    'NEAR_POOR':2\n",
    "}\n",
    "df_huyen_krong_no['PHAN_LOAI_HO']=df_huyen_krong_no['PHAN_LOAI_HO'].map(mapping_phan_loai_ho)"
   ]
  },
  {
   "cell_type": "code",
   "execution_count": 439,
   "metadata": {},
   "outputs": [],
   "source": [
    "mapping_dan_toc = {\n",
    "    'KIN': 1, 'NUN': 7, 'TAY': 2, 'MNO': 20, 'MUO': 6, 'GIR': 10, 'THA': 3,\n",
    "    'KHM': 5, 'DAO': 9, 'HMO': 8, 'EDE': 12, 'SAC': 15, 'HOA': 4, 'SAD': 18,\n",
    "    'THO': 24,'NGA':11\n",
    "}\n",
    "\n",
    "# Thực hiện thay đổi giá trị trong cột 'DANTOC' của DataFrame\n",
    "df_huyen_krong_no['DANTOC'] = df_huyen_krong_no['DANTOC'].map(mapping_dan_toc)"
   ]
  },
  {
   "cell_type": "markdown",
   "metadata": {},
   "source": [
    "> Xuất file"
   ]
  },
  {
   "cell_type": "code",
   "execution_count": 440,
   "metadata": {},
   "outputs": [],
   "source": [
    "df_huyen_krong_no.to_excel(\"../data_processed/HUYỆN KRÔNG NÔ.xlsx\")"
   ]
  },
  {
   "cell_type": "markdown",
   "metadata": {},
   "source": [
    "#### 2.1.7.HUYỆN TUY ĐỨC"
   ]
  },
  {
   "cell_type": "markdown",
   "metadata": {},
   "source": [
    "> Kiểm tra giá trị null"
   ]
  },
  {
   "cell_type": "code",
   "execution_count": 441,
   "metadata": {},
   "outputs": [
    {
     "data": {
      "text/plain": [
       "Unnamed: 0               0\n",
       "STT_HO               13309\n",
       "STT                      0\n",
       "HO_TEN_CHU_HO            0\n",
       "HO_TEN_THANH_VIEN       22\n",
       "QUANHE_CHUHO            17\n",
       "NGAY_SINH               18\n",
       "NGAY_SINH.1             18\n",
       "NGAY                  1002\n",
       "Tháng                 1003\n",
       "Năm                     33\n",
       "GIOI_TINH                1\n",
       "SO_CCCD                129\n",
       "TINH                     0\n",
       "HUYEN                    0\n",
       "XA                       0\n",
       "THÔN XÓM             22178\n",
       "DANTOC                  24\n",
       "PHAN_LOAI_HO             0\n",
       "KET_QUA                  0\n",
       "GHI_CHU              20323\n",
       "DC_DINHDANH           7423\n",
       "DC_CMND              12667\n",
       "Unnamed: 23          18008\n",
       "dtype: int64"
      ]
     },
     "execution_count": 441,
     "metadata": {},
     "output_type": "execute_result"
    }
   ],
   "source": [
    "df_huyen_tuy_duc.isnull().sum()"
   ]
  },
  {
   "cell_type": "code",
   "execution_count": 442,
   "metadata": {},
   "outputs": [
    {
     "data": {
      "text/plain": [
       "(22178, 24)"
      ]
     },
     "execution_count": 442,
     "metadata": {},
     "output_type": "execute_result"
    }
   ],
   "source": [
    "df_huyen_tuy_duc.shape"
   ]
  },
  {
   "cell_type": "code",
   "execution_count": 443,
   "metadata": {},
   "outputs": [
    {
     "data": {
      "text/plain": [
       "Index(['Unnamed: 0', 'STT_HO', 'STT', 'HO_TEN_CHU_HO', 'HO_TEN_THANH_VIEN',\n",
       "       'QUANHE_CHUHO', 'NGAY_SINH', 'NGAY_SINH.1', 'NGAY', 'Tháng', 'Năm',\n",
       "       'GIOI_TINH', 'SO_CCCD', 'TINH', 'HUYEN', 'XA', 'THÔN XÓM', 'DANTOC',\n",
       "       'PHAN_LOAI_HO', 'KET_QUA', 'GHI_CHU', 'DC_DINHDANH', 'DC_CMND',\n",
       "       'Unnamed: 23'],\n",
       "      dtype='object')"
      ]
     },
     "execution_count": 443,
     "metadata": {},
     "output_type": "execute_result"
    }
   ],
   "source": [
    "df_huyen_tuy_duc.columns"
   ]
  },
  {
   "cell_type": "markdown",
   "metadata": {},
   "source": [
    "> Quan sát ta thấy những người có số CCCD bị trống sẽ không thể tìm thấy trên hệ thống nên drop bỏ những người đó ra khỏi bộ dữ liệu"
   ]
  },
  {
   "cell_type": "code",
   "execution_count": 444,
   "metadata": {},
   "outputs": [],
   "source": [
    "# List of values to filter out\n",
    "values_to_drop = [\"cắt hộ nghèo\",\"ĐÃ CHẾT\", \"chết\", \"CHẾT RỒI\",\"CHẾT\", \"CHUYỂN ĐI\",\"mới chết\", \"CHẾT RÒI\", \"CHUYỂN\",\"chuyển\",\"Chết\",\"chuyển đi\",\"cắt khẩu\",\"chuyển khẩu\",\"CẮT CHUYỂN KHẨU\",\"ĐÃ CHUYỂN HK\",\"KHÔNG CÓ TẠI ĐỊA PHƯƠNG\",\"Đã chuyển khẩu\",\"đã chết\"]\n",
    "# Iterate over each column and filter rows containing values_to_drop\n",
    "for column in df_huyen_tuy_duc.columns:\n",
    "    df_huyen_tuy_duc = df_huyen_tuy_duc[~df_huyen_tuy_duc[column].isin(values_to_drop)]"
   ]
  },
  {
   "cell_type": "markdown",
   "metadata": {},
   "source": [
    "> Kết quả sau khi xóa"
   ]
  },
  {
   "cell_type": "code",
   "execution_count": 445,
   "metadata": {},
   "outputs": [
    {
     "data": {
      "text/plain": [
       "(22169, 24)"
      ]
     },
     "execution_count": 445,
     "metadata": {},
     "output_type": "execute_result"
    }
   ],
   "source": [
    "df_huyen_tuy_duc.shape"
   ]
  },
  {
   "cell_type": "code",
   "execution_count": 446,
   "metadata": {},
   "outputs": [
    {
     "data": {
      "text/plain": [
       "Index(['Unnamed: 0', 'STT_HO', 'STT', 'HO_TEN_CHU_HO', 'HO_TEN_THANH_VIEN',\n",
       "       'QUANHE_CHUHO', 'NGAY_SINH', 'NGAY_SINH.1', 'NGAY', 'Tháng', 'Năm',\n",
       "       'GIOI_TINH', 'SO_CCCD', 'TINH', 'HUYEN', 'XA', 'THÔN XÓM', 'DANTOC',\n",
       "       'PHAN_LOAI_HO', 'KET_QUA', 'GHI_CHU', 'DC_DINHDANH', 'DC_CMND',\n",
       "       'Unnamed: 23'],\n",
       "      dtype='object')"
      ]
     },
     "execution_count": 446,
     "metadata": {},
     "output_type": "execute_result"
    }
   ],
   "source": [
    "df_huyen_tuy_duc.columns"
   ]
  },
  {
   "cell_type": "markdown",
   "metadata": {},
   "source": [
    "> Các cột như 'KET_QUA', 'GHI_CHU', 'DC_DINHDANH', 'DC_CMND',\n",
    "       'Unnamed: 23','Unnamed: 0','NGAY_SINH.1','NGAY', 'Tháng', 'Năm','THÔN XÓM' không có ý nghĩa phân tích nên ta sẽ xoá bỏ "
   ]
  },
  {
   "cell_type": "code",
   "execution_count": 447,
   "metadata": {},
   "outputs": [],
   "source": [
    "features=['KET_QUA', 'GHI_CHU', 'DC_DINHDANH', 'DC_CMND',\n",
    "       'Unnamed: 23','Unnamed: 0','NGAY_SINH.1','NGAY', 'Tháng', 'Năm','THÔN XÓM']\n",
    "df_huyen_tuy_duc.drop(columns=features,inplace=True)"
   ]
  },
  {
   "cell_type": "code",
   "execution_count": 448,
   "metadata": {},
   "outputs": [
    {
     "data": {
      "text/plain": [
       "(22169, 13)"
      ]
     },
     "execution_count": 448,
     "metadata": {},
     "output_type": "execute_result"
    }
   ],
   "source": [
    "df_huyen_tuy_duc.shape"
   ]
  },
  {
   "cell_type": "markdown",
   "metadata": {},
   "source": [
    "> Xóa bỏ giá trị trùng lặp"
   ]
  },
  {
   "cell_type": "code",
   "execution_count": 449,
   "metadata": {},
   "outputs": [],
   "source": [
    "df_huyen_tuy_duc.drop_duplicates(inplace=True)"
   ]
  },
  {
   "cell_type": "code",
   "execution_count": 450,
   "metadata": {},
   "outputs": [
    {
     "data": {
      "text/plain": [
       "(22168, 13)"
      ]
     },
     "execution_count": 450,
     "metadata": {},
     "output_type": "execute_result"
    }
   ],
   "source": [
    "df_huyen_tuy_duc.shape"
   ]
  },
  {
   "cell_type": "code",
   "execution_count": 451,
   "metadata": {},
   "outputs": [
    {
     "data": {
      "text/plain": [
       "STT_HO               13307\n",
       "STT                      0\n",
       "HO_TEN_CHU_HO            0\n",
       "HO_TEN_THANH_VIEN       22\n",
       "QUANHE_CHUHO            17\n",
       "NGAY_SINH               18\n",
       "GIOI_TINH                1\n",
       "SO_CCCD                128\n",
       "TINH                     0\n",
       "HUYEN                    0\n",
       "XA                       0\n",
       "DANTOC                  24\n",
       "PHAN_LOAI_HO             0\n",
       "dtype: int64"
      ]
     },
     "execution_count": 451,
     "metadata": {},
     "output_type": "execute_result"
    }
   ],
   "source": [
    "df_huyen_tuy_duc.isnull().sum()"
   ]
  },
  {
   "cell_type": "markdown",
   "metadata": {},
   "source": [
    "> Điền giá trị phổ biến cho cột dân tộc theo xã"
   ]
  },
  {
   "cell_type": "code",
   "execution_count": 452,
   "metadata": {},
   "outputs": [],
   "source": [
    "df_huyen_tuy_duc=fill_missing_dantoc(df_huyen_tuy_duc)"
   ]
  },
  {
   "cell_type": "markdown",
   "metadata": {},
   "source": [
    "> Điền giá trị phổ biến cho cột giới tính"
   ]
  },
  {
   "cell_type": "code",
   "execution_count": 453,
   "metadata": {},
   "outputs": [],
   "source": [
    "# Tính giá trị phổ biến nhất trong cột GIOI_TINH\n",
    "most_common_gender = df_huyen_tuy_duc['GIOI_TINH'].mode()[0]\n",
    "\n",
    "# Điền giá trị phổ biến vào các ô trống\n",
    "df_huyen_tuy_duc.fillna({'GIOI_TINH': most_common_gender}, inplace=True)"
   ]
  },
  {
   "cell_type": "markdown",
   "metadata": {},
   "source": [
    "> Tính tuổi dựa trên ngày sinh"
   ]
  },
  {
   "cell_type": "code",
   "execution_count": 454,
   "metadata": {},
   "outputs": [],
   "source": [
    "df_huyen_tuy_duc['TUOI']=round(df_huyen_tuy_duc['NGAY_SINH'].apply(calculate_age))\n"
   ]
  },
  {
   "cell_type": "code",
   "execution_count": 455,
   "metadata": {},
   "outputs": [
    {
     "data": {
      "text/plain": [
       "STT_HO               13307\n",
       "STT                      0\n",
       "HO_TEN_CHU_HO            0\n",
       "HO_TEN_THANH_VIEN       22\n",
       "QUANHE_CHUHO            17\n",
       "NGAY_SINH               18\n",
       "GIOI_TINH                0\n",
       "SO_CCCD                128\n",
       "TINH                     0\n",
       "HUYEN                    0\n",
       "XA                       0\n",
       "DANTOC                   0\n",
       "PHAN_LOAI_HO             0\n",
       "TUOI                   377\n",
       "dtype: int64"
      ]
     },
     "execution_count": 455,
     "metadata": {},
     "output_type": "execute_result"
    }
   ],
   "source": [
    "df_huyen_tuy_duc.isnull().sum()"
   ]
  },
  {
   "cell_type": "markdown",
   "metadata": {},
   "source": [
    "> Điền giá trị trung bình cho các hàng không tính tuổi được"
   ]
  },
  {
   "cell_type": "code",
   "execution_count": 456,
   "metadata": {},
   "outputs": [],
   "source": [
    "# Tính giá trị trung bình trong cột Tuổi\n",
    "most_common_year_old = df_huyen_tuy_duc['TUOI'].mean()\n",
    "\n",
    "# Điền giá trị trung bình  vào các ô trống\n",
    "df_huyen_tuy_duc.fillna({'TUOI': most_common_year_old }, inplace=True)"
   ]
  },
  {
   "cell_type": "markdown",
   "metadata": {},
   "source": [
    "> Điền giá trị phổ biến cho cột QUANHE_CHUHO theo từng xã"
   ]
  },
  {
   "cell_type": "code",
   "execution_count": 457,
   "metadata": {},
   "outputs": [],
   "source": [
    "df_huyen_tuy_duc = fill_missing_quanhe_chuho(df_huyen_tuy_duc)"
   ]
  },
  {
   "cell_type": "markdown",
   "metadata": {},
   "source": [
    "> Ban đầu ta có (22181, 24) sau khi tiền xử lí dữ liệu thì còn (22048, 14)"
   ]
  },
  {
   "cell_type": "code",
   "execution_count": 458,
   "metadata": {},
   "outputs": [
    {
     "data": {
      "text/plain": [
       "(22168, 14)"
      ]
     },
     "execution_count": 458,
     "metadata": {},
     "output_type": "execute_result"
    }
   ],
   "source": [
    "df_huyen_tuy_duc.shape"
   ]
  },
  {
   "cell_type": "code",
   "execution_count": 459,
   "metadata": {},
   "outputs": [
    {
     "data": {
      "text/html": [
       "<div>\n",
       "<style scoped>\n",
       "    .dataframe tbody tr th:only-of-type {\n",
       "        vertical-align: middle;\n",
       "    }\n",
       "\n",
       "    .dataframe tbody tr th {\n",
       "        vertical-align: top;\n",
       "    }\n",
       "\n",
       "    .dataframe thead th {\n",
       "        text-align: right;\n",
       "    }\n",
       "</style>\n",
       "<table border=\"1\" class=\"dataframe\">\n",
       "  <thead>\n",
       "    <tr style=\"text-align: right;\">\n",
       "      <th></th>\n",
       "      <th>STT_HO</th>\n",
       "      <th>STT</th>\n",
       "      <th>HO_TEN_CHU_HO</th>\n",
       "      <th>HO_TEN_THANH_VIEN</th>\n",
       "      <th>QUANHE_CHUHO</th>\n",
       "      <th>NGAY_SINH</th>\n",
       "      <th>GIOI_TINH</th>\n",
       "      <th>SO_CCCD</th>\n",
       "      <th>TINH</th>\n",
       "      <th>HUYEN</th>\n",
       "      <th>XA</th>\n",
       "      <th>DANTOC</th>\n",
       "      <th>PHAN_LOAI_HO</th>\n",
       "      <th>TUOI</th>\n",
       "    </tr>\n",
       "  </thead>\n",
       "  <tbody>\n",
       "  </tbody>\n",
       "</table>\n",
       "</div>"
      ],
      "text/plain": [
       "Empty DataFrame\n",
       "Columns: [STT_HO, STT, HO_TEN_CHU_HO, HO_TEN_THANH_VIEN, QUANHE_CHUHO, NGAY_SINH, GIOI_TINH, SO_CCCD, TINH, HUYEN, XA, DANTOC, PHAN_LOAI_HO, TUOI]\n",
       "Index: []"
      ]
     },
     "execution_count": 459,
     "metadata": {},
     "output_type": "execute_result"
    }
   ],
   "source": [
    "df_huyen_tuy_duc[df_huyen_tuy_duc['PHAN_LOAI_HO'].isnull()]"
   ]
  },
  {
   "cell_type": "code",
   "execution_count": 460,
   "metadata": {},
   "outputs": [
    {
     "data": {
      "text/plain": [
       "STT_HO               13307\n",
       "STT                      0\n",
       "HO_TEN_CHU_HO            0\n",
       "HO_TEN_THANH_VIEN       22\n",
       "QUANHE_CHUHO             0\n",
       "NGAY_SINH               18\n",
       "GIOI_TINH                0\n",
       "SO_CCCD                128\n",
       "TINH                     0\n",
       "HUYEN                    0\n",
       "XA                       0\n",
       "DANTOC                   0\n",
       "PHAN_LOAI_HO             0\n",
       "TUOI                     0\n",
       "dtype: int64"
      ]
     },
     "execution_count": 460,
     "metadata": {},
     "output_type": "execute_result"
    }
   ],
   "source": [
    "df_huyen_tuy_duc.isnull().sum()"
   ]
  },
  {
   "cell_type": "markdown",
   "metadata": {},
   "source": [
    "> Chuyển đổi các thuộc tính sang biến phân loại"
   ]
  },
  {
   "cell_type": "code",
   "execution_count": 461,
   "metadata": {},
   "outputs": [],
   "source": [
    "mapping_phan_loai_ho={\n",
    "    'POOR':1,\n",
    "    'NEAR_POOR':2\n",
    "}\n",
    "df_huyen_tuy_duc['PHAN_LOAI_HO']=df_huyen_tuy_duc['PHAN_LOAI_HO'].map(mapping_phan_loai_ho)"
   ]
  },
  {
   "cell_type": "code",
   "execution_count": 462,
   "metadata": {},
   "outputs": [],
   "source": [
    "gioi_tinh_mapping = {\n",
    "    'FEMALE': 2,\n",
    "    'MALE': 1\n",
    "}\n",
    "\n",
    "# Thay đổi giá trị trong cột 'GIOI_TINH' theo từ điển ánh xạ\n",
    "df_huyen_tuy_duc['GIOI_TINH'] = df_huyen_tuy_duc['GIOI_TINH'].map(gioi_tinh_mapping)"
   ]
  },
  {
   "cell_type": "code",
   "execution_count": 463,
   "metadata": {},
   "outputs": [
    {
     "data": {
      "text/plain": [
       "array(['QUẢNG TÂN', 'QUẢNG TRỰC', 'QUẢNG TÂM', 'ĐẮK BÚK SO', 'ĐẮK NGO',\n",
       "       \"ĐẮ R'TÍH\"], dtype=object)"
      ]
     },
     "execution_count": 463,
     "metadata": {},
     "output_type": "execute_result"
    }
   ],
   "source": [
    "df_huyen_tuy_duc['XA'].unique()"
   ]
  },
  {
   "cell_type": "code",
   "execution_count": 464,
   "metadata": {},
   "outputs": [],
   "source": [
    "# Định nghĩa từ điển ánh xạ giá trị cũ sang giá trị mới\n",
    "mapping_dan_toc = {\n",
    "    'KIN': 1, 'NUN': 7, 'TAY': 2, 'MNO': 20, 'MUO': 6, 'GIR': 10, 'THA': 3,\n",
    "    'KHM': 5, 'DAO': 9, 'HMO': 8, 'EDE': 12, 'SAC': 15, 'HOA': 4, 'SAD': 18,\n",
    "    'THO': 24, 'COO': 30, 'CHO': 32, 'RAG': 21, 'XTI': 22, 'MAA': 28, 'CHA': 17,\n",
    "    'LAO': 37, 'BAN': 13, 'CHR': 36, 'XED': 14,'56':56\n",
    "}\n",
    "\n",
    "# Thực hiện thay đổi giá trị trong cột 'DANTOC' của DataFrame\n",
    "df_huyen_tuy_duc['DANTOC'] = df_huyen_tuy_duc['DANTOC'].map(mapping_dan_toc)\n"
   ]
  },
  {
   "cell_type": "markdown",
   "metadata": {},
   "source": [
    "> Xuất file"
   ]
  },
  {
   "cell_type": "code",
   "execution_count": 465,
   "metadata": {},
   "outputs": [],
   "source": [
    "df_huyen_tuy_duc.to_excel(\"../data_processed/HUYỆN TUY ĐỨC.xlsx\")"
   ]
  },
  {
   "cell_type": "markdown",
   "metadata": {},
   "source": [
    "#### 2.1.8. TP GIA NGHĨA.xlsx"
   ]
  },
  {
   "cell_type": "markdown",
   "metadata": {},
   "source": [
    "> Kiểm tra giá trị null"
   ]
  },
  {
   "cell_type": "code",
   "execution_count": 466,
   "metadata": {},
   "outputs": [
    {
     "data": {
      "text/plain": [
       "Unnamed: 0             0\n",
       "STT_HO               728\n",
       "STT                    0\n",
       "HO_TEN_CHU_HO          0\n",
       "HO_TEN_THANH_VIEN      0\n",
       "QUANHE_CHUHO           0\n",
       "NGAY_SINH              4\n",
       "NGAY_SINH.1            3\n",
       "Ngày                  15\n",
       "Tháng                 15\n",
       "Năm                    3\n",
       "GIOI_TINH              2\n",
       "SO_CCCD               66\n",
       "TINH                   0\n",
       "HUYEN                  0\n",
       "XA                     0\n",
       "Thôn, Bon, TDP         0\n",
       "DANTOC                 0\n",
       "PHAN_LOAI_HO           0\n",
       "KET_QUA                0\n",
       "GHI_CHU              727\n",
       "DC_DINHDANH          150\n",
       "DC_CMND              501\n",
       "Unnamed: 23          947\n",
       "Unnamed: 24          899\n",
       "dtype: int64"
      ]
     },
     "execution_count": 466,
     "metadata": {},
     "output_type": "execute_result"
    }
   ],
   "source": [
    "df_tp_gia_nghia.isnull().sum()"
   ]
  },
  {
   "cell_type": "code",
   "execution_count": 467,
   "metadata": {},
   "outputs": [
    {
     "data": {
      "text/plain": [
       "(969, 25)"
      ]
     },
     "execution_count": 467,
     "metadata": {},
     "output_type": "execute_result"
    }
   ],
   "source": [
    "df_tp_gia_nghia.shape"
   ]
  },
  {
   "cell_type": "code",
   "execution_count": 468,
   "metadata": {},
   "outputs": [
    {
     "data": {
      "text/plain": [
       "Index(['Unnamed: 0', 'STT_HO', 'STT', 'HO_TEN_CHU_HO', 'HO_TEN_THANH_VIEN',\n",
       "       'QUANHE_CHUHO', 'NGAY_SINH', 'NGAY_SINH.1', 'Ngày', 'Tháng', 'Năm',\n",
       "       'GIOI_TINH', 'SO_CCCD', 'TINH', 'HUYEN', 'XA', 'Thôn, Bon, TDP',\n",
       "       'DANTOC', 'PHAN_LOAI_HO', 'KET_QUA', 'GHI_CHU', 'DC_DINHDANH',\n",
       "       'DC_CMND', 'Unnamed: 23', 'Unnamed: 24'],\n",
       "      dtype='object')"
      ]
     },
     "execution_count": 468,
     "metadata": {},
     "output_type": "execute_result"
    }
   ],
   "source": [
    "df_tp_gia_nghia.columns"
   ]
  },
  {
   "cell_type": "markdown",
   "metadata": {},
   "source": [
    "> Xoá những người đã chết,cắt hộ nghèo, chuyển vùng"
   ]
  },
  {
   "cell_type": "code",
   "execution_count": 469,
   "metadata": {},
   "outputs": [],
   "source": [
    "# List of values to filter out\n",
    "values_to_drop = [\"cắt hộ nghèo\",\"ĐÃ CHẾT\", \"chết\", \"CHẾT RỒI\",\"CHẾT\", \"CHUYỂN ĐI\",\"mới chết\", \"CHẾT RÒI\", \"CHUYỂN\",\"chuyển\",\"Chết\",\"chuyển đi\",\"cắt khẩu\",\"chuyển khẩu\",\"CẮT CHUYỂN KHẨU\",\"ĐÃ CHUYỂN HK\",\"KHÔNG CÓ TẠI ĐỊA PHƯƠNG\",\"Đã chuyển khẩu\",\"đã chết\"]\n",
    "# Iterate over each column and filter rows containing values_to_drop\n",
    "for column in df_tp_gia_nghia.columns:\n",
    "    df_tp_gia_nghia = df_tp_gia_nghia[~df_tp_gia_nghia[column].isin(values_to_drop)]"
   ]
  },
  {
   "cell_type": "markdown",
   "metadata": {},
   "source": [
    "> Kết quả sau khi xóa bỏ"
   ]
  },
  {
   "cell_type": "code",
   "execution_count": 470,
   "metadata": {},
   "outputs": [
    {
     "data": {
      "text/plain": [
       "(969, 25)"
      ]
     },
     "execution_count": 470,
     "metadata": {},
     "output_type": "execute_result"
    }
   ],
   "source": [
    "df_tp_gia_nghia.shape"
   ]
  },
  {
   "cell_type": "code",
   "execution_count": 471,
   "metadata": {},
   "outputs": [
    {
     "data": {
      "text/plain": [
       "Index(['Unnamed: 0', 'STT_HO', 'STT', 'HO_TEN_CHU_HO', 'HO_TEN_THANH_VIEN',\n",
       "       'QUANHE_CHUHO', 'NGAY_SINH', 'NGAY_SINH.1', 'Ngày', 'Tháng', 'Năm',\n",
       "       'GIOI_TINH', 'SO_CCCD', 'TINH', 'HUYEN', 'XA', 'Thôn, Bon, TDP',\n",
       "       'DANTOC', 'PHAN_LOAI_HO', 'KET_QUA', 'GHI_CHU', 'DC_DINHDANH',\n",
       "       'DC_CMND', 'Unnamed: 23', 'Unnamed: 24'],\n",
       "      dtype='object')"
      ]
     },
     "execution_count": 471,
     "metadata": {},
     "output_type": "execute_result"
    }
   ],
   "source": [
    "df_tp_gia_nghia.columns"
   ]
  },
  {
   "cell_type": "markdown",
   "metadata": {},
   "source": [
    "> Các cột như Thôn, Bon, TDP,'KET_QUA', 'GHI_CHU', 'DC_DINHDANH',\n",
    "       'DC_CMND', 'Unnamed: 23', 'Unnamed: 24','Unnamed: 0','NGAY_SINH.1', 'Ngày', 'Tháng', 'Năm' không có ý nghĩa phân tích nên ta sẽ xoá bỏ "
   ]
  },
  {
   "cell_type": "code",
   "execution_count": 472,
   "metadata": {},
   "outputs": [],
   "source": [
    "features=['Thôn, Bon, TDP','KET_QUA', 'GHI_CHU', 'DC_DINHDANH',\n",
    "       'DC_CMND', 'Unnamed: 23', 'Unnamed: 24','Unnamed: 0','NGAY_SINH.1', 'Ngày', 'Tháng', 'Năm']\n",
    "df_tp_gia_nghia.drop(columns=features,inplace=True)"
   ]
  },
  {
   "cell_type": "code",
   "execution_count": 473,
   "metadata": {},
   "outputs": [
    {
     "data": {
      "text/plain": [
       "(969, 13)"
      ]
     },
     "execution_count": 473,
     "metadata": {},
     "output_type": "execute_result"
    }
   ],
   "source": [
    "df_tp_gia_nghia.shape"
   ]
  },
  {
   "cell_type": "markdown",
   "metadata": {},
   "source": [
    "> Xóa giá trị trùng lặp"
   ]
  },
  {
   "cell_type": "code",
   "execution_count": 474,
   "metadata": {},
   "outputs": [],
   "source": [
    "df_tp_gia_nghia.drop_duplicates(inplace=True)"
   ]
  },
  {
   "cell_type": "code",
   "execution_count": 475,
   "metadata": {},
   "outputs": [
    {
     "data": {
      "text/plain": [
       "(969, 13)"
      ]
     },
     "execution_count": 475,
     "metadata": {},
     "output_type": "execute_result"
    }
   ],
   "source": [
    "df_tp_gia_nghia.shape"
   ]
  },
  {
   "cell_type": "code",
   "execution_count": 476,
   "metadata": {},
   "outputs": [
    {
     "data": {
      "text/plain": [
       "STT_HO               728\n",
       "STT                    0\n",
       "HO_TEN_CHU_HO          0\n",
       "HO_TEN_THANH_VIEN      0\n",
       "QUANHE_CHUHO           0\n",
       "NGAY_SINH              4\n",
       "GIOI_TINH              2\n",
       "SO_CCCD               66\n",
       "TINH                   0\n",
       "HUYEN                  0\n",
       "XA                     0\n",
       "DANTOC                 0\n",
       "PHAN_LOAI_HO           0\n",
       "dtype: int64"
      ]
     },
     "execution_count": 476,
     "metadata": {},
     "output_type": "execute_result"
    }
   ],
   "source": [
    "df_tp_gia_nghia.isnull().sum()"
   ]
  },
  {
   "cell_type": "markdown",
   "metadata": {},
   "source": [
    "> Điền giá trị phổ biến cho cột giới tính"
   ]
  },
  {
   "cell_type": "code",
   "execution_count": 477,
   "metadata": {},
   "outputs": [],
   "source": [
    "# Tính giá trị phổ biến nhất trong cột GIOI_TINH\n",
    "most_common_gender = df_tp_gia_nghia['GIOI_TINH'].mode()[0]\n",
    "\n",
    "# Điền giá trị phổ biến vào các ô trống\n",
    "df_tp_gia_nghia.fillna({'GIOI_TINH': most_common_gender}, inplace=True)"
   ]
  },
  {
   "cell_type": "code",
   "execution_count": 478,
   "metadata": {},
   "outputs": [
    {
     "data": {
      "text/plain": [
       "(969, 13)"
      ]
     },
     "execution_count": 478,
     "metadata": {},
     "output_type": "execute_result"
    }
   ],
   "source": [
    "df_tp_gia_nghia.shape"
   ]
  },
  {
   "cell_type": "markdown",
   "metadata": {},
   "source": [
    "> Tính tuổi dựa trên ngày sinh"
   ]
  },
  {
   "cell_type": "code",
   "execution_count": 479,
   "metadata": {},
   "outputs": [],
   "source": [
    "# Chuyển cột NGAY_SINH thành kiểu datetime với xử lý lỗi 'coerce'\n",
    "df_tp_gia_nghia['NGAY_SINH'] = pd.to_datetime(df_tp_gia_nghia['NGAY_SINH'], errors='coerce')\n",
    "\n",
    "# Loại bỏ các dòng có NGAY_SINH là NaT\n",
    "df_tp_gia_nghia = df_tp_gia_nghia.dropna(subset=['NGAY_SINH'])\n",
    "\n",
    "# Chuyển đổi NGAY_SINH thành chuỗi yyyy-mm-dd\n",
    "df_tp_gia_nghia['NGAY_SINH'] = df_tp_gia_nghia['NGAY_SINH'].dt.strftime('%Y-%m-%d')\n",
    "\n",
    "# Tính tuổi từ ngày sinh\n",
    "def calculate_age_tp(birthdate):\n",
    "    today = datetime.today()\n",
    "    age = today.year - birthdate.year - ((today.month, today.day) < (birthdate.month, birthdate.day))\n",
    "    return age\n",
    "\n",
    "# Áp dụng hàm tính tuổi vào dataframe\n",
    "df_tp_gia_nghia['TUOI'] = round(df_tp_gia_nghia['NGAY_SINH'].apply(lambda x: calculate_age_tp(datetime.strptime(x, '%Y-%m-%d'))))"
   ]
  },
  {
   "cell_type": "code",
   "execution_count": 480,
   "metadata": {},
   "outputs": [
    {
     "data": {
      "text/plain": [
       "(958, 14)"
      ]
     },
     "execution_count": 480,
     "metadata": {},
     "output_type": "execute_result"
    }
   ],
   "source": [
    "df_tp_gia_nghia.shape"
   ]
  },
  {
   "cell_type": "code",
   "execution_count": 481,
   "metadata": {},
   "outputs": [
    {
     "data": {
      "text/plain": [
       "STT_HO               721\n",
       "STT                    0\n",
       "HO_TEN_CHU_HO          0\n",
       "HO_TEN_THANH_VIEN      0\n",
       "QUANHE_CHUHO           0\n",
       "NGAY_SINH              0\n",
       "GIOI_TINH              0\n",
       "SO_CCCD               66\n",
       "TINH                   0\n",
       "HUYEN                  0\n",
       "XA                     0\n",
       "DANTOC                 0\n",
       "PHAN_LOAI_HO           0\n",
       "TUOI                   0\n",
       "dtype: int64"
      ]
     },
     "execution_count": 481,
     "metadata": {},
     "output_type": "execute_result"
    }
   ],
   "source": [
    "df_tp_gia_nghia.isnull().sum()"
   ]
  },
  {
   "cell_type": "markdown",
   "metadata": {},
   "source": [
    "> Điền giá trị phổ biến cho cột QUANHE_CHUHO theo từng xã"
   ]
  },
  {
   "cell_type": "code",
   "execution_count": 482,
   "metadata": {},
   "outputs": [],
   "source": [
    "df_tp_gia_nghia = fill_missing_quanhe_chuho(df_tp_gia_nghia )"
   ]
  },
  {
   "cell_type": "markdown",
   "metadata": {},
   "source": [
    "> Chuyển đổi các thuộc tính sang biến phân loại"
   ]
  },
  {
   "cell_type": "code",
   "execution_count": 483,
   "metadata": {},
   "outputs": [],
   "source": [
    "gioi_tinh_mapping = {\n",
    "    'FEMALE': 2,\n",
    "    'MALE': 1\n",
    "}\n",
    "\n",
    "# Thay đổi giá trị trong cột 'GIOI_TINH' theo từ điển ánh xạ\n",
    "df_tp_gia_nghia['GIOI_TINH'] = df_tp_gia_nghia['GIOI_TINH'].map(gioi_tinh_mapping)"
   ]
  },
  {
   "cell_type": "code",
   "execution_count": 484,
   "metadata": {},
   "outputs": [],
   "source": [
    "mapping_phan_loai_ho={\n",
    "    'POOR':1,\n",
    "    'NEAR_POOR':2\n",
    "}\n",
    "df_tp_gia_nghia['PHAN_LOAI_HO']=df_tp_gia_nghia['PHAN_LOAI_HO'].map(mapping_phan_loai_ho)"
   ]
  },
  {
   "cell_type": "code",
   "execution_count": 485,
   "metadata": {},
   "outputs": [],
   "source": [
    "mapping_dan_toc = {\n",
    "    'KIN': 1,\n",
    "    'TAY': 2,\n",
    "    'THA': 3,\n",
    "    'MNO': 20,\n",
    "    'HOA': 4,\n",
    "    'NUN': 7,\n",
    "    'THO': 24,\n",
    "    'MAA': 28,\n",
    "    'EDE': 12,\n",
    "    'KHM': 5,\n",
    "    'DAO': 9,\n",
    "    'HMO': 8,\n",
    "    'SAC': 15,\n",
    "    'CHU': 44,\n",
    "    'MUO': 6\n",
    "}\n",
    "\n",
    "df_tp_gia_nghia['DANTOC'] = df_tp_gia_nghia['DANTOC'].map(mapping_dan_toc)"
   ]
  },
  {
   "cell_type": "markdown",
   "metadata": {},
   "source": [
    "> Ban đầu ta có (969, 25) sau khi tiền xử lí thì còn lại (892, 14)"
   ]
  },
  {
   "cell_type": "code",
   "execution_count": 486,
   "metadata": {},
   "outputs": [
    {
     "data": {
      "text/plain": [
       "(958, 14)"
      ]
     },
     "execution_count": 486,
     "metadata": {},
     "output_type": "execute_result"
    }
   ],
   "source": [
    "df_tp_gia_nghia.shape"
   ]
  },
  {
   "cell_type": "code",
   "execution_count": 487,
   "metadata": {},
   "outputs": [
    {
     "data": {
      "text/plain": [
       "STT_HO               721\n",
       "STT                    0\n",
       "HO_TEN_CHU_HO          0\n",
       "HO_TEN_THANH_VIEN      0\n",
       "QUANHE_CHUHO           0\n",
       "NGAY_SINH              0\n",
       "GIOI_TINH              0\n",
       "SO_CCCD               66\n",
       "TINH                   0\n",
       "HUYEN                  0\n",
       "XA                     0\n",
       "DANTOC                 0\n",
       "PHAN_LOAI_HO           0\n",
       "TUOI                   0\n",
       "dtype: int64"
      ]
     },
     "execution_count": 487,
     "metadata": {},
     "output_type": "execute_result"
    }
   ],
   "source": [
    "df_tp_gia_nghia.isnull().sum()"
   ]
  },
  {
   "cell_type": "markdown",
   "metadata": {},
   "source": [
    "> Xuất File"
   ]
  },
  {
   "cell_type": "code",
   "execution_count": 488,
   "metadata": {},
   "outputs": [],
   "source": [
    "df_tp_gia_nghia.to_excel(\"../data_processed/TP GIA NGHĨA.xlsx\")"
   ]
  },
  {
   "cell_type": "markdown",
   "metadata": {},
   "source": [
    ">"
   ]
  },
  {
   "cell_type": "markdown",
   "metadata": {},
   "source": [
    "> "
   ]
  }
 ],
 "metadata": {
  "kernelspec": {
   "display_name": "DM-xmUrTfoX",
   "language": "python",
   "name": "python3"
  },
  "language_info": {
   "codemirror_mode": {
    "name": "ipython",
    "version": 3
   },
   "file_extension": ".py",
   "mimetype": "text/x-python",
   "name": "python",
   "nbconvert_exporter": "python",
   "pygments_lexer": "ipython3",
   "version": "3.11.5"
  }
 },
 "nbformat": 4,
 "nbformat_minor": 2
}
